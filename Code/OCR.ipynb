{
  "nbformat": 4,
  "nbformat_minor": 0,
  "metadata": {
    "colab": {
      "name": "OCR.ipynb",
      "provenance": [],
      "collapsed_sections": [],
      "machine_shape": "hm"
    },
    "kernelspec": {
      "name": "python3",
      "display_name": "Python 3"
    }
  },
  "cells": [
    {
      "cell_type": "code",
      "metadata": {
        "id": "tqV3oHrg8mY-",
        "colab_type": "code",
        "colab": {}
      },
      "source": [
        "from __future__ import print_function, division\n",
        "import os\n",
        "import torch\n",
        "from skimage import io, transform\n",
        "import numpy as np\n",
        "import matplotlib.pyplot as plt\n",
        "from torch.utils.data import Dataset, DataLoader\n",
        "from torchvision import transforms, utils\n",
        "from skimage import io\n",
        "import torch.nn as nn\n",
        "import torch.nn.functional as F\n",
        "\n",
        "from skimage.color import rgb2gray\n",
        "\n",
        "import PIL\n",
        "from PIL import Image"
      ],
      "execution_count": 0,
      "outputs": []
    },
    {
      "cell_type": "code",
      "metadata": {
        "id": "qZPVvFlrIHMt",
        "colab_type": "code",
        "outputId": "3ecfeaa3-c425-4928-e093-8e7b7b67dbbb",
        "colab": {
          "base_uri": "https://localhost:8080/",
          "height": 161
        }
      },
      "source": [
        "%cd /content/\n",
        "if(os.path.isdir('/content/Lithuanian_OCR') == False):\n",
        "  !git clone https://github.com/PauliusMilmantas/Lithuanian_OCR"
      ],
      "execution_count": 2,
      "outputs": [
        {
          "output_type": "stream",
          "text": [
            "/content\n",
            "Cloning into 'Lithuanian_OCR'...\n",
            "remote: Enumerating objects: 1198, done.\u001b[K\n",
            "remote: Counting objects: 100% (1198/1198), done.\u001b[K\n",
            "remote: Compressing objects: 100% (647/647), done.\u001b[K\n",
            "remote: Total 1198 (delta 541), reused 1139 (delta 483), pack-reused 0\u001b[K\n",
            "Receiving objects: 100% (1198/1198), 1.84 MiB | 12.34 MiB/s, done.\n",
            "Resolving deltas: 100% (541/541), done.\n"
          ],
          "name": "stdout"
        }
      ]
    },
    {
      "cell_type": "code",
      "metadata": {
        "id": "4dizldPQRNUj",
        "colab_type": "code",
        "colab": {}
      },
      "source": [
        "class ORCDataset(Dataset):\n",
        "  def __init__(self, root):\n",
        "    self.root = root\n",
        "\n",
        "  def __len__(self):\n",
        "    lt = 0\n",
        "    classes = os.listdir(self.root)\n",
        "    for cl in classes:\n",
        "      lt += len(os.listdir(self.root + '/' + cl))\n",
        "\n",
        "    return lt\n",
        "\n",
        "  def __getitem__(self, idx):\n",
        "    if torch.is_tensor(idx):\n",
        "     idx = idx.tolist()\n",
        "\n",
        "    if(idx <= len(self)):\n",
        "      found_file = \"\"\n",
        "      found_type = \"\"\n",
        "\n",
        "      fldrs = os.listdir(self.root)\n",
        "      for fld in fldrs:\n",
        "        fls = os.listdir(self.root + '/' + fld + '/')\n",
        "        for fl in fls:\n",
        "          if(fl == str(idx) + \".jpg\"):\n",
        "            found_file = self.root + '/' + fld + '/' + fl         \n",
        "            found_type = fld\n",
        "\n",
        "      try:\n",
        "        img = io.imread(found_file)\n",
        "        # img = rgb2gray(img)\n",
        "\n",
        "        return {'image': img, 'class_name': found_type}\n",
        "      except:\n",
        "        if(found_file != \"\"):\n",
        "          print(\"Bad file: \" + found_file)\n",
        "        else:\n",
        "          print(\"File not found, idx = \" + str(idx))\n",
        "    else:\n",
        "      print()\n",
        "      raise Exception(\"Dataset index out of boundaries\")\n",
        "\n",
        "train_dataset = ORCDataset('/content/Lithuanian_OCR/Data/training')\n",
        "val_dataset = ORCDataset('/content/Lithuanian_OCR/Data/val')\n",
        "test_dataset = ORCDataset('/content/Lithuanian_OCR/Data/test')"
      ],
      "execution_count": 0,
      "outputs": []
    },
    {
      "cell_type": "code",
      "metadata": {
        "id": "KR2HO96n8pXN",
        "colab_type": "code",
        "colab": {}
      },
      "source": [
        "class Net(nn.Module):\n",
        "    def __init__(self, input_size, hidden1_size, hidden2_size, num_classes):\n",
        "        super(Net, self).__init__()\n",
        "        self.fc1 = nn.Linear(input_size, hidden1_size)\n",
        "        self.relu1 = nn.ReLU()\n",
        "        self.fc2 = nn.Linear(hidden1_size, hidden2_size)\n",
        "        self.relu2 = nn.ReLU()\n",
        "        self.fc3 = nn.Linear(hidden2_size, num_classes)  \n",
        "    \n",
        "    def forward(self, x):\n",
        "        out = self.fc1(x)\n",
        "        out = self.relu1(out)\n",
        "        out = self.fc2(out)\n",
        "        out = self.relu2(out)\n",
        "        out = self.fc3(out)\n",
        "        return out"
      ],
      "execution_count": 0,
      "outputs": []
    },
    {
      "cell_type": "code",
      "metadata": {
        "id": "MwTzb7K0_OSi",
        "colab_type": "code",
        "colab": {
          "base_uri": "https://localhost:8080/",
          "height": 143
        },
        "outputId": "2ff47db5-9600-426d-90b2-d3f3b09838c4"
      },
      "source": [
        "network = Net(595056, 130, 28, 20)\n",
        "optimizer = torch.optim.SGD(network.parameters(), lr=0.001, momentum=0.6)\n",
        "criterion = nn.MSELoss()\n",
        "\n",
        "print(network)"
      ],
      "execution_count": 79,
      "outputs": [
        {
          "output_type": "stream",
          "text": [
            "Net(\n",
            "  (fc1): Linear(in_features=595056, out_features=130, bias=True)\n",
            "  (relu1): ReLU()\n",
            "  (fc2): Linear(in_features=130, out_features=28, bias=True)\n",
            "  (relu2): ReLU()\n",
            "  (fc3): Linear(in_features=28, out_features=20, bias=True)\n",
            ")\n"
          ],
          "name": "stdout"
        }
      ]
    },
    {
      "cell_type": "code",
      "metadata": {
        "id": "KIOL9zLnKiEu",
        "colab_type": "code",
        "colab": {}
      },
      "source": [
        "train_loader = torch.utils.data.DataLoader(train_dataset, batch_size = len(train_dataset),shuffle=True)\n",
        "val_loader = torch.utils.data.DataLoader(val_dataset, batch_size = len(val_dataset), shuffle=True)\n",
        "test_loader = torch.utils.data.DataLoader(test_dataset, batch_size = len(test_dataset), shuffle=True)"
      ],
      "execution_count": 0,
      "outputs": []
    },
    {
      "cell_type": "code",
      "metadata": {
        "id": "SAi_TQWW-04_",
        "colab_type": "code",
        "colab": {
          "base_uri": "https://localhost:8080/",
          "height": 356
        },
        "outputId": "cc5cc4be-528b-4477-9f27-437f26262fb1"
      },
      "source": [
        "dataiter = iter(train_loader)\n",
        "itr = dataiter.next()\n",
        "\n",
        "label = itr['class_name']\n",
        "img = itr['image']\n",
        "print(\"Class name: {}\".format(label[0]))\n",
        "\n",
        "fig = plt.figure(figsize = (5,5)) \n",
        "ax = fig.add_subplot(111)\n",
        "ax.imshow(img[0])"
      ],
      "execution_count": 7,
      "outputs": [
        {
          "output_type": "stream",
          "text": [
            "Class name: c2\n"
          ],
          "name": "stdout"
        },
        {
          "output_type": "execute_result",
          "data": {
            "text/plain": [
              "<matplotlib.image.AxesImage at 0x7f04d79c0240>"
            ]
          },
          "metadata": {
            "tags": []
          },
          "execution_count": 7
        },
        {
          "output_type": "display_data",
          "data": {
            "image/png": "[encoded data removed]",
            "text/plain": [
              "<Figure size 360x360 with 1 Axes>"
            ]
          },
          "metadata": {
            "tags": [],
            "needs_background": "light"
          }
        }
      ]
    },
    {
      "cell_type": "code",
      "metadata": {
        "id": "LMbDr5k1BOPE",
        "colab_type": "code",
        "colab": {}
      },
      "source": [
        "epochs = 10\n",
        "\n",
        "train_losses = []\n",
        "train_counter = []\n",
        "test_losses = []\n",
        "test_counter = [i*len(train_loader.dataset) for i in range(10 + 1)]"
      ],
      "execution_count": 0,
      "outputs": []
    },
    {
      "cell_type": "code",
      "metadata": {
        "id": "aCwc6dI0BfdU",
        "colab_type": "code",
        "colab": {}
      },
      "source": [
        "!mkdir results"
      ],
      "execution_count": 0,
      "outputs": []
    },
    {
      "cell_type": "code",
      "metadata": {
        "id": "WNsrIgqgbT15",
        "colab_type": "code",
        "colab": {}
      },
      "source": [
        "def name_to_int(data):\n",
        "\n",
        "  switcher = {\n",
        "      'a': 1,\n",
        "      'a2': 2,\n",
        "      'b': 3,\n",
        "      'c': 4,\n",
        "      'c2': 5,\n",
        "      'd': 6,\n",
        "      'e': 7,\n",
        "      'e2': 8,\n",
        "      'e3': 9,\n",
        "      'f': 10,\n",
        "      'g': 11,\n",
        "      'h': 12,\n",
        "      'i': 13,\n",
        "      'i2': 14,\n",
        "      'j': 15,\n",
        "      'k': 16,\n",
        "      'l': 17,\n",
        "      'm': 18,\n",
        "      'n': 19,\n",
        "      'y': 20\n",
        "  }\n",
        "\n",
        "  new_data = []\n",
        "\n",
        "  for dt in data:\n",
        "    new_data.append(switcher.get(dt))\n",
        "\n",
        "  return new_data"
      ],
      "execution_count": 0,
      "outputs": []
    },
    {
      "cell_type": "code",
      "metadata": {
        "id": "rE8MNszDBZ_e",
        "colab_type": "code",
        "colab": {
          "base_uri": "https://localhost:8080/",
          "height": 451
        },
        "outputId": "f73a90bf-4dd4-49af-b981-3c3c1adf2986"
      },
      "source": [
        "def train(train_loader):\n",
        "  network.eval()\n",
        "  for data in train_loader:\n",
        "    images = data['image']\n",
        "    labels = torch.from_numpy(np.array(name_to_int(data['class_name'])))\n",
        "\n",
        "    optimizer.zero_grad()\n",
        "\n",
        "    outputs = network(images.flatten().float())\n",
        "\n",
        "    loss = criterion(outputs, images.view(-1, 1)) \n",
        "\n",
        "\n",
        "\n",
        "    print(labels)\n",
        "    print(outputs)\n",
        "\n",
        "    print(labels.size())\n",
        "    print(outputs.size())\n",
        "\n",
        "train(train_loader)"
      ],
      "execution_count": 86,
      "outputs": [
        {
          "output_type": "stream",
          "text": [
            "tensor([ 2,  5,  9, 14, 19,  8, 17, 14,  4, 11, 11, 13,  6, 18,  7,  5, 14, 18,\n",
            "         2, 10, 15, 12, 17, 17,  7, 17, 15, 18,  4, 13,  7, 10, 17, 15,  1, 14,\n",
            "        14,  1, 17, 16,  2, 11, 15, 19, 16,  9, 17,  7,  1, 13, 12,  3, 14, 12,\n",
            "        12, 13, 15, 12, 13,  9,  1, 19, 12, 11, 19, 20,  2,  2,  6,  3, 16,  1,\n",
            "        13,  2, 19, 10, 11,  1,  4, 17,  3, 10,  1, 13, 11, 20,  3, 16, 14,  5,\n",
            "        15,  5,  8, 16,  6,  7, 18,  2,  7,  4,  2, 19, 18, 11, 19, 15, 12, 13,\n",
            "        15, 10, 15, 17,  4, 10, 18,  3, 12, 10,  7, 15,  8, 20,  1, 13, 16, 18,\n",
            "         8, 18, 12,  5, 13,  1, 13,  8, 20, 19, 18,  4,  8,  5,  2,  4,  2,  9,\n",
            "        12, 19, 16, 12,  6,  6,  1, 12, 10, 20,  9, 10,  6,  1,  9, 10, 15,  4,\n",
            "        16,  6,  5, 17, 16,  5, 14, 17,  8, 10, 14,  3, 15,  9,  1,  7,  2,  7,\n",
            "        19,  2,  2,  3,  7, 20,  9, 13, 15, 20,  1, 20,  9, 10, 11, 17,  6,  1,\n",
            "         3, 19,  6, 10,  8,  1, 16,  2,  3,  5,  6, 12, 13,  1,  6, 14,  8, 19,\n",
            "        17, 16, 19, 18,  1,  5,  3, 20, 13, 17, 14, 15,  2,  1, 14, 11, 18,  4,\n",
            "         9, 13, 11,  2, 20,  2,  2, 20, 10,  5, 11, 14,  8,  1,  4,  9,  7, 12,\n",
            "         8])\n",
            "tensor([ 13.3378,  20.2990,  25.3360,  -4.1486,  -6.6098,   0.2526,  25.4795,\n",
            "          4.3241, -28.1605,  -8.1837,  -2.0775,  11.7416,  -0.6800,  26.7588,\n",
            "         -3.9208,   2.4867, -13.1660, -20.9474, -27.2188, -19.2198],\n",
            "       grad_fn=<AddBackward0>)\n",
            "torch.Size([253])\n",
            "torch.Size([20])\n"
          ],
          "name": "stdout"
        },
        {
          "output_type": "stream",
          "text": [
            "/usr/local/lib/python3.6/dist-packages/torch/nn/modules/loss.py:431: UserWarning: Using a target size (torch.Size([595056, 1])) that is different to the input size (torch.Size([20])). This will likely lead to incorrect results due to broadcasting. Please ensure they have the same size.\n",
            "  return F.mse_loss(input, target, reduction=self.reduction)\n"
          ],
          "name": "stderr"
        }
      ]
    }
  ]
}