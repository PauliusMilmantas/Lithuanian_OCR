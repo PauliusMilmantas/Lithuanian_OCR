{
  "nbformat": 4,
  "nbformat_minor": 0,
  "metadata": {
    "colab": {
      "name": "OCR.ipynb",
      "provenance": [],
      "collapsed_sections": [],
      "machine_shape": "hm"
    },
    "kernelspec": {
      "name": "python3",
      "display_name": "Python 3"
    },
    "accelerator": "GPU"
  },
  "cells": [
    {
      "cell_type": "code",
      "metadata": {
        "id": "tqV3oHrg8mY-",
        "colab_type": "code",
        "colab": {}
      },
      "source": [
        "from __future__ import print_function, division\n",
        "import os\n",
        "import torch\n",
        "from torch.optim.optimizer import Optimizer\n",
        "from skimage import io, transform\n",
        "import numpy as np\n",
        "import matplotlib.pyplot as plt\n",
        "from torch.utils.data import Dataset, DataLoader\n",
        "from torchvision import transforms, utils\n",
        "from skimage import io\n",
        "import torch.nn as nn\n",
        "import torch.nn.functional as F\n",
        "\n",
        "from skimage.color import rgb2gray\n",
        "\n",
        "from torch.utils.tensorboard import SummaryWriter\n",
        "\n",
        "import PIL\n",
        "from PIL import Image\n",
        "\n",
        "from google.colab import output"
      ],
      "execution_count": 0,
      "outputs": []
    },
    {
      "cell_type": "code",
      "metadata": {
        "id": "qZPVvFlrIHMt",
        "colab_type": "code",
        "outputId": "93dcd549-c940-4154-bf4b-1ef064bf527e",
        "colab": {
          "base_uri": "https://localhost:8080/",
          "height": 35
        }
      },
      "source": [
        "%cd /content/\n",
        "if(os.path.isdir('/content/Lithuanian_OCR') == False):\n",
        "  !git clone https://github.com/PauliusMilmantas/Lithuanian_OCR\n",
        "\n",
        "num_of_classes = 3"
      ],
      "execution_count": 35,
      "outputs": [
        {
          "output_type": "stream",
          "text": [
            "/content\n"
          ],
          "name": "stdout"
        }
      ]
    },
    {
      "cell_type": "code",
      "metadata": {
        "id": "4dizldPQRNUj",
        "colab_type": "code",
        "colab": {}
      },
      "source": [
        "class ORCDataset(Dataset):\n",
        "  def __init__(self, root):\n",
        "    self.root = root\n",
        "\n",
        "  def __len__(self):\n",
        "    lt = 0\n",
        "    classes = os.listdir(self.root)\n",
        "    for cl in classes:\n",
        "      lt += len(os.listdir(self.root + '/' + cl))\n",
        "\n",
        "    return lt\n",
        "\n",
        "  def __getitem__(self, idx):\n",
        "    if torch.is_tensor(idx):\n",
        "     idx = idx.tolist()\n",
        "\n",
        "    if(idx <= len(self)):\n",
        "      found_file = \"\"\n",
        "      found_type = \"\"\n",
        "\n",
        "      fldrs = os.listdir(self.root)\n",
        "      for fld in fldrs:\n",
        "        fls = os.listdir(self.root + '/' + fld + '/')\n",
        "        for fl in fls:\n",
        "          if(fl == str(idx) + \".jpg\"):\n",
        "            found_file = self.root + '/' + fld + '/' + fl         \n",
        "            found_type = fld\n",
        "\n",
        "      try:\n",
        "        img = io.imread(found_file)\n",
        "        img = rgb2gray(img)\n",
        "\n",
        "        return {'image': img, 'class_name': found_type}\n",
        "      except:\n",
        "        if(found_file != \"\"):\n",
        "          print(\"Bad file: \" + found_file)\n",
        "        else:\n",
        "          print(\"File not found, idx = \" + str(idx))\n",
        "    else:\n",
        "      print()\n",
        "      raise Exception(\"Dataset index out of boundaries\")\n",
        "\n",
        "train_dataset = ORCDataset('/content/Lithuanian_OCR/Data/batch-2/training')\n",
        "val_dataset = ORCDataset('/content/Lithuanian_OCR/Data/batch-2/val')\n",
        "test_dataset = ORCDataset('/content/Lithuanian_OCR/Data/batch-2/test')"
      ],
      "execution_count": 0,
      "outputs": []
    },
    {
      "cell_type": "code",
      "metadata": {
        "id": "KR2HO96n8pXN",
        "colab_type": "code",
        "colab": {}
      },
      "source": [
        "class Net(nn.Module):\n",
        "    def __init__(self, input_size, hidden1_size, hidden2_size, num_classes):\n",
        "        super(Net, self).__init__()\n",
        "        self.fc1 = nn.Linear(input_size, hidden1_size)\n",
        "        self.relu1 = nn.ReLU()\n",
        "        self.fc2 = nn.Linear(hidden1_size, hidden2_size)\n",
        "        self.relu2 = nn.ReLU()\n",
        "        self.fc3 = nn.Linear(hidden2_size, num_classes)  \n",
        "    \n",
        "    def forward(self, x):\n",
        "        out = self.fc1(x)\n",
        "        out = self.relu1(out)\n",
        "        out = self.fc2(out)        \n",
        "        out = self.relu2(out)     \n",
        "        out = self.fc3(out)\n",
        "        return out"
      ],
      "execution_count": 0,
      "outputs": []
    },
    {
      "cell_type": "code",
      "metadata": {
        "id": "HrA0syykfUCm",
        "colab_type": "code",
        "colab": {}
      },
      "source": [
        "class custom_sgd_optimizer(Optimizer):\n",
        "    def __init__(self, params, lr, momentum=0, dampening=0,\n",
        "                 weight_decay=0, nesterov=False):\n",
        "\n",
        "        defaults = dict(lr=lr, momentum=momentum, dampening=dampening,\n",
        "                        weight_decay=weight_decay, nesterov=nesterov)\n",
        "        if nesterov and (momentum <= 0 or dampening != 0):\n",
        "            raise ValueError(\"Nesterov momentum requires a momentum and zero dampening\")\n",
        "        super(custom_sgd_optimizer, self).__init__(params, defaults)\n",
        "\n",
        "    def __setstate__(self, state):\n",
        "        super(custom_sgd_optimizer, self).__setstate__(state)\n",
        "        for group in self.param_groups:\n",
        "            group.setdefault('nesterov', False)\n",
        "\n",
        "    @torch.no_grad()\n",
        "    def step(self, closure=None):\n",
        "        \"\"\"Performs a single optimization step.\n",
        "        Arguments:\n",
        "            closure (callable, optional): A closure that reevaluates the model\n",
        "                and returns the loss.\n",
        "        \"\"\"\n",
        "        loss = None\n",
        "        if closure is not None:\n",
        "            with torch.enable_grad():\n",
        "                loss = closure()\n",
        "\n",
        "        for group in self.param_groups:\n",
        "            weight_decay = group['weight_decay']\n",
        "            momentum = group['momentum']\n",
        "            dampening = group['dampening']\n",
        "            nesterov = group['nesterov']\n",
        "\n",
        "            for p in group['params']:\n",
        "                if p.grad is None:\n",
        "                    continue\n",
        "                d_p = p.grad\n",
        "                if weight_decay != 0:\n",
        "                    d_p = d_p.add(p, alpha=weight_decay)\n",
        "                if momentum != 0:\n",
        "                    param_state = self.state[p]\n",
        "                    if 'momentum_buffer' not in param_state:\n",
        "                        buf = param_state['momentum_buffer'] = torch.clone(d_p).detach()\n",
        "                    else:\n",
        "                        buf = param_state['momentum_buffer']\n",
        "                        buf.mul_(momentum).add_(d_p, alpha=1 - dampening)\n",
        "                    if nesterov:\n",
        "                        d_p = d_p.add(buf, alpha=momentum)\n",
        "                    else:\n",
        "                        d_p = buf\n",
        "\n",
        "                p.add_(d_p, alpha=-group['lr'])\n",
        "\n",
        "        return loss"
      ],
      "execution_count": 0,
      "outputs": []
    },
    {
      "cell_type": "code",
      "metadata": {
        "id": "MwTzb7K0_OSi",
        "colab_type": "code",
        "outputId": "bcad1dd9-7c2e-45d8-fdd7-601f05d33891",
        "colab": {
          "base_uri": "https://localhost:8080/",
          "height": 143
        }
      },
      "source": [
        "network = Net(4096, 1500, 300, num_of_classes)\n",
        "network.cuda()\n",
        "optimizer = torch.optim.SGD(network.parameters(), lr=0.0001, momentum=0.6)\n",
        "criterion = nn.MSELoss().cuda()\n",
        "\n",
        "print(network)"
      ],
      "execution_count": 62,
      "outputs": [
        {
          "output_type": "stream",
          "text": [
            "Net(\n",
            "  (fc1): Linear(in_features=4096, out_features=1500, bias=True)\n",
            "  (relu1): ReLU()\n",
            "  (fc2): Linear(in_features=1500, out_features=300, bias=True)\n",
            "  (relu2): ReLU()\n",
            "  (fc3): Linear(in_features=300, out_features=3, bias=True)\n",
            ")\n"
          ],
          "name": "stdout"
        }
      ]
    },
    {
      "cell_type": "code",
      "metadata": {
        "id": "lMDkqvToUO1X",
        "colab_type": "code",
        "colab": {}
      },
      "source": [
        "network.load_state_dict(torch.load('/content/Lithuanian_OCR/Trained_model/model.pth'))\n",
        "network.eval()\n",
        "\n",
        "optimizer = torch.optim.SGD(network.parameters(), lr=0.2, momentum=0.2)\n",
        "optimizer.load_state_dict(torch.load('/content/Lithuanian_OCR/Trained_model/optimizer.pth'))"
      ],
      "execution_count": 0,
      "outputs": []
    },
    {
      "cell_type": "code",
      "metadata": {
        "id": "dMTTpgG39U9y",
        "colab_type": "code",
        "outputId": "8c61dabd-03c2-4c40-9fcc-d97b3a1801b0",
        "colab": {
          "base_uri": "https://localhost:8080/",
          "height": 35
        }
      },
      "source": [
        "dev = torch.device(\"cuda\") if torch.cuda.is_available() else torch.device(\"cpu\")\n",
        "network.to(dev)\n",
        "criterion.to(dev)\n",
        "dev"
      ],
      "execution_count": 63,
      "outputs": [
        {
          "output_type": "execute_result",
          "data": {
            "text/plain": [
              "device(type='cuda')"
            ]
          },
          "metadata": {
            "tags": []
          },
          "execution_count": 63
        }
      ]
    },
    {
      "cell_type": "code",
      "metadata": {
        "id": "FsOVe0KqWNts",
        "colab_type": "code",
        "outputId": "ebbc371e-d989-4282-8ac8-6e53d4e0529f",
        "colab": {
          "base_uri": "https://localhost:8080/",
          "height": 125
        }
      },
      "source": [
        "device = torch.device('cuda' if torch.cuda.is_available() else 'cpu')\n",
        "print('Using device:', device)\n",
        "print()\n",
        "\n",
        "#Additional Info when using cuda\n",
        "if device.type == 'cuda':\n",
        "    print(torch.cuda.get_device_name(0))\n",
        "    print('Memory Usage:')\n",
        "    print('Allocated:', round(torch.cuda.memory_allocated(0)/1024**3,1), 'GB')\n",
        "    print('Cached:   ', round(torch.cuda.memory_cached(0)/1024**3,1), 'GB')"
      ],
      "execution_count": 64,
      "outputs": [
        {
          "output_type": "stream",
          "text": [
            "Using device: cuda\n",
            "\n",
            "Tesla K80\n",
            "Memory Usage:\n",
            "Allocated: 0.2 GB\n",
            "Cached:    0.3 GB\n"
          ],
          "name": "stdout"
        }
      ]
    },
    {
      "cell_type": "code",
      "metadata": {
        "id": "KIOL9zLnKiEu",
        "colab_type": "code",
        "colab": {}
      },
      "source": [
        "train_loader = torch.utils.data.DataLoader(train_dataset, batch_size = len(train_dataset),shuffle=True)\n",
        "val_loader = torch.utils.data.DataLoader(val_dataset, batch_size = len(val_dataset), shuffle=True)\n",
        "test_loader = torch.utils.data.DataLoader(test_dataset, batch_size = len(test_dataset), shuffle=True)"
      ],
      "execution_count": 0,
      "outputs": []
    },
    {
      "cell_type": "code",
      "metadata": {
        "id": "SAi_TQWW-04_",
        "colab_type": "code",
        "outputId": "824ffab5-7e81-45cf-cb5e-1a3da1f233d6",
        "colab": {
          "base_uri": "https://localhost:8080/",
          "height": 358
        }
      },
      "source": [
        "dataiter = iter(train_loader)\n",
        "itr = dataiter.next()\n",
        "\n",
        "label = itr['class_name']\n",
        "img = itr['image']\n",
        "print(\"Class name: {}\".format(label[0]))\n",
        "\n",
        "fig = plt.figure(figsize = (5,5)) \n",
        "ax = fig.add_subplot(111)\n",
        "ax.imshow(img[0])"
      ],
      "execution_count": 66,
      "outputs": [
        {
          "output_type": "stream",
          "text": [
            "Class name: A_small\n"
          ],
          "name": "stdout"
        },
        {
          "output_type": "execute_result",
          "data": {
            "text/plain": [
              "<matplotlib.image.AxesImage at 0x7fdb04eb0cf8>"
            ]
          },
          "metadata": {
            "tags": []
          },
          "execution_count": 66
        },
        {
          "output_type": "display_data",
          "data": {
            "image/png": "[encoded data removed]",
            "text/plain": [
              "<Figure size 360x360 with 1 Axes>"
            ]
          },
          "metadata": {
            "tags": [],
            "needs_background": "light"
          }
        }
      ]
    },
    {
      "cell_type": "code",
      "metadata": {
        "id": "LMbDr5k1BOPE",
        "colab_type": "code",
        "colab": {}
      },
      "source": [
        "train_losses = []\n",
        "train_counter = []\n",
        "test_losses = []\n",
        "test_counter = [i*len(train_loader.dataset) for i in range(10 + 1)]"
      ],
      "execution_count": 0,
      "outputs": []
    },
    {
      "cell_type": "code",
      "metadata": {
        "id": "aCwc6dI0BfdU",
        "colab_type": "code",
        "colab": {
          "base_uri": "https://localhost:8080/",
          "height": 35
        },
        "outputId": "92a987fe-85a3-4ca6-bbd8-78924cf10852"
      },
      "source": [
        "!mkdir results"
      ],
      "execution_count": 68,
      "outputs": [
        {
          "output_type": "stream",
          "text": [
            "mkdir: cannot create directory ‘results’: File exists\n"
          ],
          "name": "stdout"
        }
      ]
    },
    {
      "cell_type": "code",
      "metadata": {
        "id": "WNsrIgqgbT15",
        "colab_type": "code",
        "colab": {}
      },
      "source": [
        "def name_to_int(data):\n",
        "\n",
        "  switcher = {\n",
        "      'A': 1,\n",
        "      'B': 2,\n",
        "      'C': 3,\n",
        "      'A_small': 1,\n",
        "      'P': 2,\n",
        "      'u': 3\n",
        "  }\n",
        "\n",
        "  new_data = []\n",
        "\n",
        "  for dt in data:\n",
        "    new_data.append(switcher.get(dt))\n",
        "\n",
        "  return new_data"
      ],
      "execution_count": 0,
      "outputs": []
    },
    {
      "cell_type": "code",
      "metadata": {
        "id": "YGa3hBILPt1E",
        "colab_type": "code",
        "colab": {}
      },
      "source": [
        "def get_max_from_tensor(data):\n",
        "  maxVal = data[0]\n",
        "  maxId = 0\n",
        "  for i in range(len(data)):\n",
        "    if(data[i] > maxVal):\n",
        "      maxVal = data[i]\n",
        "      maxId = i\n",
        "\n",
        "  return maxId + 1"
      ],
      "execution_count": 0,
      "outputs": []
    },
    {
      "cell_type": "code",
      "metadata": {
        "id": "MT60UZQ5sQvj",
        "colab_type": "code",
        "colab": {
          "base_uri": "https://localhost:8080/",
          "height": 1000
        },
        "outputId": "fb25f952-a1dd-4e2b-ba69-7164564bb46f"
      },
      "source": [
        "def train(train_loader, val_loader, epoch_amount, save_checkpoint = 10):\n",
        "  network.eval()\n",
        "  train_loss_hist = []\n",
        "  val_loss_hist = []\n",
        "  checkpoint = save_checkpoint\n",
        "  for epoch in range(epoch_amount):\n",
        "    num_images_train = 0\n",
        "    num_images_val = 0\n",
        "\n",
        "    # TRAINING DATASET\n",
        "    correct = 0\n",
        "    for data in train_loader:\n",
        "      images = data['image']\n",
        "      labels = torch.from_numpy(np.array(name_to_int(data['class_name'])))\n",
        "\n",
        "      lossSum = 0\n",
        "      for idx in range(len(images)):\n",
        "        optimizer.zero_grad()\n",
        "\n",
        "        outputs = network(images[idx].cuda().flatten().float())\n",
        "\n",
        "        maxIdx = get_max_from_tensor(outputs)\n",
        "        real_value = np.repeat(-10, num_of_classes)\n",
        "        real_value[labels[idx] - 1] = 10\n",
        "\n",
        "        loss = criterion(outputs.cuda(), torch.Tensor(real_value).cuda()) \n",
        "        \n",
        "        loss.backward()\n",
        "\n",
        "        lossSum += loss.item()\n",
        "        train_loss_hist.append(lossSum)\n",
        "\n",
        "        optimizer.step()\n",
        "\n",
        "    # VALIDATION\n",
        "    for data in val_loader:\n",
        "      images = data['image']\n",
        "      labels = torch.from_numpy(np.array(name_to_int(data['class_name'])))\n",
        "\n",
        "      num_images_train = len(images)\n",
        "\n",
        "      images.cuda()\n",
        "      labels.cuda()\n",
        "\n",
        "      num_images_val = len(images)\n",
        "\n",
        "      lossSum = 0\n",
        "      for idx in range(len(images)):\n",
        "        optimizer.zero_grad()\n",
        "\n",
        "        outputs = network(images[idx].cuda().flatten().float())\n",
        "\n",
        "        if(labels[idx] == get_max_from_tensor(outputs)):\n",
        "          correct += 1\n",
        "\n",
        "        maxIdx = get_max_from_tensor(outputs)\n",
        "        real_value = np.repeat(-10, num_of_classes)\n",
        "        real_value[labels[idx] - 1] = 10\n",
        "        loss = criterion(outputs.cuda(), torch.Tensor(real_value).cuda()) \n",
        "\n",
        "        lossSum += loss.item()\n",
        "        val_loss_hist.append(lossSum)\n",
        "\n",
        "    print(\"Epoch: {} Training loss: {} Eval loss: {} Correct: {}%\".format(epoch,train_loss_hist[len(train_loss_hist) - 1],val_loss_hist[len(val_loss_hist) - 1],correct*100/num_images_train))\n",
        "\n",
        "    if(checkpoint == 0):\n",
        "      torch.save(network.state_dict(), '/content/results/model.pth')\n",
        "      torch.save(optimizer.state_dict(), '/content/results/optimizer.pth')\n",
        "\n",
        "      checkpoint = save_checkpoint\n",
        "    else:\n",
        "      checkpoint -= 1\n",
        "\n",
        "train(train_loader, val_loader, 100, 5)"
      ],
      "execution_count": 74,
      "outputs": [
        {
          "output_type": "stream",
          "text": [
            "Epoch: 0 Training loss: 0.5537444179208251 Eval loss: 719.2979494533502 Correct: 94.23076923076923%\n",
            "Epoch: 1 Training loss: 0.5522630712512182 Eval loss: 715.5010985871777 Correct: 94.23076923076923%\n",
            "Epoch: 2 Training loss: 0.5362564448214471 Eval loss: 713.8420598059893 Correct: 94.23076923076923%\n",
            "Epoch: 3 Training loss: 0.5356180257585947 Eval loss: 716.6416113222949 Correct: 94.23076923076923%\n",
            "Epoch: 4 Training loss: 0.5350751926780504 Eval loss: 717.6741112410091 Correct: 94.23076923076923%\n",
            "Epoch: 5 Training loss: 0.5205265761505871 Eval loss: 717.6958005293272 Correct: 94.23076923076923%\n",
            "Epoch: 6 Training loss: 0.5186828082223656 Eval loss: 717.6755143748596 Correct: 94.23076923076923%\n",
            "Epoch: 7 Training loss: 0.500689726644282 Eval loss: 716.6272285636514 Correct: 94.23076923076923%\n",
            "Epoch: 8 Training loss: 0.5029894616873207 Eval loss: 716.9984740591608 Correct: 94.23076923076923%\n",
            "Epoch: 9 Training loss: 0.4901865994470427 Eval loss: 716.5355236474425 Correct: 94.23076923076923%\n",
            "Epoch: 10 Training loss: 0.4680782654486393 Eval loss: 713.5577531228773 Correct: 94.23076923076923%\n",
            "Epoch: 11 Training loss: 0.4657508564305317 Eval loss: 716.2597809610888 Correct: 94.23076923076923%\n",
            "Epoch: 12 Training loss: 0.46881243723146326 Eval loss: 717.7859328985214 Correct: 94.23076923076923%\n",
            "Epoch: 13 Training loss: 0.4532893904261073 Eval loss: 718.1768855703995 Correct: 94.23076923076923%\n",
            "Epoch: 14 Training loss: 0.45076010003049305 Eval loss: 717.253110810183 Correct: 94.23076923076923%\n",
            "Epoch: 15 Training loss: 0.45492533641663613 Eval loss: 717.3022574339993 Correct: 94.23076923076923%\n",
            "Epoch: 16 Training loss: 0.4431875308691815 Eval loss: 717.8966324473731 Correct: 94.23076923076923%\n",
            "Epoch: 17 Training loss: 0.4320748388327047 Eval loss: 720.2915664589964 Correct: 94.23076923076923%\n",
            "Epoch: 18 Training loss: 0.43358630541479215 Eval loss: 716.9243081687018 Correct: 94.23076923076923%\n",
            "Epoch: 19 Training loss: 0.4281787165127753 Eval loss: 716.764921664726 Correct: 94.23076923076923%\n",
            "Epoch: 20 Training loss: 0.40964971199719 Eval loss: 717.6941360118799 Correct: 94.23076923076923%\n",
            "Epoch: 21 Training loss: 0.4104460260568885 Eval loss: 717.217396510765 Correct: 94.23076923076923%\n",
            "Epoch: 22 Training loss: 0.40134923250116117 Eval loss: 717.2764612194151 Correct: 94.23076923076923%\n",
            "Epoch: 23 Training loss: 0.4005549748071644 Eval loss: 714.2939253607765 Correct: 94.23076923076923%\n",
            "Epoch: 24 Training loss: 0.39413281027736957 Eval loss: 715.4913648418151 Correct: 94.23076923076923%\n",
            "Epoch: 25 Training loss: 0.3895946785778506 Eval loss: 717.5352881802246 Correct: 94.23076923076923%\n",
            "Epoch: 26 Training loss: 0.3854009681035677 Eval loss: 718.0394566319883 Correct: 94.23076923076923%\n",
            "Epoch: 27 Training loss: 0.3808087879260711 Eval loss: 717.5918392254971 Correct: 94.23076923076923%\n",
            "Epoch: 28 Training loss: 0.36998022737316205 Eval loss: 717.5234458984341 Correct: 94.23076923076923%\n",
            "Epoch: 29 Training loss: 0.3641893033254746 Eval loss: 719.1322138905525 Correct: 94.23076923076923%\n",
            "Epoch: 30 Training loss: 0.3666879154880007 Eval loss: 717.0880450913683 Correct: 94.23076923076923%\n",
            "Epoch: 31 Training loss: 0.3612469523304753 Eval loss: 718.4360262798145 Correct: 94.23076923076923%\n",
            "Epoch: 32 Training loss: 0.35602437686429766 Eval loss: 717.8397117261775 Correct: 94.23076923076923%\n",
            "Epoch: 33 Training loss: 0.3387493555792389 Eval loss: 716.8387378612533 Correct: 94.23076923076923%\n",
            "Epoch: 34 Training loss: 0.3485354334952717 Eval loss: 717.6678066137247 Correct: 94.23076923076923%\n",
            "Epoch: 35 Training loss: 0.34199013189572725 Eval loss: 715.5299205873162 Correct: 94.23076923076923%\n",
            "Epoch: 36 Training loss: 0.33486090649603284 Eval loss: 717.181122421287 Correct: 94.23076923076923%\n",
            "Epoch: 37 Training loss: 0.333316508513235 Eval loss: 718.4587225408759 Correct: 94.23076923076923%\n",
            "Epoch: 38 Training loss: 0.32383175144013876 Eval loss: 717.6183204012923 Correct: 94.23076923076923%\n",
            "Epoch: 39 Training loss: 0.3273546069276563 Eval loss: 715.3827611487359 Correct: 94.23076923076923%\n",
            "Epoch: 40 Training loss: 0.32204776403341384 Eval loss: 717.2292945384979 Correct: 94.23076923076923%\n",
            "Epoch: 41 Training loss: 0.3163799380627097 Eval loss: 718.8339294344187 Correct: 94.23076923076923%\n",
            "Epoch: 42 Training loss: 0.3214273334815516 Eval loss: 717.884837705642 Correct: 94.23076923076923%\n",
            "Epoch: 43 Training loss: 0.30906536162819975 Eval loss: 716.8988938778639 Correct: 94.23076923076923%\n",
            "Epoch: 44 Training loss: 0.30389494666815153 Eval loss: 719.0688599823043 Correct: 94.23076923076923%\n",
            "Epoch: 45 Training loss: 0.30406170158858004 Eval loss: 717.758324356284 Correct: 94.23076923076923%\n",
            "Epoch: 46 Training loss: 0.2997175055115804 Eval loss: 717.6028286970686 Correct: 94.23076923076923%\n",
            "Epoch: 47 Training loss: 0.2958803787996658 Eval loss: 717.375285717193 Correct: 94.23076923076923%\n",
            "Epoch: 48 Training loss: 0.2898985998117496 Eval loss: 718.6166462637484 Correct: 94.23076923076923%\n",
            "Epoch: 49 Training loss: 0.2882330495158385 Eval loss: 718.8372366891708 Correct: 94.23076923076923%\n",
            "Epoch: 50 Training loss: 0.2829996709842817 Eval loss: 716.9811510415748 Correct: 94.23076923076923%\n",
            "Epoch: 51 Training loss: 0.28183646179422794 Eval loss: 717.1363666579127 Correct: 94.23076923076923%\n",
            "Epoch: 52 Training loss: 0.277291103488551 Eval loss: 718.1547249150462 Correct: 94.23076923076923%\n",
            "Epoch: 53 Training loss: 0.27730132462056645 Eval loss: 717.8003688976169 Correct: 94.23076923076923%\n",
            "Epoch: 54 Training loss: 0.27544333239529806 Eval loss: 716.8379833376966 Correct: 94.23076923076923%\n",
            "Epoch: 55 Training loss: 0.2661391988838204 Eval loss: 718.0648310990073 Correct: 94.23076923076923%\n",
            "Epoch: 56 Training loss: 0.2663265240862529 Eval loss: 718.2168144537136 Correct: 94.23076923076923%\n",
            "Epoch: 57 Training loss: 0.2659065476043452 Eval loss: 715.4229234009981 Correct: 94.23076923076923%\n",
            "Epoch: 58 Training loss: 0.26025002165442856 Eval loss: 716.8683782508597 Correct: 94.23076923076923%\n",
            "Epoch: 59 Training loss: 0.25738138018436985 Eval loss: 717.5743287827354 Correct: 94.23076923076923%\n",
            "Epoch: 60 Training loss: 0.2588233170836247 Eval loss: 719.6879066610709 Correct: 94.23076923076923%\n",
            "Epoch: 61 Training loss: 0.2539453285876334 Eval loss: 718.4478689169046 Correct: 94.23076923076923%\n",
            "Epoch: 62 Training loss: 0.25330063080946275 Eval loss: 716.7453691735864 Correct: 94.23076923076923%\n",
            "Epoch: 63 Training loss: 0.2455563540561343 Eval loss: 717.900621548295 Correct: 94.23076923076923%\n",
            "Epoch: 64 Training loss: 0.24513976356774947 Eval loss: 719.3901152506005 Correct: 94.23076923076923%\n",
            "Epoch: 65 Training loss: 0.24175411689066095 Eval loss: 716.3455037204549 Correct: 94.23076923076923%\n",
            "Epoch: 66 Training loss: 0.2408261231303186 Eval loss: 717.4973149057478 Correct: 94.23076923076923%\n",
            "Epoch: 67 Training loss: 0.23685797094367445 Eval loss: 718.104302910855 Correct: 94.23076923076923%\n",
            "Epoch: 68 Training loss: 0.23439942424920446 Eval loss: 718.1137881623581 Correct: 94.23076923076923%\n",
            "Epoch: 69 Training loss: 0.23263197516348555 Eval loss: 718.1011676890776 Correct: 94.23076923076923%\n",
            "Epoch: 70 Training loss: 0.2287288077991434 Eval loss: 718.0972049767151 Correct: 94.23076923076923%\n",
            "Epoch: 71 Training loss: 0.22991285049010912 Eval loss: 716.6910699966829 Correct: 94.23076923076923%\n",
            "Epoch: 72 Training loss: 0.22877518898849303 Eval loss: 716.0724909412675 Correct: 94.23076923076923%\n",
            "Epoch: 73 Training loss: 0.22083049256434606 Eval loss: 716.9003012827598 Correct: 94.23076923076923%\n",
            "Epoch: 74 Training loss: 0.22165793737076456 Eval loss: 718.3810293457936 Correct: 94.23076923076923%\n",
            "Epoch: 75 Training loss: 0.22173986634652465 Eval loss: 717.7480236345436 Correct: 94.23076923076923%\n",
            "Epoch: 76 Training loss: 0.21512709861553958 Eval loss: 717.801441214513 Correct: 94.23076923076923%\n",
            "Epoch: 77 Training loss: 0.21698444987305265 Eval loss: 718.0098136542365 Correct: 94.23076923076923%\n",
            "Epoch: 78 Training loss: 0.21460947092054994 Eval loss: 717.1440558105242 Correct: 94.23076923076923%\n",
            "Epoch: 79 Training loss: 0.21040188019651396 Eval loss: 716.4390894118696 Correct: 94.23076923076923%\n",
            "Epoch: 80 Training loss: 0.20359401567657187 Eval loss: 718.2569684840273 Correct: 94.23076923076923%\n",
            "Epoch: 81 Training loss: 0.20735291737037187 Eval loss: 717.2157552726567 Correct: 94.23076923076923%\n",
            "Epoch: 82 Training loss: 0.2068062626167375 Eval loss: 717.1119191120379 Correct: 94.23076923076923%\n",
            "Epoch: 83 Training loss: 0.2022749176871912 Eval loss: 718.7520309430547 Correct: 94.23076923076923%\n",
            "Epoch: 84 Training loss: 0.1992931040019812 Eval loss: 717.788518323563 Correct: 94.23076923076923%\n",
            "Epoch: 85 Training loss: 0.19750673148473652 Eval loss: 717.7320180088282 Correct: 94.23076923076923%\n",
            "Epoch: 86 Training loss: 0.19546363893550733 Eval loss: 717.5958458250389 Correct: 94.23076923076923%\n",
            "Epoch: 87 Training loss: 0.19234090266581916 Eval loss: 718.2907408555038 Correct: 94.23076923076923%\n",
            "Epoch: 88 Training loss: 0.19417458270800125 Eval loss: 718.4223518192302 Correct: 94.23076923076923%\n",
            "Epoch: 89 Training loss: 0.19236327909982265 Eval loss: 718.5754047869705 Correct: 94.23076923076923%\n",
            "Epoch: 90 Training loss: 0.19137750692061672 Eval loss: 717.7750617142301 Correct: 94.23076923076923%\n",
            "Epoch: 91 Training loss: 0.18846368051345053 Eval loss: 717.9076927041169 Correct: 94.23076923076923%\n",
            "Epoch: 92 Training loss: 0.18795770045380777 Eval loss: 718.0482878217008 Correct: 94.23076923076923%\n",
            "Epoch: 93 Training loss: 0.18815056867515523 Eval loss: 717.2069653579965 Correct: 94.23076923076923%\n",
            "Epoch: 94 Training loss: 0.1855337211773076 Eval loss: 717.9933974272572 Correct: 94.23076923076923%\n",
            "Epoch: 95 Training loss: 0.18281753630708408 Eval loss: 717.2344397269189 Correct: 94.23076923076923%\n",
            "Epoch: 96 Training loss: 0.18034745784552797 Eval loss: 717.3566236149054 Correct: 94.23076923076923%\n",
            "Epoch: 97 Training loss: 0.1786916823676563 Eval loss: 717.7195611437783 Correct: 94.23076923076923%\n",
            "Epoch: 98 Training loss: 0.17746979223989 Eval loss: 717.7597978073172 Correct: 94.23076923076923%\n",
            "Epoch: 99 Training loss: 0.17631563005761564 Eval loss: 718.328139282763 Correct: 94.23076923076923%\n"
          ],
          "name": "stdout"
        }
      ]
    },
    {
      "cell_type": "code",
      "metadata": {
        "id": "aDc8f2aEZ1-c",
        "colab_type": "code",
        "outputId": "168499f8-b81e-44e2-dc24-9ba679b7c1bb",
        "colab": {
          "base_uri": "https://localhost:8080/",
          "height": 431
        }
      },
      "source": [
        "for data in test_loader:\n",
        "  images = data['image']\n",
        "  labels = torch.from_numpy(np.array(name_to_int(data['class_name'])))\n",
        "\n",
        "  for i in range(len(images)):\n",
        "    output = network(images[i].cuda().flatten().float())\n",
        "    \n",
        "    if(get_max_from_tensor(output) == labels[i]):\n",
        "      print(\"OK: {} == {} Probability: {}\".format(get_max_from_tensor(output), labels[i], output[get_max_from_tensor(output) - 1]))\n",
        "    else:\n",
        "      print(\"False: {} == {} Probability: {}\".format(get_max_from_tensor(output), labels[i], output[get_max_from_tensor(output) - 1]))"
      ],
      "execution_count": 75,
      "outputs": [
        {
          "output_type": "stream",
          "text": [
            "OK: 1 == 1 Probability: 3.830423355102539\n",
            "OK: 2 == 2 Probability: 9.076949119567871\n",
            "OK: 1 == 1 Probability: 5.863929748535156\n",
            "OK: 3 == 3 Probability: 7.851870536804199\n",
            "OK: 1 == 1 Probability: 5.089408874511719\n",
            "OK: 3 == 3 Probability: 6.570063591003418\n",
            "OK: 2 == 2 Probability: 11.239397048950195\n",
            "OK: 1 == 1 Probability: 5.6212568283081055\n",
            "OK: 2 == 2 Probability: 8.37325382232666\n",
            "OK: 2 == 2 Probability: 9.279732704162598\n",
            "OK: 2 == 2 Probability: 11.309816360473633\n",
            "OK: 2 == 2 Probability: 6.008723258972168\n",
            "OK: 1 == 1 Probability: 8.46510124206543\n",
            "OK: 2 == 2 Probability: 3.8260889053344727\n",
            "OK: 3 == 3 Probability: 3.4006645679473877\n",
            "OK: 3 == 3 Probability: 7.4198222160339355\n",
            "OK: 3 == 3 Probability: 8.907241821289062\n",
            "OK: 2 == 2 Probability: 10.646806716918945\n",
            "OK: 1 == 1 Probability: 11.337701797485352\n",
            "OK: 3 == 3 Probability: 2.685739755630493\n",
            "OK: 2 == 2 Probability: 10.343724250793457\n",
            "OK: 3 == 3 Probability: 6.906252861022949\n",
            "OK: 1 == 1 Probability: 6.440314292907715\n"
          ],
          "name": "stdout"
        }
      ]
    },
    {
      "cell_type": "code",
      "metadata": {
        "id": "nSTdUp1O1bak",
        "colab_type": "code",
        "colab": {
          "base_uri": "https://localhost:8080/",
          "height": 71
        },
        "outputId": "0bb1946d-c989-465e-ddfe-111c60662088"
      },
      "source": [
        "empty_image = io.imread('/content/Lithuanian_OCR/Data/white.jpg')\n",
        "empty_image = rgb2gray(empty_image)\n",
        "output = network(torch.Tensor(empty_image).cuda().flatten().float())\n",
        "print(output)\n",
        "print(get_max_from_tensor(output))\n",
        "print(output[get_max_from_tensor(output) - 1])"
      ],
      "execution_count": 82,
      "outputs": [
        {
          "output_type": "stream",
          "text": [
            "tensor([-12.8857,   2.2225,  -3.0268], device='cuda:0', grad_fn=<AddBackward0>)\n",
            "2\n",
            "tensor(2.2225, device='cuda:0', grad_fn=<SelectBackward>)\n"
          ],
          "name": "stdout"
        }
      ]
    },
    {
      "cell_type": "code",
      "metadata": {
        "id": "BA6XaNQwoBYQ",
        "colab_type": "code",
        "colab": {}
      },
      "source": [
        "for opt in optimizer.param_groups:\n",
        "  opt['lr'] = 0.00001"
      ],
      "execution_count": 0,
      "outputs": []
    },
    {
      "cell_type": "code",
      "metadata": {
        "id": "wKrJxDhb8aci",
        "colab_type": "code",
        "colab": {}
      },
      "source": [
        "!cp '/content/results/model.pth' '/content/Lithuanian_OCR/Trained_model/model.pth'\n",
        "!cp '/content/results/optimizer.pth' '/content/Lithuanian_OCR/Trained_model/optimizer.pth'"
      ],
      "execution_count": 0,
      "outputs": []
    }
  ]
}