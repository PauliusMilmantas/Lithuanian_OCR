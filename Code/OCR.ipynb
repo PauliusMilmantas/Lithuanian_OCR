{
  "nbformat": 4,
  "nbformat_minor": 0,
  "metadata": {
    "colab": {
      "name": "OCR.ipynb",
      "provenance": [],
      "collapsed_sections": [],
      "machine_shape": "hm"
    },
    "kernelspec": {
      "name": "python3",
      "display_name": "Python 3"
    }
  },
  "cells": [
    {
      "cell_type": "code",
      "metadata": {
        "id": "tqV3oHrg8mY-",
        "colab_type": "code",
        "colab": {}
      },
      "source": [
        "from __future__ import print_function, division\n",
        "import os\n",
        "import torch\n",
        "from skimage import io, transform\n",
        "import numpy as np\n",
        "import matplotlib.pyplot as plt\n",
        "from torch.utils.data import Dataset, DataLoader\n",
        "from torchvision import transforms, utils\n",
        "from skimage import io\n",
        "import torch.nn as nn\n",
        "import torch.nn.functional as F\n",
        "\n",
        "from skimage.color import rgb2gray\n",
        "\n",
        "import PIL\n",
        "from PIL import Image\n",
        "\n",
        "from google.colab import output"
      ],
      "execution_count": 0,
      "outputs": []
    },
    {
      "cell_type": "code",
      "metadata": {
        "id": "qZPVvFlrIHMt",
        "colab_type": "code",
        "outputId": "4dd9fb46-7a30-44f4-d8b9-69acea26330d",
        "colab": {
          "base_uri": "https://localhost:8080/",
          "height": 35
        }
      },
      "source": [
        "%cd /content/\n",
        "if(os.path.isdir('/content/Lithuanian_OCR') == False):\n",
        "  !git clone https://github.com/PauliusMilmantas/Lithuanian_OCR"
      ],
      "execution_count": 41,
      "outputs": [
        {
          "output_type": "stream",
          "text": [
            "/content\n"
          ],
          "name": "stdout"
        }
      ]
    },
    {
      "cell_type": "code",
      "metadata": {
        "id": "4dizldPQRNUj",
        "colab_type": "code",
        "colab": {}
      },
      "source": [
        "class ORCDataset(Dataset):\n",
        "  def __init__(self, root):\n",
        "    self.root = root\n",
        "\n",
        "  def __len__(self):\n",
        "    lt = 0\n",
        "    classes = os.listdir(self.root)\n",
        "    for cl in classes:\n",
        "      lt += len(os.listdir(self.root + '/' + cl))\n",
        "\n",
        "    return lt\n",
        "\n",
        "  def __getitem__(self, idx):\n",
        "    if torch.is_tensor(idx):\n",
        "     idx = idx.tolist()\n",
        "\n",
        "    if(idx <= len(self)):\n",
        "      found_file = \"\"\n",
        "      found_type = \"\"\n",
        "\n",
        "      fldrs = os.listdir(self.root)\n",
        "      for fld in fldrs:\n",
        "        fls = os.listdir(self.root + '/' + fld + '/')\n",
        "        for fl in fls:\n",
        "          if(fl == str(idx) + \".jpg\"):\n",
        "            found_file = self.root + '/' + fld + '/' + fl         \n",
        "            found_type = fld\n",
        "\n",
        "      try:\n",
        "        img = io.imread(found_file)\n",
        "        img = rgb2gray(img)\n",
        "\n",
        "        return {'image': img, 'class_name': found_type}\n",
        "      except:\n",
        "        if(found_file != \"\"):\n",
        "          print(\"Bad file: \" + found_file)\n",
        "        else:\n",
        "          print(\"File not found, idx = \" + str(idx))\n",
        "    else:\n",
        "      print()\n",
        "      raise Exception(\"Dataset index out of boundaries\")\n",
        "\n",
        "train_dataset = ORCDataset('/content/Lithuanian_OCR/Data/training')\n",
        "val_dataset = ORCDataset('/content/Lithuanian_OCR/Data/val')\n",
        "test_dataset = ORCDataset('/content/Lithuanian_OCR/Data/test')"
      ],
      "execution_count": 0,
      "outputs": []
    },
    {
      "cell_type": "code",
      "metadata": {
        "id": "KR2HO96n8pXN",
        "colab_type": "code",
        "colab": {}
      },
      "source": [
        "class Net(nn.Module):\n",
        "    def __init__(self, input_size, hidden1_size, hidden2_size, hidden3_size, hidden4_size, hidden5_size, num_classes):\n",
        "        super(Net, self).__init__()\n",
        "        self.fc1 = nn.Linear(input_size, hidden1_size)\n",
        "        self.relu1 = nn.ReLU()\n",
        "        self.fc2 = nn.Linear(hidden1_size, hidden2_size)\n",
        "        self.relu2 = nn.ReLU()\n",
        "        self.fc3 = nn.Linear(hidden2_size, hidden3_size)\n",
        "        self.relu3 = nn.ReLU()      \n",
        "        self.fc4 = nn.Linear(hidden3_size, hidden4_size)\n",
        "        self.relu4 = nn.ReLU()\n",
        "        self.fc5 = nn.Linear(hidden4_size, hidden5_size)\n",
        "        self.relu5 = nn.ReLU()\n",
        "        self.fc6 = nn.Linear(hidden5_size, num_classes)  \n",
        "    \n",
        "    def forward(self, x):\n",
        "        out = self.fc1(x)\n",
        "        out = self.relu1(out)\n",
        "        out = self.fc2(out)        \n",
        "        out = self.relu2(out)\n",
        "        out = self.fc3(out)        \n",
        "        out = self.relu3(out)\n",
        "        out = self.fc4(out)        \n",
        "        out = self.relu4(out)\n",
        "        out = self.fc5(out)        \n",
        "        out = self.relu5(out)\n",
        "        out = self.fc6(out)\n",
        "        return out"
      ],
      "execution_count": 0,
      "outputs": []
    },
    {
      "cell_type": "code",
      "metadata": {
        "id": "MwTzb7K0_OSi",
        "colab_type": "code",
        "outputId": "e6661eef-c4fc-4646-f6d1-518821fdfb2b",
        "colab": {
          "base_uri": "https://localhost:8080/",
          "height": 251
        }
      },
      "source": [
        "network = Net(4096, 2500, 1500, 500, 100, 50, 3)\n",
        "optimizer = torch.optim.SGD(network.parameters(), lr=0.01, momentum=0.6)\n",
        "criterion = nn.MSELoss()\n",
        "\n",
        "print(network)"
      ],
      "execution_count": 44,
      "outputs": [
        {
          "output_type": "stream",
          "text": [
            "Net(\n",
            "  (fc1): Linear(in_features=4096, out_features=2500, bias=True)\n",
            "  (relu1): ReLU()\n",
            "  (fc2): Linear(in_features=2500, out_features=1500, bias=True)\n",
            "  (relu2): ReLU()\n",
            "  (fc3): Linear(in_features=1500, out_features=500, bias=True)\n",
            "  (relu3): ReLU()\n",
            "  (fc4): Linear(in_features=500, out_features=100, bias=True)\n",
            "  (relu4): ReLU()\n",
            "  (fc5): Linear(in_features=100, out_features=50, bias=True)\n",
            "  (relu5): ReLU()\n",
            "  (fc6): Linear(in_features=50, out_features=3, bias=True)\n",
            ")\n"
          ],
          "name": "stdout"
        }
      ]
    },
    {
      "cell_type": "code",
      "metadata": {
        "id": "dMTTpgG39U9y",
        "colab_type": "code",
        "colab": {
          "base_uri": "https://localhost:8080/",
          "height": 35
        },
        "outputId": "ed3d8dea-11b9-43f2-fdc3-a325f6eca4bb"
      },
      "source": [
        "dev = torch.device(\"cuda\") if torch.cuda.is_available() else torch.device(\"cpu\")\n",
        "network.to(dev)\n",
        "dev"
      ],
      "execution_count": 45,
      "outputs": [
        {
          "output_type": "execute_result",
          "data": {
            "text/plain": [
              "device(type='cpu')"
            ]
          },
          "metadata": {
            "tags": []
          },
          "execution_count": 45
        }
      ]
    },
    {
      "cell_type": "code",
      "metadata": {
        "id": "KIOL9zLnKiEu",
        "colab_type": "code",
        "colab": {}
      },
      "source": [
        "train_loader = torch.utils.data.DataLoader(train_dataset, batch_size = len(train_dataset),shuffle=True)\n",
        "val_loader = torch.utils.data.DataLoader(val_dataset, batch_size = len(val_dataset), shuffle=True)\n",
        "test_loader = torch.utils.data.DataLoader(test_dataset, batch_size = len(test_dataset), shuffle=True)"
      ],
      "execution_count": 0,
      "outputs": []
    },
    {
      "cell_type": "code",
      "metadata": {
        "id": "SAi_TQWW-04_",
        "colab_type": "code",
        "outputId": "a4082a71-7f4b-432a-abd1-7f282fe31ce4",
        "colab": {
          "base_uri": "https://localhost:8080/",
          "height": 358
        }
      },
      "source": [
        "dataiter = iter(train_loader)\n",
        "itr = dataiter.next()\n",
        "\n",
        "label = itr['class_name']\n",
        "img = itr['image']\n",
        "print(\"Class name: {}\".format(label[0]))\n",
        "\n",
        "fig = plt.figure(figsize = (5,5)) \n",
        "ax = fig.add_subplot(111)\n",
        "ax.imshow(img[0])"
      ],
      "execution_count": 47,
      "outputs": [
        {
          "output_type": "stream",
          "text": [
            "Class name: A\n"
          ],
          "name": "stdout"
        },
        {
          "output_type": "execute_result",
          "data": {
            "text/plain": [
              "<matplotlib.image.AxesImage at 0x7f7081505048>"
            ]
          },
          "metadata": {
            "tags": []
          },
          "execution_count": 47
        },
        {
          "output_type": "display_data",
          "data": {
            "image/png": "[encoded data removed]",
            "text/plain": [
              "<Figure size 360x360 with 1 Axes>"
            ]
          },
          "metadata": {
            "tags": [],
            "needs_background": "light"
          }
        }
      ]
    },
    {
      "cell_type": "code",
      "metadata": {
        "id": "LMbDr5k1BOPE",
        "colab_type": "code",
        "colab": {}
      },
      "source": [
        "train_losses = []\n",
        "train_counter = []\n",
        "test_losses = []\n",
        "test_counter = [i*len(train_loader.dataset) for i in range(10 + 1)]"
      ],
      "execution_count": 0,
      "outputs": []
    },
    {
      "cell_type": "code",
      "metadata": {
        "id": "aCwc6dI0BfdU",
        "colab_type": "code",
        "colab": {
          "base_uri": "https://localhost:8080/",
          "height": 35
        },
        "outputId": "d79897af-2277-4417-ff6f-ea438730a160"
      },
      "source": [
        "!mkdir results"
      ],
      "execution_count": 49,
      "outputs": [
        {
          "output_type": "stream",
          "text": [
            "mkdir: cannot create directory ‘results’: File exists\n"
          ],
          "name": "stdout"
        }
      ]
    },
    {
      "cell_type": "code",
      "metadata": {
        "id": "WNsrIgqgbT15",
        "colab_type": "code",
        "colab": {}
      },
      "source": [
        "def name_to_int(data):\n",
        "\n",
        "  switcher = {\n",
        "      'a': 1,\n",
        "      'a2': 2,\n",
        "      'b': 3,\n",
        "      'c': 4,\n",
        "      'c2': 5,\n",
        "      'd': 6,\n",
        "      'e': 7,\n",
        "      'e2': 8,\n",
        "      'e3': 9,\n",
        "      'f': 10,\n",
        "      'g': 11,\n",
        "      'h': 12,\n",
        "      'i': 13,\n",
        "      'i2': 14,\n",
        "      'j': 15,\n",
        "      'k': 16,\n",
        "      'l': 17,\n",
        "      'm': 18,\n",
        "      'n': 19,\n",
        "      'y': 20,\n",
        "      'A': 1,\n",
        "      'B': 2,\n",
        "      'C': 3\n",
        "  }\n",
        "\n",
        "  new_data = []\n",
        "\n",
        "  for dt in data:\n",
        "    new_data.append(switcher.get(dt))\n",
        "\n",
        "  return new_data"
      ],
      "execution_count": 0,
      "outputs": []
    },
    {
      "cell_type": "code",
      "metadata": {
        "id": "YGa3hBILPt1E",
        "colab_type": "code",
        "colab": {}
      },
      "source": [
        "def get_max_from_tensor(data):\n",
        "  maxVal = data[0]\n",
        "  maxId = 0\n",
        "  for i in range(len(data)):\n",
        "    if(data[i] > maxVal):\n",
        "      maxVal = data[i]\n",
        "      maxId = i\n",
        "\n",
        "  return maxId + 1"
      ],
      "execution_count": 0,
      "outputs": []
    },
    {
      "cell_type": "code",
      "metadata": {
        "id": "rE8MNszDBZ_e",
        "colab_type": "code",
        "colab": {
          "base_uri": "https://localhost:8080/",
          "height": 1000
        },
        "outputId": "5ef3abd5-7ef6-4fda-ae16-82ec90949451"
      },
      "source": [
        "def train(train_loader, val_loader, epoch_amount, save_checkpoint = 10):\n",
        "  network.eval()\n",
        "  train_loss_hist = []\n",
        "  val_loss_hist = []\n",
        "  checkpoint = save_checkpoint\n",
        "  for epoch in range(epoch_amount):\n",
        "    num_images_train = 0\n",
        "    num_images_val = 0\n",
        "\n",
        "    # TRAINING DATASET\n",
        "    correct = 0\n",
        "    for data in train_loader:\n",
        "      images = data['image']\n",
        "      labels = torch.from_numpy(np.array(name_to_int(data['class_name'])))\n",
        "\n",
        "      num_images_train = len(images)\n",
        "\n",
        "      lossSum = 0\n",
        "      for idx in range(len(images)):\n",
        "        optimizer.zero_grad()\n",
        "\n",
        "        outputs = network(images[idx].flatten().float())\n",
        "\n",
        "        maxIdx = get_max_from_tensor(outputs)\n",
        "        real_value = np.zeros(3)\n",
        "        real_value[labels[idx] - 1] = 1\n",
        "\n",
        "        loss = criterion(outputs, torch.Tensor(real_value)) \n",
        "        \n",
        "        loss.backward()\n",
        "\n",
        "        lossSum += loss.item()\n",
        "        train_loss_hist.append(lossSum)\n",
        "\n",
        "        optimizer.step()\n",
        "\n",
        "    # VALIDATION\n",
        "    for data in val_loader:\n",
        "      images = data['image']\n",
        "      labels = torch.from_numpy(np.array(name_to_int(data['class_name'])))\n",
        "\n",
        "      num_images_val = len(images)\n",
        "\n",
        "      lossSum = 0\n",
        "      for idx in range(len(images)):\n",
        "        optimizer.zero_grad()\n",
        "\n",
        "        outputs = network(images[idx].flatten().float())\n",
        "\n",
        "        if(labels[idx] == get_max_from_tensor(outputs)):\n",
        "          correct += 1\n",
        "\n",
        "        maxIdx = get_max_from_tensor(outputs)\n",
        "        real_value = np.zeros(3)\n",
        "        real_value[labels[idx] - 1] = 1\n",
        "        loss = criterion(outputs, torch.Tensor(real_value)) \n",
        "\n",
        "        lossSum += loss.item()\n",
        "        val_loss_hist.append(lossSum)\n",
        "\n",
        "    print(\"Epoch: {} Training loss: {} Eval loss: {} Correct: {}%\".format(epoch,train_loss_hist[len(train_loss_hist) - 1],val_loss_hist[len(val_loss_hist) - 1],correct*100/num_images_train))\n",
        "\n",
        "    if(checkpoint == 0):\n",
        "      torch.save(network.state_dict(), '/content/results/model.pth')\n",
        "      torch.save(optimizer.state_dict(), '/content/results/optimizer.pth')\n",
        "\n",
        "      checkpoint = save_checkpoint\n",
        "    else:\n",
        "      checkpoint -= 1\n",
        "\n",
        "train(train_loader, val_loader, 100)"
      ],
      "execution_count": 52,
      "outputs": [
        {
          "output_type": "stream",
          "text": [
            "Epoch: 0 Training loss: 27.846814960241318 Eval loss: 7.694365605711937 Correct: 13.675213675213675%\n",
            "Epoch: 1 Training loss: 25.277006149291992 Eval loss: 7.6065447479486465 Correct: 13.675213675213675%\n",
            "Epoch: 2 Training loss: 24.996320597827435 Eval loss: 7.408233404159546 Correct: 13.675213675213675%\n",
            "Epoch: 3 Training loss: 24.340791027992964 Eval loss: 7.225832752883434 Correct: 13.675213675213675%\n",
            "Epoch: 4 Training loss: 23.548913292586803 Eval loss: 6.897564128041267 Correct: 13.675213675213675%\n",
            "Epoch: 5 Training loss: 22.629681738093495 Eval loss: 6.90874707698822 Correct: 13.675213675213675%\n",
            "Epoch: 6 Training loss: 20.080137685872614 Eval loss: 5.163441494107246 Correct: 21.367521367521366%\n",
            "Epoch: 7 Training loss: 17.070093226153404 Eval loss: 4.227469710633159 Correct: 23.076923076923077%\n",
            "Epoch: 8 Training loss: 15.003140891902149 Eval loss: 4.200137384235859 Correct: 25.641025641025642%\n",
            "Epoch: 9 Training loss: 13.79491046955809 Eval loss: 3.8147809561342 Correct: 23.931623931623932%\n",
            "Epoch: 10 Training loss: 13.732512355025392 Eval loss: 4.063331491313875 Correct: 22.22222222222222%\n",
            "Epoch: 11 Training loss: 13.184718895703554 Eval loss: 4.653568053152412 Correct: 19.65811965811966%\n",
            "Epoch: 12 Training loss: 12.357230237103067 Eval loss: 3.350107877049595 Correct: 26.495726495726494%\n",
            "Epoch: 13 Training loss: 11.166254934854805 Eval loss: 3.6777566336095333 Correct: 26.495726495726494%\n",
            "Epoch: 14 Training loss: 9.649991292797495 Eval loss: 2.9531164477812126 Correct: 26.495726495726494%\n",
            "Epoch: 15 Training loss: 9.510933853802271 Eval loss: 3.285824228078127 Correct: 27.35042735042735%\n",
            "Epoch: 16 Training loss: 8.091754603985464 Eval loss: 4.523566527292132 Correct: 18.803418803418804%\n",
            "Epoch: 17 Training loss: 7.476823861390585 Eval loss: 4.73356596659869 Correct: 21.367521367521366%\n",
            "Epoch: 18 Training loss: 6.518888548744144 Eval loss: 1.974516821996076 Correct: 29.05982905982906%\n",
            "Epoch: 19 Training loss: 5.593140597440652 Eval loss: 1.693224012702558 Correct: 27.35042735042735%\n",
            "Epoch: 20 Training loss: 5.593557161965691 Eval loss: 1.973873464972712 Correct: 27.35042735042735%\n",
            "Epoch: 21 Training loss: 6.162589480067254 Eval loss: 1.4549431397390435 Correct: 27.35042735042735%\n",
            "Epoch: 22 Training loss: 4.349626256393094 Eval loss: 2.5912482597195776 Correct: 26.495726495726494%\n",
            "Epoch: 23 Training loss: 4.442563111308118 Eval loss: 1.936304556656978 Correct: 29.05982905982906%\n",
            "Epoch: 24 Training loss: 2.6904572422126876 Eval loss: 0.9427590565319406 Correct: 29.05982905982906%\n",
            "Epoch: 25 Training loss: 2.4201158681298693 Eval loss: 0.9618068212948856 Correct: 29.05982905982906%\n",
            "Epoch: 26 Training loss: 4.3465577755487175 Eval loss: 1.3183490787560004 Correct: 28.205128205128204%\n",
            "Epoch: 27 Training loss: 1.9476626939867856 Eval loss: 1.499848686272344 Correct: 27.35042735042735%\n",
            "Epoch: 28 Training loss: 0.561818263843179 Eval loss: 0.7695455483226397 Correct: 29.914529914529915%\n",
            "Epoch: 29 Training loss: 1.5896789634335846 Eval loss: 0.7568760349513468 Correct: 29.914529914529915%\n",
            "Epoch: 30 Training loss: 1.2436249783142443 Eval loss: 0.824352914965857 Correct: 29.05982905982906%\n",
            "Epoch: 31 Training loss: 0.7091625086909517 Eval loss: 0.7547932837218241 Correct: 29.914529914529915%\n",
            "Epoch: 32 Training loss: 1.1216624085918738 Eval loss: 2.56201560161162 Correct: 24.786324786324787%\n",
            "Epoch: 33 Training loss: 3.3204668802604544 Eval loss: 2.5080148649576586 Correct: 25.641025641025642%\n",
            "Epoch: 34 Training loss: 1.7432761228346862 Eval loss: 1.3772741150501133 Correct: 28.205128205128204%\n",
            "Epoch: 35 Training loss: 0.3241359283847487 Eval loss: 1.013862240266917 Correct: 28.205128205128204%\n",
            "Epoch: 36 Training loss: 0.25443645663051484 Eval loss: 0.8884091458348848 Correct: 29.05982905982906%\n",
            "Epoch: 37 Training loss: 0.1738592910414809 Eval loss: 0.7062018993580068 Correct: 29.914529914529915%\n",
            "Epoch: 38 Training loss: 0.2527920954714773 Eval loss: 0.6007660094717266 Correct: 29.914529914529915%\n",
            "Epoch: 39 Training loss: 0.1489876898083935 Eval loss: 0.8500622482238214 Correct: 29.05982905982906%\n",
            "Epoch: 40 Training loss: 0.14989348460562724 Eval loss: 0.8123948940001355 Correct: 28.205128205128204%\n",
            "Epoch: 41 Training loss: 0.13561937300141835 Eval loss: 0.5532705162240745 Correct: 30.76923076923077%\n",
            "Epoch: 42 Training loss: 0.10709623010995983 Eval loss: 1.903017253372127 Correct: 27.35042735042735%\n",
            "Epoch: 43 Training loss: 0.14046415843347404 Eval loss: 0.7555703297703076 Correct: 29.05982905982906%\n",
            "Epoch: 44 Training loss: 0.11898448953115803 Eval loss: 0.6745410371049729 Correct: 29.05982905982906%\n",
            "Epoch: 45 Training loss: 0.09288783822944424 Eval loss: 0.89654733995485 Correct: 29.05982905982906%\n",
            "Epoch: 46 Training loss: 0.09243915167144223 Eval loss: 0.8194418313086089 Correct: 28.205128205128204%\n",
            "Epoch: 47 Training loss: 0.09799685360889043 Eval loss: 0.8179658813778588 Correct: 29.05982905982906%\n",
            "Epoch: 48 Training loss: 0.08398941389660308 Eval loss: 0.9571195073721128 Correct: 28.205128205128204%\n",
            "Epoch: 49 Training loss: 0.08179418429165253 Eval loss: 0.7751905216314299 Correct: 29.05982905982906%\n",
            "Epoch: 50 Training loss: 0.07627473382854077 Eval loss: 1.0477950118436183 Correct: 27.35042735042735%\n",
            "Epoch: 51 Training loss: 0.07897940881997556 Eval loss: 0.8601665146020423 Correct: 28.205128205128204%\n",
            "Epoch: 52 Training loss: 0.06987248247412481 Eval loss: 0.8175902913089885 Correct: 29.05982905982906%\n",
            "Epoch: 53 Training loss: 0.06462687238081344 Eval loss: 0.731676781705346 Correct: 29.05982905982906%\n",
            "Epoch: 54 Training loss: 0.06175326616903476 Eval loss: 0.8503492297020045 Correct: 29.05982905982906%\n",
            "Epoch: 55 Training loss: 0.06969188127831671 Eval loss: 0.799345957909054 Correct: 29.05982905982906%\n",
            "Epoch: 56 Training loss: 0.06195318906020475 Eval loss: 1.090162444784255 Correct: 27.35042735042735%\n",
            "Epoch: 57 Training loss: 0.0656507759748024 Eval loss: 0.8464667819733904 Correct: 29.05982905982906%\n",
            "Epoch: 58 Training loss: 0.05501409935754964 Eval loss: 0.8151965939036927 Correct: 29.05982905982906%\n",
            "Epoch: 59 Training loss: 0.05176910010470692 Eval loss: 0.8741269963014702 Correct: 29.05982905982906%\n",
            "Epoch: 60 Training loss: 0.05549829340429824 Eval loss: 0.7943065066874624 Correct: 29.05982905982906%\n",
            "Epoch: 61 Training loss: 0.05068716762662007 Eval loss: 0.7991140012245523 Correct: 29.05982905982906%\n",
            "Epoch: 62 Training loss: 0.051710087897276935 Eval loss: 0.8234063339459681 Correct: 29.05982905982906%\n",
            "Epoch: 63 Training loss: 0.051052602865411245 Eval loss: 0.8903006677741132 Correct: 29.05982905982906%\n",
            "Epoch: 64 Training loss: 0.0453455029514771 Eval loss: 0.814780709684328 Correct: 29.05982905982906%\n",
            "Epoch: 65 Training loss: 0.0440924297751053 Eval loss: 0.8051741360191045 Correct: 29.05982905982906%\n",
            "Epoch: 66 Training loss: 0.049756526099088205 Eval loss: 0.9117057457558246 Correct: 29.05982905982906%\n",
            "Epoch: 67 Training loss: 0.04327830044428538 Eval loss: 0.8610214793698105 Correct: 29.05982905982906%\n",
            "Epoch: 68 Training loss: 0.03944242398039677 Eval loss: 0.7350664429181961 Correct: 29.05982905982906%\n",
            "Epoch: 69 Training loss: 0.043122763855535595 Eval loss: 1.2858268912508741 Correct: 27.35042735042735%\n",
            "Epoch: 70 Training loss: 0.04352863718943922 Eval loss: 0.7863929293771434 Correct: 29.05982905982906%\n",
            "Epoch: 71 Training loss: 0.040404606716265334 Eval loss: 0.8022660330655924 Correct: 29.05982905982906%\n",
            "Epoch: 72 Training loss: 0.03549265405735014 Eval loss: 0.8062258669142466 Correct: 29.05982905982906%\n",
            "Epoch: 73 Training loss: 0.03477642100818912 Eval loss: 0.7695145785659179 Correct: 29.05982905982906%\n",
            "Epoch: 74 Training loss: 0.038837384755595394 Eval loss: 0.7956113637455928 Correct: 29.05982905982906%\n",
            "Epoch: 75 Training loss: 0.03957008851804744 Eval loss: 0.7890675384347219 Correct: 29.05982905982906%\n",
            "Epoch: 76 Training loss: 0.03498652602127095 Eval loss: 0.8282930643604232 Correct: 29.05982905982906%\n",
            "Epoch: 77 Training loss: 0.03737663233291144 Eval loss: 0.7637697502987066 Correct: 29.05982905982906%\n",
            "Epoch: 78 Training loss: 0.03605848846365234 Eval loss: 0.8091726950717657 Correct: 29.05982905982906%\n",
            "Epoch: 79 Training loss: 0.03269814613690869 Eval loss: 0.83577518055111 Correct: 29.05982905982906%\n",
            "Epoch: 80 Training loss: 0.029053703088095517 Eval loss: 0.7906840267804682 Correct: 29.05982905982906%\n",
            "Epoch: 81 Training loss: 0.0306007978707612 Eval loss: 0.8386304252919672 Correct: 29.05982905982906%\n",
            "Epoch: 82 Training loss: 0.03532204911664394 Eval loss: 0.8710151563627733 Correct: 29.05982905982906%\n",
            "Epoch: 83 Training loss: 0.03154208510179046 Eval loss: 0.8354920152364684 Correct: 29.05982905982906%\n",
            "Epoch: 84 Training loss: 0.03110020827983817 Eval loss: 0.8284502005797094 Correct: 29.05982905982906%\n",
            "Epoch: 85 Training loss: 0.028511770721195262 Eval loss: 0.7635222521919616 Correct: 29.05982905982906%\n",
            "Epoch: 86 Training loss: 0.02785464388227865 Eval loss: 0.8043667261719349 Correct: 29.05982905982906%\n",
            "Epoch: 87 Training loss: 0.025830760703883016 Eval loss: 0.7558631970446186 Correct: 29.05982905982906%\n",
            "Epoch: 88 Training loss: 0.027485321419021602 Eval loss: 0.7987875271741132 Correct: 29.05982905982906%\n",
            "Epoch: 89 Training loss: 0.023450464271348892 Eval loss: 0.8441305316344483 Correct: 29.05982905982906%\n",
            "Epoch: 90 Training loss: 0.02588217898687617 Eval loss: 0.7915328285265559 Correct: 29.05982905982906%\n",
            "Epoch: 91 Training loss: 0.021950626347447155 Eval loss: 0.7820742916875929 Correct: 29.05982905982906%\n",
            "Epoch: 92 Training loss: 0.024212362074308658 Eval loss: 0.7809923750925378 Correct: 29.05982905982906%\n",
            "Epoch: 93 Training loss: 0.025750550546945306 Eval loss: 0.7887353380647255 Correct: 29.05982905982906%\n",
            "Epoch: 94 Training loss: 0.022343385685871908 Eval loss: 0.7554643911622634 Correct: 29.05982905982906%\n",
            "Epoch: 95 Training loss: 0.023484182581512414 Eval loss: 0.8971695677191178 Correct: 29.05982905982906%\n",
            "Epoch: 96 Training loss: 0.024524250216131804 Eval loss: 0.8045079411485858 Correct: 29.05982905982906%\n",
            "Epoch: 97 Training loss: 0.022263687923555153 Eval loss: 0.8017671778432032 Correct: 29.05982905982906%\n",
            "Epoch: 98 Training loss: 0.023922238758302683 Eval loss: 0.8409776385962004 Correct: 29.05982905982906%\n",
            "Epoch: 99 Training loss: 0.02332833425319336 Eval loss: 0.835401220686208 Correct: 29.05982905982906%\n",
            "Epoch: 100 Training loss: 0.021814180973592556 Eval loss: 0.8045965832045141 Correct: 29.05982905982906%\n",
            "Epoch: 101 Training loss: 0.02087954219700805 Eval loss: 0.8052333705328465 Correct: 29.05982905982906%\n",
            "Epoch: 102 Training loss: 0.02038926326372348 Eval loss: 0.7634779621644157 Correct: 29.05982905982906%\n",
            "Epoch: 103 Training loss: 0.02402122920148031 Eval loss: 0.782822374239359 Correct: 29.05982905982906%\n",
            "Epoch: 104 Training loss: 0.018791125950770038 Eval loss: 0.8366756709351648 Correct: 29.05982905982906%\n",
            "Epoch: 105 Training loss: 0.020145116621733905 Eval loss: 0.7700680936741264 Correct: 29.05982905982906%\n"
          ],
          "name": "stdout"
        },
        {
          "output_type": "error",
          "ename": "KeyboardInterrupt",
          "evalue": "ignored",
          "traceback": [
            "\u001b[0;31m---------------------------------------------------------------------------\u001b[0m",
            "\u001b[0;31mKeyboardInterrupt\u001b[0m                         Traceback (most recent call last)",
            "\u001b[0;32m<ipython-input-52-b8c5fc60cdc0>\u001b[0m in \u001b[0;36m<module>\u001b[0;34m()\u001b[0m\n\u001b[1;32m     69\u001b[0m       \u001b[0mcheckpoint\u001b[0m \u001b[0;34m-=\u001b[0m \u001b[0;36m1\u001b[0m\u001b[0;34m\u001b[0m\u001b[0;34m\u001b[0m\u001b[0m\n\u001b[1;32m     70\u001b[0m \u001b[0;34m\u001b[0m\u001b[0m\n\u001b[0;32m---> 71\u001b[0;31m \u001b[0mtrain\u001b[0m\u001b[0;34m(\u001b[0m\u001b[0mtrain_loader\u001b[0m\u001b[0;34m,\u001b[0m \u001b[0mval_loader\u001b[0m\u001b[0;34m,\u001b[0m \u001b[0;36m200\u001b[0m\u001b[0;34m)\u001b[0m\u001b[0;34m\u001b[0m\u001b[0;34m\u001b[0m\u001b[0m\n\u001b[0m",
            "\u001b[0;32m<ipython-input-52-b8c5fc60cdc0>\u001b[0m in \u001b[0;36mtrain\u001b[0;34m(train_loader, val_loader, epoch_amount, save_checkpoint)\u001b[0m\n\u001b[1;32m     28\u001b[0m         \u001b[0mloss\u001b[0m \u001b[0;34m=\u001b[0m \u001b[0mcriterion\u001b[0m\u001b[0;34m(\u001b[0m\u001b[0moutputs\u001b[0m\u001b[0;34m,\u001b[0m \u001b[0mtorch\u001b[0m\u001b[0;34m.\u001b[0m\u001b[0mTensor\u001b[0m\u001b[0;34m(\u001b[0m\u001b[0mreal_value\u001b[0m\u001b[0;34m)\u001b[0m\u001b[0;34m)\u001b[0m\u001b[0;34m\u001b[0m\u001b[0;34m\u001b[0m\u001b[0m\n\u001b[1;32m     29\u001b[0m \u001b[0;34m\u001b[0m\u001b[0m\n\u001b[0;32m---> 30\u001b[0;31m         \u001b[0mloss\u001b[0m\u001b[0;34m.\u001b[0m\u001b[0mbackward\u001b[0m\u001b[0;34m(\u001b[0m\u001b[0;34m)\u001b[0m\u001b[0;34m\u001b[0m\u001b[0;34m\u001b[0m\u001b[0m\n\u001b[0m\u001b[1;32m     31\u001b[0m \u001b[0;34m\u001b[0m\u001b[0m\n\u001b[1;32m     32\u001b[0m         \u001b[0mlossSum\u001b[0m \u001b[0;34m+=\u001b[0m \u001b[0mloss\u001b[0m\u001b[0;34m.\u001b[0m\u001b[0mitem\u001b[0m\u001b[0;34m(\u001b[0m\u001b[0;34m)\u001b[0m\u001b[0;34m\u001b[0m\u001b[0;34m\u001b[0m\u001b[0m\n",
            "\u001b[0;32m/usr/local/lib/python3.6/dist-packages/torch/tensor.py\u001b[0m in \u001b[0;36mbackward\u001b[0;34m(self, gradient, retain_graph, create_graph)\u001b[0m\n\u001b[1;32m    193\u001b[0m                 \u001b[0mproducts\u001b[0m\u001b[0;34m.\u001b[0m \u001b[0mDefaults\u001b[0m \u001b[0mto\u001b[0m\u001b[0;31m \u001b[0m\u001b[0;31m`\u001b[0m\u001b[0;31m`\u001b[0m\u001b[0;32mFalse\u001b[0m\u001b[0;31m`\u001b[0m\u001b[0;31m`\u001b[0m\u001b[0;34m.\u001b[0m\u001b[0;34m\u001b[0m\u001b[0;34m\u001b[0m\u001b[0m\n\u001b[1;32m    194\u001b[0m         \"\"\"\n\u001b[0;32m--> 195\u001b[0;31m         \u001b[0mtorch\u001b[0m\u001b[0;34m.\u001b[0m\u001b[0mautograd\u001b[0m\u001b[0;34m.\u001b[0m\u001b[0mbackward\u001b[0m\u001b[0;34m(\u001b[0m\u001b[0mself\u001b[0m\u001b[0;34m,\u001b[0m \u001b[0mgradient\u001b[0m\u001b[0;34m,\u001b[0m \u001b[0mretain_graph\u001b[0m\u001b[0;34m,\u001b[0m \u001b[0mcreate_graph\u001b[0m\u001b[0;34m)\u001b[0m\u001b[0;34m\u001b[0m\u001b[0;34m\u001b[0m\u001b[0m\n\u001b[0m\u001b[1;32m    196\u001b[0m \u001b[0;34m\u001b[0m\u001b[0m\n\u001b[1;32m    197\u001b[0m     \u001b[0;32mdef\u001b[0m \u001b[0mregister_hook\u001b[0m\u001b[0;34m(\u001b[0m\u001b[0mself\u001b[0m\u001b[0;34m,\u001b[0m \u001b[0mhook\u001b[0m\u001b[0;34m)\u001b[0m\u001b[0;34m:\u001b[0m\u001b[0;34m\u001b[0m\u001b[0;34m\u001b[0m\u001b[0m\n",
            "\u001b[0;32m/usr/local/lib/python3.6/dist-packages/torch/autograd/__init__.py\u001b[0m in \u001b[0;36mbackward\u001b[0;34m(tensors, grad_tensors, retain_graph, create_graph, grad_variables)\u001b[0m\n\u001b[1;32m     97\u001b[0m     Variable._execution_engine.run_backward(\n\u001b[1;32m     98\u001b[0m         \u001b[0mtensors\u001b[0m\u001b[0;34m,\u001b[0m \u001b[0mgrad_tensors\u001b[0m\u001b[0;34m,\u001b[0m \u001b[0mretain_graph\u001b[0m\u001b[0;34m,\u001b[0m \u001b[0mcreate_graph\u001b[0m\u001b[0;34m,\u001b[0m\u001b[0;34m\u001b[0m\u001b[0;34m\u001b[0m\u001b[0m\n\u001b[0;32m---> 99\u001b[0;31m         allow_unreachable=True)  # allow_unreachable flag\n\u001b[0m\u001b[1;32m    100\u001b[0m \u001b[0;34m\u001b[0m\u001b[0m\n\u001b[1;32m    101\u001b[0m \u001b[0;34m\u001b[0m\u001b[0m\n",
            "\u001b[0;31mKeyboardInterrupt\u001b[0m: "
          ]
        }
      ]
    },
    {
      "cell_type": "code",
      "metadata": {
        "id": "aDc8f2aEZ1-c",
        "colab_type": "code",
        "colab": {
          "base_uri": "https://localhost:8080/",
          "height": 305
        },
        "outputId": "2d8094bc-8ff4-4505-b7e0-5d4b1e7e7cab"
      },
      "source": [
        "for data in test_loader:\n",
        "  images = data['image']\n",
        "  labels = torch.from_numpy(np.array(name_to_int(data['class_name'])))\n",
        "\n",
        "  for i in range(len(images)):\n",
        "    output = network(images[i].flatten().float())\n",
        "    \n",
        "    if(get_max_from_tensor(output) == labels[i]):\n",
        "      print(\"OK: {} == {}\".format(get_max_from_tensor(output), labels[i]))\n",
        "    else:\n",
        "      print(\"False: {} == {}\".format(get_max_from_tensor(output), labels[i]))"
      ],
      "execution_count": 57,
      "outputs": [
        {
          "output_type": "stream",
          "text": [
            "OK: 2 == 2\n",
            "OK: 2 == 2\n",
            "OK: 2 == 2\n",
            "OK: 1 == 1\n",
            "OK: 1 == 1\n",
            "OK: 1 == 1\n",
            "OK: 1 == 1\n",
            "OK: 3 == 3\n",
            "OK: 2 == 2\n",
            "OK: 1 == 1\n",
            "OK: 1 == 1\n",
            "OK: 3 == 3\n",
            "OK: 2 == 2\n",
            "OK: 1 == 1\n",
            "OK: 3 == 3\n",
            "OK: 3 == 3\n"
          ],
          "name": "stdout"
        }
      ]
    }
  ]
}