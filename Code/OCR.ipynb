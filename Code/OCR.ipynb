{
  "nbformat": 4,
  "nbformat_minor": 0,
  "metadata": {
    "colab": {
      "name": "OCR.ipynb",
      "provenance": [],
      "collapsed_sections": [],
      "machine_shape": "hm"
    },
    "kernelspec": {
      "name": "python3",
      "display_name": "Python 3"
    },
    "accelerator": "GPU"
  },
  "cells": [
    {
      "cell_type": "code",
      "metadata": {
        "id": "tqV3oHrg8mY-",
        "colab_type": "code",
        "colab": {}
      },
      "source": [
        "from __future__ import print_function, division\n",
        "import os\n",
        "import torch\n",
        "from skimage import io, transform\n",
        "import numpy as np\n",
        "import matplotlib.pyplot as plt\n",
        "from torch.utils.data import Dataset, DataLoader\n",
        "from torchvision import transforms, utils\n",
        "from skimage import io\n",
        "import torch.nn as nn\n",
        "import torch.nn.functional as F\n",
        "\n",
        "from skimage.color import rgb2gray\n",
        "\n",
        "from torch.utils.tensorboard import SummaryWriter\n",
        "\n",
        "import PIL\n",
        "from PIL import Image\n",
        "\n",
        "from google.colab import output"
      ],
      "execution_count": 0,
      "outputs": []
    },
    {
      "cell_type": "code",
      "metadata": {
        "id": "qZPVvFlrIHMt",
        "colab_type": "code",
        "outputId": "2d9de50f-1a1b-4058-c87a-e66b9d999b41",
        "colab": {
          "base_uri": "https://localhost:8080/",
          "height": 161
        }
      },
      "source": [
        "%cd /content/\n",
        "if(os.path.isdir('/content/Lithuanian_OCR') == False):\n",
        "  !git clone https://github.com/PauliusMilmantas/Lithuanian_OCR\n",
        "\n",
        "num_of_classes = 3"
      ],
      "execution_count": 2,
      "outputs": [
        {
          "output_type": "stream",
          "text": [
            "/content\n",
            "Cloning into 'Lithuanian_OCR'...\n",
            "remote: Enumerating objects: 387, done.\u001b[K\n",
            "remote: Counting objects: 100% (387/387), done.\u001b[K\n",
            "remote: Compressing objects: 100% (370/370), done.\u001b[K\n",
            "remote: Total 3918 (delta 18), reused 381 (delta 13), pack-reused 3531\u001b[K\n",
            "Receiving objects: 100% (3918/3918), 159.73 MiB | 34.91 MiB/s, done.\n",
            "Resolving deltas: 100% (595/595), done.\n"
          ],
          "name": "stdout"
        }
      ]
    },
    {
      "cell_type": "code",
      "metadata": {
        "id": "4dizldPQRNUj",
        "colab_type": "code",
        "colab": {}
      },
      "source": [
        "class ORCDataset(Dataset):\n",
        "  def __init__(self, root):\n",
        "    self.root = root\n",
        "\n",
        "  def __len__(self):\n",
        "    lt = 0\n",
        "    classes = os.listdir(self.root)\n",
        "    for cl in classes:\n",
        "      lt += len(os.listdir(self.root + '/' + cl))\n",
        "\n",
        "    return lt\n",
        "\n",
        "  def __getitem__(self, idx):\n",
        "    if torch.is_tensor(idx):\n",
        "     idx = idx.tolist()\n",
        "\n",
        "    if(idx <= len(self)):\n",
        "      found_file = \"\"\n",
        "      found_type = \"\"\n",
        "\n",
        "      fldrs = os.listdir(self.root)\n",
        "      for fld in fldrs:\n",
        "        fls = os.listdir(self.root + '/' + fld + '/')\n",
        "        for fl in fls:\n",
        "          if(fl == str(idx) + \".jpg\"):\n",
        "            found_file = self.root + '/' + fld + '/' + fl         \n",
        "            found_type = fld\n",
        "\n",
        "      try:\n",
        "        img = io.imread(found_file)\n",
        "        img = rgb2gray(img)\n",
        "\n",
        "        return {'image': img, 'class_name': found_type}\n",
        "      except:\n",
        "        if(found_file != \"\"):\n",
        "          print(\"Bad file: \" + found_file)\n",
        "        else:\n",
        "          print(\"File not found, idx = \" + str(idx))\n",
        "    else:\n",
        "      print()\n",
        "      raise Exception(\"Dataset index out of boundaries\")\n",
        "\n",
        "train_dataset = ORCDataset('/content/Lithuanian_OCR/Data/batch-2/training')\n",
        "val_dataset = ORCDataset('/content/Lithuanian_OCR/Data/batch-2/val')\n",
        "test_dataset = ORCDataset('/content/Lithuanian_OCR/Data/batch-2/test')"
      ],
      "execution_count": 0,
      "outputs": []
    },
    {
      "cell_type": "code",
      "metadata": {
        "id": "KR2HO96n8pXN",
        "colab_type": "code",
        "colab": {}
      },
      "source": [
        "class Net(nn.Module):\n",
        "    def __init__(self, input_size, hidden1_size, hidden2_size, num_classes):\n",
        "        super(Net, self).__init__()\n",
        "        self.fc1 = nn.Linear(input_size, hidden1_size)\n",
        "        self.relu1 = nn.ReLU()\n",
        "        self.fc2 = nn.Linear(hidden1_size, hidden2_size)\n",
        "        self.relu2 = nn.ReLU()\n",
        "        self.fc3 = nn.Linear(hidden2_size, num_classes)  \n",
        "    \n",
        "    def forward(self, x):\n",
        "        out = self.fc1(x)\n",
        "        out = self.relu1(out)\n",
        "        out = self.fc2(out)        \n",
        "        out = self.relu2(out)     \n",
        "        out = self.fc3(out)\n",
        "        return out"
      ],
      "execution_count": 0,
      "outputs": []
    },
    {
      "cell_type": "code",
      "metadata": {
        "id": "MwTzb7K0_OSi",
        "colab_type": "code",
        "outputId": "2e9e5ac0-8038-46e7-9d07-c07c65dd33f3",
        "colab": {
          "base_uri": "https://localhost:8080/",
          "height": 143
        }
      },
      "source": [
        "network = Net(4096, 1500, 300, num_of_classes)\n",
        "network.cuda()\n",
        "optimizer = torch.optim.SGD(network.parameters(), lr=0.01, momentum=0.6)\n",
        "criterion = nn.MSELoss().cuda()\n",
        "\n",
        "print(network)"
      ],
      "execution_count": 6,
      "outputs": [
        {
          "output_type": "stream",
          "text": [
            "Net(\n",
            "  (fc1): Linear(in_features=4096, out_features=1500, bias=True)\n",
            "  (relu1): ReLU()\n",
            "  (fc2): Linear(in_features=1500, out_features=300, bias=True)\n",
            "  (relu2): ReLU()\n",
            "  (fc3): Linear(in_features=300, out_features=3, bias=True)\n",
            ")\n"
          ],
          "name": "stdout"
        }
      ]
    },
    {
      "cell_type": "code",
      "metadata": {
        "id": "lMDkqvToUO1X",
        "colab_type": "code",
        "colab": {}
      },
      "source": [
        "network.load_state_dict(torch.load('/content/Lithuanian_OCR/Trained_model/model.pth'))\n",
        "network.eval()\n",
        "\n",
        "optimizer = torch.optim.SGD(network.parameters(), lr=0.2, momentum=0.2)\n",
        "optimizer.load_state_dict(torch.load('/content/Lithuanian_OCR/Trained_model/optimizer.pth'))"
      ],
      "execution_count": 0,
      "outputs": []
    },
    {
      "cell_type": "code",
      "metadata": {
        "id": "dMTTpgG39U9y",
        "colab_type": "code",
        "outputId": "24e14b44-0af9-4689-a91b-a83af933712d",
        "colab": {
          "base_uri": "https://localhost:8080/",
          "height": 35
        }
      },
      "source": [
        "dev = torch.device(\"cuda\") if torch.cuda.is_available() else torch.device(\"cpu\")\n",
        "network.to(dev)\n",
        "criterion.to(dev)\n",
        "dev"
      ],
      "execution_count": 7,
      "outputs": [
        {
          "output_type": "execute_result",
          "data": {
            "text/plain": [
              "device(type='cuda')"
            ]
          },
          "metadata": {
            "tags": []
          },
          "execution_count": 7
        }
      ]
    },
    {
      "cell_type": "code",
      "metadata": {
        "id": "FsOVe0KqWNts",
        "colab_type": "code",
        "outputId": "1c2fe033-d0be-4c0e-ca07-4e2730cf67f9",
        "colab": {
          "base_uri": "https://localhost:8080/",
          "height": 125
        }
      },
      "source": [
        "device = torch.device('cuda' if torch.cuda.is_available() else 'cpu')\n",
        "print('Using device:', device)\n",
        "print()\n",
        "\n",
        "#Additional Info when using cuda\n",
        "if device.type == 'cuda':\n",
        "    print(torch.cuda.get_device_name(0))\n",
        "    print('Memory Usage:')\n",
        "    print('Allocated:', round(torch.cuda.memory_allocated(0)/1024**3,1), 'GB')\n",
        "    print('Cached:   ', round(torch.cuda.memory_cached(0)/1024**3,1), 'GB')"
      ],
      "execution_count": 8,
      "outputs": [
        {
          "output_type": "stream",
          "text": [
            "Using device: cuda\n",
            "\n",
            "Tesla K80\n",
            "Memory Usage:\n",
            "Allocated: 0.0 GB\n",
            "Cached:    0.0 GB\n"
          ],
          "name": "stdout"
        }
      ]
    },
    {
      "cell_type": "code",
      "metadata": {
        "id": "KIOL9zLnKiEu",
        "colab_type": "code",
        "colab": {}
      },
      "source": [
        "train_loader = torch.utils.data.DataLoader(train_dataset, batch_size = len(train_dataset),shuffle=True)\n",
        "val_loader = torch.utils.data.DataLoader(val_dataset, batch_size = len(val_dataset), shuffle=True)\n",
        "test_loader = torch.utils.data.DataLoader(test_dataset, batch_size = len(test_dataset), shuffle=True)"
      ],
      "execution_count": 0,
      "outputs": []
    },
    {
      "cell_type": "code",
      "metadata": {
        "id": "SAi_TQWW-04_",
        "colab_type": "code",
        "outputId": "c4c2fc90-e027-423a-f16e-d19aaed5946d",
        "colab": {
          "base_uri": "https://localhost:8080/",
          "height": 358
        }
      },
      "source": [
        "dataiter = iter(train_loader)\n",
        "itr = dataiter.next()\n",
        "\n",
        "label = itr['class_name']\n",
        "img = itr['image']\n",
        "print(\"Class name: {}\".format(label[0]))\n",
        "\n",
        "fig = plt.figure(figsize = (5,5)) \n",
        "ax = fig.add_subplot(111)\n",
        "ax.imshow(img[0])"
      ],
      "execution_count": 12,
      "outputs": [
        {
          "output_type": "stream",
          "text": [
            "Class name: P\n"
          ],
          "name": "stdout"
        },
        {
          "output_type": "execute_result",
          "data": {
            "text/plain": [
              "<matplotlib.image.AxesImage at 0x7fbbc401e9b0>"
            ]
          },
          "metadata": {
            "tags": []
          },
          "execution_count": 12
        },
        {
          "output_type": "display_data",
          "data": {
            "image/png": "[encoded data removed]",
            "text/plain": [
              "<Figure size 360x360 with 1 Axes>"
            ]
          },
          "metadata": {
            "tags": [],
            "needs_background": "light"
          }
        }
      ]
    },
    {
      "cell_type": "code",
      "metadata": {
        "id": "LMbDr5k1BOPE",
        "colab_type": "code",
        "colab": {}
      },
      "source": [
        "train_losses = []\n",
        "train_counter = []\n",
        "test_losses = []\n",
        "test_counter = [i*len(train_loader.dataset) for i in range(10 + 1)]"
      ],
      "execution_count": 0,
      "outputs": []
    },
    {
      "cell_type": "code",
      "metadata": {
        "id": "aCwc6dI0BfdU",
        "colab_type": "code",
        "colab": {
          "base_uri": "https://localhost:8080/",
          "height": 35
        },
        "outputId": "b292d310-4b5d-467f-bfaf-7120f52e7369"
      },
      "source": [
        "!mkdir results"
      ],
      "execution_count": 16,
      "outputs": [
        {
          "output_type": "stream",
          "text": [
            "mkdir: cannot create directory ‘results’: File exists\n"
          ],
          "name": "stdout"
        }
      ]
    },
    {
      "cell_type": "code",
      "metadata": {
        "id": "WNsrIgqgbT15",
        "colab_type": "code",
        "colab": {}
      },
      "source": [
        "def name_to_int(data):\n",
        "\n",
        "  switcher = {\n",
        "      'A': 1,\n",
        "      'B': 2,\n",
        "      'C': 3,\n",
        "      'A_small': 1,\n",
        "      'P': 2,\n",
        "      'u': 3\n",
        "  }\n",
        "\n",
        "  new_data = []\n",
        "\n",
        "  for dt in data:\n",
        "    new_data.append(switcher.get(dt))\n",
        "\n",
        "  return new_data"
      ],
      "execution_count": 0,
      "outputs": []
    },
    {
      "cell_type": "code",
      "metadata": {
        "id": "YGa3hBILPt1E",
        "colab_type": "code",
        "colab": {}
      },
      "source": [
        "def get_max_from_tensor(data):\n",
        "  maxVal = data[0]\n",
        "  maxId = 0\n",
        "  for i in range(len(data)):\n",
        "    if(data[i] > maxVal):\n",
        "      maxVal = data[i]\n",
        "      maxId = i\n",
        "\n",
        "  return maxId + 1"
      ],
      "execution_count": 0,
      "outputs": []
    },
    {
      "cell_type": "code",
      "metadata": {
        "id": "rE8MNszDBZ_e",
        "colab_type": "code",
        "outputId": "48ad386f-9d63-4924-8a38-425640145ba4",
        "colab": {
          "base_uri": "https://localhost:8080/",
          "height": 1000
        }
      },
      "source": [
        "def train(train_loader, val_loader, epoch_amount, save_checkpoint = 10):\n",
        "  network.eval()\n",
        "  train_loss_hist = []\n",
        "  val_loss_hist = []\n",
        "  checkpoint = save_checkpoint\n",
        "  for epoch in range(epoch_amount):\n",
        "    num_images_train = 0\n",
        "    num_images_val = 0\n",
        "\n",
        "    # TRAINING DATASET\n",
        "    correct = 0\n",
        "    for data in train_loader:\n",
        "      images = data['image']\n",
        "      labels = torch.from_numpy(np.array(name_to_int(data['class_name'])))\n",
        "\n",
        "      num_images_train = len(images)\n",
        "\n",
        "      lossSum = 0\n",
        "      for idx in range(len(images)):\n",
        "        optimizer.zero_grad()\n",
        "\n",
        "        outputs = network(images[idx].cuda().flatten().float())\n",
        "\n",
        "        maxIdx = get_max_from_tensor(outputs)\n",
        "        real_value = np.zeros(num_of_classes)\n",
        "        real_value[labels[idx] - 1] = 1\n",
        "\n",
        "        loss = criterion(outputs.cuda(), torch.Tensor(real_value).cuda()) \n",
        "        \n",
        "        loss.backward()\n",
        "\n",
        "        lossSum += loss.item()\n",
        "        train_loss_hist.append(lossSum)\n",
        "\n",
        "        optimizer.step()\n",
        "\n",
        "    # VALIDATION\n",
        "    for data in val_loader:\n",
        "      images = data['image']\n",
        "      labels = torch.from_numpy(np.array(name_to_int(data['class_name'])))\n",
        "\n",
        "      images.cuda()\n",
        "      labels.cuda()\n",
        "\n",
        "      num_images_val = len(images)\n",
        "\n",
        "      lossSum = 0\n",
        "      for idx in range(len(images)):\n",
        "        optimizer.zero_grad()\n",
        "\n",
        "        outputs = network(images[idx].cuda().flatten().float())\n",
        "\n",
        "        if(labels[idx] == get_max_from_tensor(outputs)):\n",
        "          correct += 1\n",
        "\n",
        "        maxIdx = get_max_from_tensor(outputs)\n",
        "        real_value = np.zeros(num_of_classes)\n",
        "        real_value[labels[idx] - 1] = 1\n",
        "        loss = criterion(outputs.cuda(), torch.Tensor(real_value).cuda()) \n",
        "\n",
        "        lossSum += loss.item()\n",
        "        val_loss_hist.append(lossSum)\n",
        "\n",
        "    print(\"Epoch: {} Training loss: {} Eval loss: {} Correct: {}%\".format(epoch,train_loss_hist[len(train_loss_hist) - 1],val_loss_hist[len(val_loss_hist) - 1],correct*100/num_images_train))\n",
        "\n",
        "    if(checkpoint == 0):\n",
        "      torch.save(network.state_dict(), '/content/results/model.pth')\n",
        "      torch.save(optimizer.state_dict(), '/content/results/optimizer.pth')\n",
        "\n",
        "      checkpoint = save_checkpoint\n",
        "    else:\n",
        "      checkpoint -= 1\n",
        "\n",
        "train(train_loader, val_loader, 100, 5)"
      ],
      "execution_count": 27,
      "outputs": [
        {
          "output_type": "stream",
          "text": [
            "Epoch: 0 Training loss: 2.9010149281602935 Eval loss: 3.004373426286975 Correct: 25.58139534883721%\n",
            "Epoch: 1 Training loss: 1.848743730044589 Eval loss: 1.4971708047232823 Correct: 29.069767441860463%\n",
            "Epoch: 2 Training loss: 0.7701687966091413 Eval loss: 1.8790852994134184 Correct: 28.488372093023255%\n",
            "Epoch: 3 Training loss: 1.3209619734293483 Eval loss: 1.8333372427496215 Correct: 29.069767441860463%\n",
            "Epoch: 4 Training loss: 2.10082597009972 Eval loss: 2.2427588339151043 Correct: 28.488372093023255%\n",
            "Epoch: 5 Training loss: 0.5510089704604866 Eval loss: 1.4580529683444183 Correct: 28.488372093023255%\n",
            "Epoch: 6 Training loss: 1.47888516352441 Eval loss: 1.8669720522302669 Correct: 27.906976744186046%\n",
            "Epoch: 7 Training loss: 0.6615514617019471 Eval loss: 1.7196879122275277 Correct: 28.488372093023255%\n",
            "Epoch: 8 Training loss: 0.8120222212073713 Eval loss: 1.345492521279084 Correct: 29.069767441860463%\n",
            "Epoch: 9 Training loss: 0.6643302562915778 Eval loss: 1.5325847629483178 Correct: 28.488372093023255%\n",
            "Epoch: 10 Training loss: 0.32622586161051004 Eval loss: 1.5542153256501479 Correct: 29.069767441860463%\n",
            "Epoch: 11 Training loss: 0.22157801730941173 Eval loss: 1.4639775641153392 Correct: 29.651162790697676%\n",
            "Epoch: 12 Training loss: 0.13655536397845935 Eval loss: 1.4367925825581551 Correct: 29.069767441860463%\n",
            "Epoch: 13 Training loss: 0.1457793499012041 Eval loss: 1.3834030662546866 Correct: 29.069767441860463%\n",
            "Epoch: 14 Training loss: 0.13622509988272213 Eval loss: 1.550626594296773 Correct: 28.488372093023255%\n",
            "Epoch: 15 Training loss: 0.09483739760025856 Eval loss: 1.4239634508121526 Correct: 29.069767441860463%\n",
            "Epoch: 16 Training loss: 0.1109933982684197 Eval loss: 2.136938366911636 Correct: 26.74418604651163%\n",
            "Epoch: 17 Training loss: 0.12537567774415947 Eval loss: 1.3968700900984459 Correct: 29.069767441860463%\n",
            "Epoch: 18 Training loss: 0.06895545477607357 Eval loss: 1.5549282847873656 Correct: 28.488372093023255%\n",
            "Epoch: 19 Training loss: 0.07524575872253081 Eval loss: 1.406485944715314 Correct: 29.069767441860463%\n",
            "Epoch: 20 Training loss: 0.07529441069709719 Eval loss: 1.4032382069915457 Correct: 29.069767441860463%\n",
            "Epoch: 21 Training loss: 0.06547200731438352 Eval loss: 1.4764300310171166 Correct: 29.069767441860463%\n",
            "Epoch: 22 Training loss: 0.08176742020782513 Eval loss: 1.45539312490655 Correct: 29.069767441860463%\n",
            "Epoch: 23 Training loss: 0.05135750203203315 Eval loss: 1.5139880175993312 Correct: 28.488372093023255%\n",
            "Epoch: 24 Training loss: 0.04972131851741324 Eval loss: 1.435116183522041 Correct: 29.069767441860463%\n",
            "Epoch: 25 Training loss: 0.04857379807435791 Eval loss: 1.4116472702753526 Correct: 29.069767441860463%\n",
            "Epoch: 26 Training loss: 0.04554958458629699 Eval loss: 1.4253904396146027 Correct: 29.069767441860463%\n",
            "Epoch: 27 Training loss: 0.04280800850074229 Eval loss: 1.4434898313520534 Correct: 29.069767441860463%\n",
            "Epoch: 28 Training loss: 0.03748825355228291 Eval loss: 1.382948012327688 Correct: 29.069767441860463%\n",
            "Epoch: 29 Training loss: 0.032139362264274496 Eval loss: 1.422484864492617 Correct: 29.069767441860463%\n",
            "Epoch: 30 Training loss: 0.033081222863984294 Eval loss: 1.4223602756137552 Correct: 29.069767441860463%\n",
            "Epoch: 31 Training loss: 0.03524681656676876 Eval loss: 1.4101089916694036 Correct: 29.069767441860463%\n",
            "Epoch: 32 Training loss: 0.028290888806623116 Eval loss: 1.407651883653216 Correct: 29.069767441860463%\n",
            "Epoch: 33 Training loss: 0.02643337681365665 Eval loss: 1.418186531586798 Correct: 29.069767441860463%\n",
            "Epoch: 34 Training loss: 0.026379981204740943 Eval loss: 1.4349865894801042 Correct: 29.069767441860463%\n",
            "Epoch: 35 Training loss: 0.02374355672404249 Eval loss: 1.4388867325651518 Correct: 29.069767441860463%\n",
            "Epoch: 36 Training loss: 0.021908289993362473 Eval loss: 1.4389560448689735 Correct: 29.069767441860463%\n",
            "Epoch: 37 Training loss: 0.019633670062248143 Eval loss: 1.4617210646993044 Correct: 29.069767441860463%\n",
            "Epoch: 38 Training loss: 0.0193631047773124 Eval loss: 1.4354342668739264 Correct: 29.069767441860463%\n",
            "Epoch: 39 Training loss: 0.018063711892182255 Eval loss: 1.4426259301635582 Correct: 29.069767441860463%\n",
            "Epoch: 40 Training loss: 0.017224527095095254 Eval loss: 1.3685357002650562 Correct: 29.069767441860463%\n",
            "Epoch: 41 Training loss: 0.017144342187378925 Eval loss: 1.4215394274847313 Correct: 29.069767441860463%\n",
            "Epoch: 42 Training loss: 0.016183048831180713 Eval loss: 1.417220672543408 Correct: 29.069767441860463%\n",
            "Epoch: 43 Training loss: 0.014129566774499835 Eval loss: 1.3964749946504753 Correct: 29.069767441860463%\n",
            "Epoch: 44 Training loss: 0.015163233591920289 Eval loss: 1.4084721847848414 Correct: 29.069767441860463%\n",
            "Epoch: 45 Training loss: 0.013678810233017202 Eval loss: 1.4583453957402526 Correct: 29.069767441860463%\n",
            "Epoch: 46 Training loss: 0.012198070178058629 Eval loss: 1.4587224763006361 Correct: 29.069767441860463%\n",
            "Epoch: 47 Training loss: 0.012180165375895058 Eval loss: 1.4291523664269334 Correct: 29.069767441860463%\n",
            "Epoch: 48 Training loss: 0.011985004972366653 Eval loss: 1.4258109510319628 Correct: 29.069767441860463%\n",
            "Epoch: 49 Training loss: 0.011608105413529302 Eval loss: 1.4609777445093641 Correct: 29.069767441860463%\n",
            "Epoch: 50 Training loss: 0.00918506609752967 Eval loss: 1.4440696548754204 Correct: 29.069767441860463%\n",
            "Epoch: 51 Training loss: 0.010570707914212107 Eval loss: 1.4389696177568112 Correct: 29.069767441860463%\n",
            "Epoch: 52 Training loss: 0.008188678651379178 Eval loss: 1.4378510343940434 Correct: 29.069767441860463%\n",
            "Epoch: 53 Training loss: 0.00847853492956574 Eval loss: 1.422189799555781 Correct: 29.069767441860463%\n",
            "Epoch: 54 Training loss: 0.007891797529623545 Eval loss: 1.4705443354059753 Correct: 29.069767441860463%\n",
            "Epoch: 55 Training loss: 0.007480407662797006 Eval loss: 1.4271440062602778 Correct: 29.069767441860463%\n",
            "Epoch: 56 Training loss: 0.007133439032109834 Eval loss: 1.4113013753722043 Correct: 29.069767441860463%\n",
            "Epoch: 57 Training loss: 0.00750621943598162 Eval loss: 1.4453267940134538 Correct: 29.069767441860463%\n",
            "Epoch: 58 Training loss: 0.00684136922535572 Eval loss: 1.4177928862463887 Correct: 29.069767441860463%\n",
            "Epoch: 59 Training loss: 0.006446021022611603 Eval loss: 1.4572169831640167 Correct: 29.069767441860463%\n",
            "Epoch: 60 Training loss: 0.00664242081802513 Eval loss: 1.4419436092257456 Correct: 29.069767441860463%\n",
            "Epoch: 61 Training loss: 0.005495048654040602 Eval loss: 1.4338902182907987 Correct: 29.069767441860463%\n",
            "Epoch: 62 Training loss: 0.006163161117285654 Eval loss: 1.434672659177977 Correct: 29.069767441860463%\n",
            "Epoch: 63 Training loss: 0.005467313056328749 Eval loss: 1.446554087496338 Correct: 29.069767441860463%\n",
            "Epoch: 64 Training loss: 0.005057993762648039 Eval loss: 1.4311480307023885 Correct: 29.069767441860463%\n",
            "Epoch: 65 Training loss: 0.004556237052611323 Eval loss: 1.4468973667669616 Correct: 29.069767441860463%\n",
            "Epoch: 66 Training loss: 0.004155643168758161 Eval loss: 1.4420152919419706 Correct: 29.069767441860463%\n",
            "Epoch: 67 Training loss: 0.004184410293760266 Eval loss: 1.446585563632425 Correct: 29.069767441860463%\n",
            "Epoch: 68 Training loss: 0.0037823780537564744 Eval loss: 1.4389030912498129 Correct: 29.069767441860463%\n",
            "Epoch: 69 Training loss: 0.0038041753945456946 Eval loss: 1.4340756762576348 Correct: 29.069767441860463%\n",
            "Epoch: 70 Training loss: 0.0037287983477085618 Eval loss: 1.4524812634708724 Correct: 29.069767441860463%\n",
            "Epoch: 71 Training loss: 0.0033284441138761167 Eval loss: 1.4414745661097186 Correct: 29.069767441860463%\n",
            "Epoch: 72 Training loss: 0.0032726364505037964 Eval loss: 1.4366149540094284 Correct: 29.069767441860463%\n",
            "Epoch: 73 Training loss: 0.0028269771769942054 Eval loss: 1.425568698148254 Correct: 29.069767441860463%\n",
            "Epoch: 74 Training loss: 0.002780756590340161 Eval loss: 1.4502782658378237 Correct: 29.069767441860463%\n",
            "Epoch: 75 Training loss: 0.0027377886846977617 Eval loss: 1.445472966515922 Correct: 29.069767441860463%\n",
            "Epoch: 76 Training loss: 0.0027601193555142345 Eval loss: 1.4526827840966234 Correct: 29.069767441860463%\n",
            "Epoch: 77 Training loss: 0.002716906732445068 Eval loss: 1.4363344358914674 Correct: 29.069767441860463%\n",
            "Epoch: 78 Training loss: 0.0025292187382319753 Eval loss: 1.427372843939338 Correct: 29.069767441860463%\n",
            "Epoch: 79 Training loss: 0.002598765137783232 Eval loss: 1.4456901694711632 Correct: 29.069767441860463%\n",
            "Epoch: 80 Training loss: 0.001979638939360484 Eval loss: 1.4257543759295004 Correct: 29.069767441860463%\n",
            "Epoch: 81 Training loss: 0.002152757767134972 Eval loss: 1.4460331463284035 Correct: 29.069767441860463%\n",
            "Epoch: 82 Training loss: 0.0025221222494735684 Eval loss: 1.4447511479374953 Correct: 29.069767441860463%\n",
            "Epoch: 83 Training loss: 0.001989826760691926 Eval loss: 1.4322252073307027 Correct: 29.069767441860463%\n",
            "Epoch: 84 Training loss: 0.0018640187808216524 Eval loss: 1.4363845877032873 Correct: 29.069767441860463%\n",
            "Epoch: 85 Training loss: 0.0020212203642699933 Eval loss: 1.4456279404857924 Correct: 29.069767441860463%\n",
            "Epoch: 86 Training loss: 0.0018341677462672124 Eval loss: 1.445672489613571 Correct: 29.069767441860463%\n",
            "Epoch: 87 Training loss: 0.0016676449774877256 Eval loss: 1.4360010338514257 Correct: 29.069767441860463%\n",
            "Epoch: 88 Training loss: 0.0017219625262896443 Eval loss: 1.4458085335189708 Correct: 29.069767441860463%\n",
            "Epoch: 89 Training loss: 0.0016324283783148985 Eval loss: 1.4359813010073594 Correct: 29.069767441860463%\n",
            "Epoch: 90 Training loss: 0.001532214030163459 Eval loss: 1.4433670169828474 Correct: 29.069767441860463%\n",
            "Epoch: 91 Training loss: 0.0014431762144795357 Eval loss: 1.4347809501687152 Correct: 29.069767441860463%\n",
            "Epoch: 92 Training loss: 0.0015197653744110085 Eval loss: 1.4538675408794006 Correct: 29.069767441860463%\n",
            "Epoch: 93 Training loss: 0.0015126822167275122 Eval loss: 1.445110467274617 Correct: 29.069767441860463%\n",
            "Epoch: 94 Training loss: 0.0014195034975301724 Eval loss: 1.4364420057713687 Correct: 29.069767441860463%\n",
            "Epoch: 95 Training loss: 0.0012603236370694049 Eval loss: 1.4452810533903175 Correct: 29.069767441860463%\n",
            "Epoch: 96 Training loss: 0.0012072223218879685 Eval loss: 1.4378370084136805 Correct: 29.069767441860463%\n",
            "Epoch: 97 Training loss: 0.001180286361176286 Eval loss: 1.4522866218062518 Correct: 29.069767441860463%\n",
            "Epoch: 98 Training loss: 0.0011860887158263722 Eval loss: 1.4478559609929107 Correct: 29.069767441860463%\n",
            "Epoch: 99 Training loss: 0.0011559045527818057 Eval loss: 1.4495016782093444 Correct: 29.069767441860463%\n"
          ],
          "name": "stdout"
        }
      ]
    },
    {
      "cell_type": "code",
      "metadata": {
        "id": "aDc8f2aEZ1-c",
        "colab_type": "code",
        "outputId": "3b4a0d02-14f0-49a3-abb7-5a7611787a52",
        "colab": {
          "base_uri": "https://localhost:8080/",
          "height": 431
        }
      },
      "source": [
        "for data in test_loader:\n",
        "  images = data['image']\n",
        "  labels = torch.from_numpy(np.array(name_to_int(data['class_name'])))\n",
        "\n",
        "  for i in range(len(images)):\n",
        "    output = network(images[i].cuda().flatten().float())\n",
        "    \n",
        "    if(get_max_from_tensor(output) == labels[i]):\n",
        "      print(\"OK: {} == {} Probability: {}\".format(get_max_from_tensor(output), labels[i], output[get_max_from_tensor(output) - 1]))\n",
        "    else:\n",
        "      print(\"False: {} == {} Probability: {}\".format(get_max_from_tensor(output), labels[i], output[get_max_from_tensor(output) - 1]))"
      ],
      "execution_count": 70,
      "outputs": [
        {
          "output_type": "stream",
          "text": [
            "OK: 3 == 3 Probability: 0.860595703125\n",
            "OK: 2 == 2 Probability: 1.0670024156570435\n",
            "OK: 3 == 3 Probability: 0.9735060334205627\n",
            "OK: 2 == 2 Probability: 0.646336555480957\n",
            "OK: 1 == 1 Probability: 0.8910107612609863\n",
            "OK: 3 == 3 Probability: 0.8794940114021301\n",
            "OK: 2 == 2 Probability: 0.9447812438011169\n",
            "OK: 3 == 3 Probability: 0.7588624954223633\n",
            "OK: 2 == 2 Probability: 1.0152208805084229\n",
            "OK: 3 == 3 Probability: 0.6961532831192017\n",
            "OK: 3 == 3 Probability: 0.928891122341156\n",
            "OK: 1 == 1 Probability: 0.8031685948371887\n",
            "OK: 2 == 2 Probability: 0.9491794109344482\n",
            "OK: 3 == 3 Probability: 0.8562600612640381\n",
            "OK: 1 == 1 Probability: 1.102687120437622\n",
            "OK: 2 == 2 Probability: 1.0187582969665527\n",
            "OK: 2 == 2 Probability: 0.7778895497322083\n",
            "OK: 1 == 1 Probability: 0.988864541053772\n",
            "OK: 2 == 2 Probability: 1.0590862035751343\n",
            "OK: 1 == 1 Probability: 0.728187084197998\n",
            "OK: 1 == 1 Probability: 0.8701620101928711\n",
            "OK: 1 == 1 Probability: 0.8838222026824951\n",
            "OK: 2 == 2 Probability: 0.9105136394500732\n"
          ],
          "name": "stdout"
        }
      ]
    },
    {
      "cell_type": "code",
      "metadata": {
        "id": "BA6XaNQwoBYQ",
        "colab_type": "code",
        "colab": {}
      },
      "source": [
        "for opt in optimizer.param_groups:\n",
        "  opt['lr'] = 0.01"
      ],
      "execution_count": 0,
      "outputs": []
    },
    {
      "cell_type": "code",
      "metadata": {
        "id": "wKrJxDhb8aci",
        "colab_type": "code",
        "colab": {}
      },
      "source": [
        "!cp '/content/results/model.pth' '/content/Lithuanian_OCR/Trained_model/model.pth'\n",
        "!cp '/content/results/optimizer.pth' '/content/Lithuanian_OCR/Trained_model/optimizer.pth'"
      ],
      "execution_count": 0,
      "outputs": []
    }
  ]
}