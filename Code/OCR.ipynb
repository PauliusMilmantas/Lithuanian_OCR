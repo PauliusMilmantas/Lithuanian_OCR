{
  "nbformat": 4,
  "nbformat_minor": 0,
  "metadata": {
    "colab": {
      "name": "OCR.ipynb",
      "provenance": [],
      "collapsed_sections": [],
      "machine_shape": "hm"
    },
    "kernelspec": {
      "name": "python3",
      "display_name": "Python 3"
    },
    "accelerator": "GPU"
  },
  "cells": [
    {
      "cell_type": "code",
      "metadata": {
        "id": "tqV3oHrg8mY-",
        "colab_type": "code",
        "colab": {}
      },
      "source": [
        "from __future__ import print_function, division\n",
        "import os\n",
        "import torch\n",
        "from skimage import io, transform\n",
        "import numpy as np\n",
        "import matplotlib.pyplot as plt\n",
        "from torch.utils.data import Dataset, DataLoader\n",
        "from torchvision import transforms, utils\n",
        "from skimage import io\n",
        "import torch.nn as nn\n",
        "import torch.nn.functional as F\n",
        "\n",
        "from skimage.color import rgb2gray\n",
        "\n",
        "from torch.utils.tensorboard import SummaryWriter\n",
        "\n",
        "import PIL\n",
        "from PIL import Image\n",
        "\n",
        "from google.colab import output"
      ],
      "execution_count": 0,
      "outputs": []
    },
    {
      "cell_type": "code",
      "metadata": {
        "id": "qZPVvFlrIHMt",
        "colab_type": "code",
        "outputId": "15dc5c0f-8df7-45d1-c845-e70d1e5999e3",
        "colab": {
          "base_uri": "https://localhost:8080/",
          "height": 35
        }
      },
      "source": [
        "%cd /content/\n",
        "if(os.path.isdir('/content/Lithuanian_OCR') == False):\n",
        "  !git clone https://github.com/PauliusMilmantas/Lithuanian_OCR\n",
        "\n",
        "num_of_classes = 3"
      ],
      "execution_count": 4,
      "outputs": [
        {
          "output_type": "stream",
          "text": [
            "/content\n"
          ],
          "name": "stdout"
        }
      ]
    },
    {
      "cell_type": "code",
      "metadata": {
        "id": "4dizldPQRNUj",
        "colab_type": "code",
        "colab": {}
      },
      "source": [
        "class ORCDataset(Dataset):\n",
        "  def __init__(self, root):\n",
        "    self.root = root\n",
        "\n",
        "  def __len__(self):\n",
        "    lt = 0\n",
        "    classes = os.listdir(self.root)\n",
        "    for cl in classes:\n",
        "      lt += len(os.listdir(self.root + '/' + cl))\n",
        "\n",
        "    return lt\n",
        "\n",
        "  def __getitem__(self, idx):\n",
        "    if torch.is_tensor(idx):\n",
        "     idx = idx.tolist()\n",
        "\n",
        "    if(idx <= len(self)):\n",
        "      found_file = \"\"\n",
        "      found_type = \"\"\n",
        "\n",
        "      fldrs = os.listdir(self.root)\n",
        "      for fld in fldrs:\n",
        "        fls = os.listdir(self.root + '/' + fld + '/')\n",
        "        for fl in fls:\n",
        "          if(fl == str(idx) + \".jpg\"):\n",
        "            found_file = self.root + '/' + fld + '/' + fl         \n",
        "            found_type = fld\n",
        "\n",
        "      try:\n",
        "        img = io.imread(found_file)\n",
        "        img = rgb2gray(img)\n",
        "\n",
        "        return {'image': img, 'class_name': found_type}\n",
        "      except:\n",
        "        if(found_file != \"\"):\n",
        "          print(\"Bad file: \" + found_file)\n",
        "        else:\n",
        "          print(\"File not found, idx = \" + str(idx))\n",
        "    else:\n",
        "      print()\n",
        "      raise Exception(\"Dataset index out of boundaries\")\n",
        "\n",
        "train_dataset = ORCDataset('/content/Lithuanian_OCR/Data/batch-1/training')\n",
        "val_dataset = ORCDataset('/content/Lithuanian_OCR/Data/batch-1/val')\n",
        "test_dataset = ORCDataset('/content/Lithuanian_OCR/Data/batch-1/test')"
      ],
      "execution_count": 0,
      "outputs": []
    },
    {
      "cell_type": "code",
      "metadata": {
        "id": "KR2HO96n8pXN",
        "colab_type": "code",
        "colab": {}
      },
      "source": [
        "class Net(nn.Module):\n",
        "    def __init__(self, input_size, hidden1_size, hidden2_size, num_classes):\n",
        "        super(Net, self).__init__()\n",
        "        self.fc1 = nn.Linear(input_size, hidden1_size)\n",
        "        self.relu1 = nn.ReLU()\n",
        "        self.fc2 = nn.Linear(hidden1_size, hidden2_size)\n",
        "        self.relu2 = nn.ReLU()\n",
        "        self.fc3 = nn.Linear(hidden2_size, num_classes)  \n",
        "    \n",
        "    def forward(self, x):\n",
        "        out = self.fc1(x)\n",
        "        out = self.relu1(out)\n",
        "        out = self.fc2(out)        \n",
        "        out = self.relu2(out)     \n",
        "        out = self.fc3(out)\n",
        "        return out"
      ],
      "execution_count": 0,
      "outputs": []
    },
    {
      "cell_type": "code",
      "metadata": {
        "id": "MwTzb7K0_OSi",
        "colab_type": "code",
        "outputId": "a449b8aa-0c55-4ea3-c8a3-3a25dc9d081c",
        "colab": {
          "base_uri": "https://localhost:8080/",
          "height": 143
        }
      },
      "source": [
        "network = Net(4096, 1500, 300, num_of_classes)\n",
        "network.cuda()\n",
        "optimizer = torch.optim.SGD(network.parameters(), lr=0.01, momentum=0.6)\n",
        "criterion = nn.MSELoss().cuda()\n",
        "\n",
        "print(network)"
      ],
      "execution_count": 39,
      "outputs": [
        {
          "output_type": "stream",
          "text": [
            "Net(\n",
            "  (fc1): Linear(in_features=4096, out_features=1500, bias=True)\n",
            "  (relu1): ReLU()\n",
            "  (fc2): Linear(in_features=1500, out_features=300, bias=True)\n",
            "  (relu2): ReLU()\n",
            "  (fc3): Linear(in_features=300, out_features=3, bias=True)\n",
            ")\n"
          ],
          "name": "stdout"
        }
      ]
    },
    {
      "cell_type": "code",
      "metadata": {
        "id": "lMDkqvToUO1X",
        "colab_type": "code",
        "colab": {}
      },
      "source": [
        "network.load_state_dict(torch.load('/content/Lithuanian_OCR/Trained_model/model.pth'))\n",
        "network.eval()\n",
        "\n",
        "optimizer = torch.optim.SGD(network.parameters(), lr=0.2, momentum=0.2)\n",
        "optimizer.load_state_dict(torch.load('/content/Lithuanian_OCR/Trained_model/optimizer.pth'))"
      ],
      "execution_count": 0,
      "outputs": []
    },
    {
      "cell_type": "code",
      "metadata": {
        "id": "dMTTpgG39U9y",
        "colab_type": "code",
        "outputId": "4bfbe97b-c6a1-4306-a531-fcb88535c94a",
        "colab": {
          "base_uri": "https://localhost:8080/",
          "height": 35
        }
      },
      "source": [
        "dev = torch.device(\"cuda\") if torch.cuda.is_available() else torch.device(\"cpu\")\n",
        "network.to(dev)\n",
        "criterion.to(dev)\n",
        "dev"
      ],
      "execution_count": 7,
      "outputs": [
        {
          "output_type": "execute_result",
          "data": {
            "text/plain": [
              "device(type='cuda')"
            ]
          },
          "metadata": {
            "tags": []
          },
          "execution_count": 7
        }
      ]
    },
    {
      "cell_type": "code",
      "metadata": {
        "id": "FsOVe0KqWNts",
        "colab_type": "code",
        "outputId": "42be6a26-c6ff-4db2-89a1-1b980ee62814",
        "colab": {
          "base_uri": "https://localhost:8080/",
          "height": 125
        }
      },
      "source": [
        "device = torch.device('cuda' if torch.cuda.is_available() else 'cpu')\n",
        "print('Using device:', device)\n",
        "print()\n",
        "\n",
        "#Additional Info when using cuda\n",
        "if device.type == 'cuda':\n",
        "    print(torch.cuda.get_device_name(0))\n",
        "    print('Memory Usage:')\n",
        "    print('Allocated:', round(torch.cuda.memory_allocated(0)/1024**3,1), 'GB')\n",
        "    print('Cached:   ', round(torch.cuda.memory_cached(0)/1024**3,1), 'GB')"
      ],
      "execution_count": 8,
      "outputs": [
        {
          "output_type": "stream",
          "text": [
            "Using device: cuda\n",
            "\n",
            "Tesla K80\n",
            "Memory Usage:\n",
            "Allocated: 0.1 GB\n",
            "Cached:    0.1 GB\n"
          ],
          "name": "stdout"
        }
      ]
    },
    {
      "cell_type": "code",
      "metadata": {
        "id": "KIOL9zLnKiEu",
        "colab_type": "code",
        "colab": {}
      },
      "source": [
        "train_loader = torch.utils.data.DataLoader(train_dataset, batch_size = len(train_dataset),shuffle=True)\n",
        "val_loader = torch.utils.data.DataLoader(val_dataset, batch_size = len(val_dataset), shuffle=True)\n",
        "test_loader = torch.utils.data.DataLoader(test_dataset, batch_size = len(test_dataset), shuffle=True)"
      ],
      "execution_count": 0,
      "outputs": []
    },
    {
      "cell_type": "code",
      "metadata": {
        "id": "SAi_TQWW-04_",
        "colab_type": "code",
        "outputId": "e3d47073-430c-4414-e24b-97228ba2f6b9",
        "colab": {
          "base_uri": "https://localhost:8080/",
          "height": 358
        }
      },
      "source": [
        "dataiter = iter(train_loader)\n",
        "itr = dataiter.next()\n",
        "\n",
        "label = itr['class_name']\n",
        "img = itr['image']\n",
        "print(\"Class name: {}\".format(label[0]))\n",
        "\n",
        "fig = plt.figure(figsize = (5,5)) \n",
        "ax = fig.add_subplot(111)\n",
        "ax.imshow(img[0])"
      ],
      "execution_count": 11,
      "outputs": [
        {
          "output_type": "stream",
          "text": [
            "Class name: B\n"
          ],
          "name": "stdout"
        },
        {
          "output_type": "execute_result",
          "data": {
            "text/plain": [
              "<matplotlib.image.AxesImage at 0x7fb468030ba8>"
            ]
          },
          "metadata": {
            "tags": []
          },
          "execution_count": 11
        },
        {
          "output_type": "display_data",
          "data": {
            "image/png": "[encoded data removed]",
            "text/plain": [
              "<Figure size 360x360 with 1 Axes>"
            ]
          },
          "metadata": {
            "tags": [],
            "needs_background": "light"
          }
        }
      ]
    },
    {
      "cell_type": "code",
      "metadata": {
        "id": "LMbDr5k1BOPE",
        "colab_type": "code",
        "colab": {}
      },
      "source": [
        "train_losses = []\n",
        "train_counter = []\n",
        "test_losses = []\n",
        "test_counter = [i*len(train_loader.dataset) for i in range(10 + 1)]"
      ],
      "execution_count": 0,
      "outputs": []
    },
    {
      "cell_type": "code",
      "metadata": {
        "id": "aCwc6dI0BfdU",
        "colab_type": "code",
        "colab": {}
      },
      "source": [
        "!mkdir results"
      ],
      "execution_count": 0,
      "outputs": []
    },
    {
      "cell_type": "code",
      "metadata": {
        "id": "WNsrIgqgbT15",
        "colab_type": "code",
        "colab": {}
      },
      "source": [
        "def name_to_int(data):\n",
        "\n",
        "  switcher = {\n",
        "      'A': 1,\n",
        "      'B': 2,\n",
        "      'C': 3,\n",
        "      'A_small': 4,\n",
        "      'P': 5,\n",
        "      'u': 6\n",
        "  }\n",
        "\n",
        "  new_data = []\n",
        "\n",
        "  for dt in data:\n",
        "    new_data.append(switcher.get(dt))\n",
        "\n",
        "  return new_data"
      ],
      "execution_count": 0,
      "outputs": []
    },
    {
      "cell_type": "code",
      "metadata": {
        "id": "YGa3hBILPt1E",
        "colab_type": "code",
        "colab": {}
      },
      "source": [
        "def get_max_from_tensor(data):\n",
        "  maxVal = data[0]\n",
        "  maxId = 0\n",
        "  for i in range(len(data)):\n",
        "    if(data[i] > maxVal):\n",
        "      maxVal = data[i]\n",
        "      maxId = i\n",
        "\n",
        "  return maxId + 1"
      ],
      "execution_count": 0,
      "outputs": []
    },
    {
      "cell_type": "code",
      "metadata": {
        "id": "rE8MNszDBZ_e",
        "colab_type": "code",
        "outputId": "c03e075f-ad53-4741-e3e5-8723bdafe9b6",
        "colab": {
          "base_uri": "https://localhost:8080/",
          "height": 1000
        }
      },
      "source": [
        "def train(train_loader, val_loader, epoch_amount, save_checkpoint = 10):\n",
        "  network.eval()\n",
        "  train_loss_hist = []\n",
        "  val_loss_hist = []\n",
        "  checkpoint = save_checkpoint\n",
        "  for epoch in range(epoch_amount):\n",
        "    num_images_train = 0\n",
        "    num_images_val = 0\n",
        "\n",
        "    # TRAINING DATASET\n",
        "    correct = 0\n",
        "    for data in train_loader:\n",
        "      images = data['image']\n",
        "      labels = torch.from_numpy(np.array(name_to_int(data['class_name'])))\n",
        "\n",
        "      num_images_train = len(images)\n",
        "\n",
        "      lossSum = 0\n",
        "      for idx in range(len(images)):\n",
        "        optimizer.zero_grad()\n",
        "\n",
        "        outputs = network(images[idx].cuda().flatten().float())\n",
        "\n",
        "        maxIdx = get_max_from_tensor(outputs)\n",
        "        real_value = np.zeros(num_of_classes)\n",
        "        real_value[labels[idx] - 1] = 1\n",
        "\n",
        "        loss = criterion(outputs.cuda(), torch.Tensor(real_value).cuda()) \n",
        "        \n",
        "        loss.backward()\n",
        "\n",
        "        lossSum += loss.item()\n",
        "        train_loss_hist.append(lossSum)\n",
        "\n",
        "        optimizer.step()\n",
        "\n",
        "    # VALIDATION\n",
        "    for data in val_loader:\n",
        "      images = data['image']\n",
        "      labels = torch.from_numpy(np.array(name_to_int(data['class_name'])))\n",
        "\n",
        "      images.cuda()\n",
        "      labels.cuda()\n",
        "\n",
        "      num_images_val = len(images)\n",
        "\n",
        "      lossSum = 0\n",
        "      for idx in range(len(images)):\n",
        "        optimizer.zero_grad()\n",
        "\n",
        "        outputs = network(images[idx].cuda().flatten().float())\n",
        "\n",
        "        if(labels[idx] == get_max_from_tensor(outputs)):\n",
        "          correct += 1\n",
        "\n",
        "        maxIdx = get_max_from_tensor(outputs)\n",
        "        real_value = np.zeros(num_of_classes)\n",
        "        real_value[labels[idx] - 1] = 1\n",
        "        loss = criterion(outputs.cuda(), torch.Tensor(real_value).cuda()) \n",
        "\n",
        "        lossSum += loss.item()\n",
        "        val_loss_hist.append(lossSum)\n",
        "\n",
        "    print(\"Epoch: {} Training loss: {} Eval loss: {} Correct: {}%\".format(epoch,train_loss_hist[len(train_loss_hist) - 1],val_loss_hist[len(val_loss_hist) - 1],correct*100/num_images_train))\n",
        "\n",
        "    if(checkpoint == 0):\n",
        "      torch.save(network.state_dict(), '/content/results/model.pth')\n",
        "      torch.save(optimizer.state_dict(), '/content/results/optimizer.pth')\n",
        "\n",
        "      checkpoint = save_checkpoint\n",
        "    else:\n",
        "      checkpoint -= 1\n",
        "\n",
        "train(train_loader, val_loader, 200, 5)"
      ],
      "execution_count": 49,
      "outputs": [
        {
          "output_type": "stream",
          "text": [
            "Epoch: 0 Training loss: 4.9235183919877495e-06 Eval loss: 1.1487466120552199 Correct: 29.05982905982906%\n",
            "Epoch: 1 Training loss: 4.923553629689395e-06 Eval loss: 1.148746596676574 Correct: 29.05982905982906%\n",
            "Epoch: 2 Training loss: 4.923510642814918e-06 Eval loss: 1.1487465668487857 Correct: 29.05982905982906%\n",
            "Epoch: 3 Training loss: 4.923446299617482e-06 Eval loss: 1.148746611617753 Correct: 29.05982905982906%\n",
            "Epoch: 4 Training loss: 4.923406701331026e-06 Eval loss: 1.1487465837471973 Correct: 29.05982905982906%\n",
            "Epoch: 5 Training loss: 4.92335463131606e-06 Eval loss: 1.1487465890295425 Correct: 29.05982905982906%\n",
            "Epoch: 6 Training loss: 4.9233806035586455e-06 Eval loss: 1.1487465393502134 Correct: 29.05982905982906%\n",
            "Epoch: 7 Training loss: 4.923344280114393e-06 Eval loss: 1.1487465307136517 Correct: 29.05982905982906%\n",
            "Epoch: 8 Training loss: 4.923288818867687e-06 Eval loss: 1.1487465333948421 Correct: 29.05982905982906%\n",
            "Epoch: 9 Training loss: 4.923241801422194e-06 Eval loss: 1.1487465363634328 Correct: 29.05982905982906%\n",
            "Epoch: 10 Training loss: 4.923221686068367e-06 Eval loss: 1.1487465415475526 Correct: 29.05982905982906%\n",
            "Epoch: 11 Training loss: 4.923200368471374e-06 Eval loss: 1.1487465317759415 Correct: 29.05982905982906%\n",
            "Epoch: 12 Training loss: 4.923147202277704e-06 Eval loss: 1.1487465423433605 Correct: 29.05982905982906%\n",
            "Epoch: 13 Training loss: 4.923146083182436e-06 Eval loss: 1.1487465191121373 Correct: 29.05982905982906%\n",
            "Epoch: 14 Training loss: 4.923158407102099e-06 Eval loss: 1.1487465179152423 Correct: 29.05982905982906%\n",
            "Epoch: 15 Training loss: 4.92306579207534e-06 Eval loss: 1.1487465466698268 Correct: 29.05982905982906%\n",
            "Epoch: 16 Training loss: 4.9230588463917285e-06 Eval loss: 1.1487465622949458 Correct: 29.05982905982906%\n",
            "Epoch: 17 Training loss: 4.922979685658205e-06 Eval loss: 1.148746539426611 Correct: 29.05982905982906%\n",
            "Epoch: 18 Training loss: 4.922915963602795e-06 Eval loss: 1.1487465306217928 Correct: 29.05982905982906%\n",
            "Epoch: 19 Training loss: 4.922868660219362e-06 Eval loss: 1.148746565262627 Correct: 29.05982905982906%\n",
            "Epoch: 20 Training loss: 4.922740832026887e-06 Eval loss: 1.1487465858281212 Correct: 29.05982905982906%\n",
            "Epoch: 21 Training loss: 4.922763916117082e-06 Eval loss: 1.1487465864429396 Correct: 29.05982905982906%\n",
            "Epoch: 22 Training loss: 4.922759911948557e-06 Eval loss: 1.148746561821099 Correct: 29.05982905982906%\n",
            "Epoch: 23 Training loss: 4.922709177753934e-06 Eval loss: 1.1487465437803621 Correct: 29.05982905982906%\n",
            "Epoch: 24 Training loss: 4.922693507899631e-06 Eval loss: 1.1487465508835157 Correct: 29.05982905982906%\n",
            "Epoch: 25 Training loss: 4.922701679807226e-06 Eval loss: 1.1487465420450462 Correct: 29.05982905982906%\n",
            "Epoch: 26 Training loss: 4.922653026836685e-06 Eval loss: 1.1487465402406087 Correct: 29.05982905982906%\n",
            "Epoch: 27 Training loss: 4.922593228170666e-06 Eval loss: 1.1487465611662628 Correct: 29.05982905982906%\n",
            "Epoch: 28 Training loss: 4.92256322511507e-06 Eval loss: 1.1487465425398113 Correct: 29.05982905982906%\n",
            "Epoch: 29 Training loss: 4.922532974627192e-06 Eval loss: 1.1487465393674938 Correct: 29.05982905982906%\n",
            "Epoch: 30 Training loss: 4.9225247589768095e-06 Eval loss: 1.148746577289785 Correct: 29.05982905982906%\n",
            "Epoch: 31 Training loss: 4.922482969432762e-06 Eval loss: 1.1487465708951277 Correct: 29.05982905982906%\n",
            "Epoch: 32 Training loss: 4.922460726540338e-06 Eval loss: 1.14874657357268 Correct: 29.05982905982906%\n",
            "Epoch: 33 Training loss: 4.92243096395905e-06 Eval loss: 1.1487465775126111 Correct: 29.05982905982906%\n",
            "Epoch: 34 Training loss: 4.922451179621527e-06 Eval loss: 1.1487465967193202 Correct: 29.05982905982906%\n",
            "Epoch: 35 Training loss: 4.922424878382563e-06 Eval loss: 1.148746599860715 Correct: 29.05982905982906%\n",
            "Epoch: 36 Training loss: 4.922385873527661e-06 Eval loss: 1.1487465891505053 Correct: 29.05982905982906%\n",
            "Epoch: 37 Training loss: 4.92237746603074e-06 Eval loss: 1.148746546802613 Correct: 29.05982905982906%\n",
            "Epoch: 38 Training loss: 4.922328783330508e-06 Eval loss: 1.1487465708687523 Correct: 29.05982905982906%\n",
            "Epoch: 39 Training loss: 4.922281649439968e-06 Eval loss: 1.1487465561804129 Correct: 29.05982905982906%\n",
            "Epoch: 40 Training loss: 4.922202415986836e-06 Eval loss: 1.1487465673681072 Correct: 29.05982905982906%\n",
            "Epoch: 41 Training loss: 4.9221746557482834e-06 Eval loss: 1.1487465692525802 Correct: 29.05982905982906%\n",
            "Epoch: 42 Training loss: 4.922127732005614e-06 Eval loss: 1.148746561462758 Correct: 29.05982905982906%\n",
            "Epoch: 43 Training loss: 4.922100377720111e-06 Eval loss: 1.148746560444124 Correct: 29.05982905982906%\n",
            "Epoch: 44 Training loss: 4.922135237446328e-06 Eval loss: 1.1487465595655522 Correct: 29.05982905982906%\n",
            "Epoch: 45 Training loss: 4.922040090482235e-06 Eval loss: 1.1487465011323366 Correct: 29.05982905982906%\n",
            "Epoch: 46 Training loss: 4.921989616940223e-06 Eval loss: 1.148746454719003 Correct: 29.05982905982906%\n",
            "Epoch: 47 Training loss: 4.922016520003333e-06 Eval loss: 1.1487464558431384 Correct: 29.05982905982906%\n",
            "Epoch: 48 Training loss: 4.921973488785855e-06 Eval loss: 1.1487464337460551 Correct: 29.05982905982906%\n",
            "Epoch: 49 Training loss: 4.921987290356852e-06 Eval loss: 1.1487464276924584 Correct: 29.05982905982906%\n",
            "Epoch: 50 Training loss: 4.921999844869837e-06 Eval loss: 1.148746466299599 Correct: 29.05982905982906%\n",
            "Epoch: 51 Training loss: 4.922013718771864e-06 Eval loss: 1.1487464784840995 Correct: 29.05982905982906%\n",
            "Epoch: 52 Training loss: 4.921890928993519e-06 Eval loss: 1.148746477716486 Correct: 29.05982905982906%\n",
            "Epoch: 53 Training loss: 4.921890868930454e-06 Eval loss: 1.1487465095597145 Correct: 29.05982905982906%\n",
            "Epoch: 54 Training loss: 4.921834237508679e-06 Eval loss: 1.14874650587808 Correct: 29.05982905982906%\n",
            "Epoch: 55 Training loss: 4.921767414628117e-06 Eval loss: 1.1487464992660534 Correct: 29.05982905982906%\n",
            "Epoch: 56 Training loss: 4.921722439215834e-06 Eval loss: 1.1487465420614171 Correct: 29.05982905982906%\n",
            "Epoch: 57 Training loss: 4.9216644497519085e-06 Eval loss: 1.1487465249711022 Correct: 29.05982905982906%\n",
            "Epoch: 58 Training loss: 4.921645203345357e-06 Eval loss: 1.1487465307627645 Correct: 29.05982905982906%\n",
            "Epoch: 59 Training loss: 4.921615588201686e-06 Eval loss: 1.1487465320105912 Correct: 29.05982905982906%\n",
            "Epoch: 60 Training loss: 4.92158942743369e-06 Eval loss: 1.1487465315294685 Correct: 29.05982905982906%\n",
            "Epoch: 61 Training loss: 4.921560218687157e-06 Eval loss: 1.1487465258833254 Correct: 29.05982905982906%\n",
            "Epoch: 62 Training loss: 4.921495370227222e-06 Eval loss: 1.1487465215177508 Correct: 29.05982905982906%\n",
            "Epoch: 63 Training loss: 4.921487153938461e-06 Eval loss: 1.148746523979753 Correct: 29.05982905982906%\n",
            "Epoch: 64 Training loss: 4.9214236429919594e-06 Eval loss: 1.1487464948149864 Correct: 29.05982905982906%\n",
            "Epoch: 65 Training loss: 4.921355766232191e-06 Eval loss: 1.14874653298466 Correct: 29.05982905982906%\n",
            "Epoch: 66 Training loss: 4.9213981751974195e-06 Eval loss: 1.1487465550344496 Correct: 29.05982905982906%\n",
            "Epoch: 67 Training loss: 4.921343319993707e-06 Eval loss: 1.14874658449844 Correct: 29.05982905982906%\n",
            "Epoch: 68 Training loss: 4.921240820984427e-06 Eval loss: 1.148746543818561 Correct: 29.05982905982906%\n",
            "Epoch: 69 Training loss: 4.921203933935456e-06 Eval loss: 1.1487465515965596 Correct: 29.05982905982906%\n",
            "Epoch: 70 Training loss: 4.921204920368613e-06 Eval loss: 1.148746558397761 Correct: 29.05982905982906%\n",
            "Epoch: 71 Training loss: 4.921187147724146e-06 Eval loss: 1.1487465670779784 Correct: 29.05982905982906%\n",
            "Epoch: 72 Training loss: 4.9211800867612204e-06 Eval loss: 1.1487465668888035 Correct: 29.05982905982906%\n",
            "Epoch: 73 Training loss: 4.921171025009871e-06 Eval loss: 1.148746553915771 Correct: 29.05982905982906%\n",
            "Epoch: 74 Training loss: 4.921199869159162e-06 Eval loss: 1.1487465389582212 Correct: 29.05982905982906%\n",
            "Epoch: 75 Training loss: 4.9211811525380275e-06 Eval loss: 1.1487465408135904 Correct: 29.05982905982906%\n",
            "Epoch: 76 Training loss: 4.921050183524615e-06 Eval loss: 1.1487465609025094 Correct: 29.05982905982906%\n",
            "Epoch: 77 Training loss: 4.920946570739597e-06 Eval loss: 1.1487465635245826 Correct: 29.05982905982906%\n",
            "Epoch: 78 Training loss: 4.920929639449893e-06 Eval loss: 1.148746567908347 Correct: 29.05982905982906%\n",
            "Epoch: 79 Training loss: 4.92094109417595e-06 Eval loss: 1.1487465318014074 Correct: 29.05982905982906%\n",
            "Epoch: 80 Training loss: 4.920928126271422e-06 Eval loss: 1.1487465345589953 Correct: 29.05982905982906%\n",
            "Epoch: 81 Training loss: 4.920898657455146e-06 Eval loss: 1.1487465364070886 Correct: 29.05982905982906%\n",
            "Epoch: 82 Training loss: 4.920864389255757e-06 Eval loss: 1.1487465033223998 Correct: 29.05982905982906%\n",
            "Epoch: 83 Training loss: 4.920825967378965e-06 Eval loss: 1.1487465249756497 Correct: 29.05982905982906%\n",
            "Epoch: 84 Training loss: 4.920728268863021e-06 Eval loss: 1.148746539514832 Correct: 29.05982905982906%\n",
            "Epoch: 85 Training loss: 4.920675016349511e-06 Eval loss: 1.1487465610953222 Correct: 29.05982905982906%\n",
            "Epoch: 86 Training loss: 4.920593193967308e-06 Eval loss: 1.1487466161033808 Correct: 29.05982905982906%\n",
            "Epoch: 87 Training loss: 4.920535482489351e-06 Eval loss: 1.1487465810823778 Correct: 29.05982905982906%\n",
            "Epoch: 88 Training loss: 4.920526380131594e-06 Eval loss: 1.1487465740992775 Correct: 29.05982905982906%\n",
            "Epoch: 89 Training loss: 4.920483228371651e-06 Eval loss: 1.1487465785739914 Correct: 29.05982905982906%\n",
            "Epoch: 90 Training loss: 4.9204676129182764e-06 Eval loss: 1.148746612814648 Correct: 29.05982905982906%\n",
            "Epoch: 91 Training loss: 4.920491212262977e-06 Eval loss: 1.1487466196322202 Correct: 29.05982905982906%\n",
            "Epoch: 92 Training loss: 4.9204329431685664e-06 Eval loss: 1.1487466120797762 Correct: 29.05982905982906%\n",
            "Epoch: 93 Training loss: 4.9203882524868556e-06 Eval loss: 1.1487466156186201 Correct: 29.05982905982906%\n",
            "Epoch: 94 Training loss: 4.920362997411047e-06 Eval loss: 1.148746612890136 Correct: 29.05982905982906%\n",
            "Epoch: 95 Training loss: 4.9203888467337295e-06 Eval loss: 1.1487466281405432 Correct: 29.05982905982906%\n",
            "Epoch: 96 Training loss: 4.9203102269563745e-06 Eval loss: 1.148746598294565 Correct: 29.05982905982906%\n",
            "Epoch: 97 Training loss: 4.920242497301157e-06 Eval loss: 1.1487466236440014 Correct: 29.05982905982906%\n",
            "Epoch: 98 Training loss: 4.920161444414532e-06 Eval loss: 1.1487466270928053 Correct: 29.05982905982906%\n",
            "Epoch: 99 Training loss: 4.920106614870849e-06 Eval loss: 1.1487466183361903 Correct: 29.05982905982906%\n",
            "Epoch: 100 Training loss: 4.92012668220753e-06 Eval loss: 1.1487466193111686 Correct: 29.05982905982906%\n",
            "Epoch: 101 Training loss: 4.9200855783649786e-06 Eval loss: 1.1487466242251685 Correct: 29.05982905982906%\n",
            "Epoch: 102 Training loss: 4.920009878973779e-06 Eval loss: 1.1487466238249908 Correct: 29.05982905982906%\n",
            "Epoch: 103 Training loss: 4.919973641289918e-06 Eval loss: 1.148746590139126 Correct: 29.05982905982906%\n",
            "Epoch: 104 Training loss: 4.919960909626972e-06 Eval loss: 1.1487465773807344 Correct: 29.05982905982906%\n",
            "Epoch: 105 Training loss: 4.919962900739108e-06 Eval loss: 1.1487466017333645 Correct: 29.05982905982906%\n",
            "Epoch: 106 Training loss: 4.919954746678348e-06 Eval loss: 1.148746586359266 Correct: 29.05982905982906%\n",
            "Epoch: 107 Training loss: 4.9199265877769224e-06 Eval loss: 1.148746558066705 Correct: 29.05982905982906%\n",
            "Epoch: 108 Training loss: 4.9198317434951885e-06 Eval loss: 1.1487465564705417 Correct: 29.05982905982906%\n",
            "Epoch: 109 Training loss: 4.919833711532033e-06 Eval loss: 1.1487465799818892 Correct: 29.05982905982906%\n",
            "Epoch: 110 Training loss: 4.919800441478654e-06 Eval loss: 1.148746580194711 Correct: 29.05982905982906%\n",
            "Epoch: 111 Training loss: 4.919747637439735e-06 Eval loss: 1.1487466024482273 Correct: 29.05982905982906%\n",
            "Epoch: 112 Training loss: 4.919668551729532e-06 Eval loss: 1.1487466162670898 Correct: 29.05982905982906%\n",
            "Epoch: 113 Training loss: 4.919683810079671e-06 Eval loss: 1.1487465840018558 Correct: 29.05982905982906%\n",
            "Epoch: 114 Training loss: 4.919655343697642e-06 Eval loss: 1.1487465822347076 Correct: 29.05982905982906%\n",
            "Epoch: 115 Training loss: 4.9196578190508974e-06 Eval loss: 1.1487465724922004 Correct: 29.05982905982906%\n",
            "Epoch: 116 Training loss: 4.919542767471523e-06 Eval loss: 1.1487465866730417 Correct: 29.05982905982906%\n",
            "Epoch: 117 Training loss: 4.919530852113933e-06 Eval loss: 1.148746575817313 Correct: 29.05982905982906%\n",
            "Epoch: 118 Training loss: 4.9195294922017505e-06 Eval loss: 1.1487466059834333 Correct: 29.05982905982906%\n",
            "Epoch: 119 Training loss: 4.919537296458991e-06 Eval loss: 1.1487465994905506 Correct: 29.05982905982906%\n",
            "Epoch: 120 Training loss: 4.91947210331297e-06 Eval loss: 1.1487466127327934 Correct: 29.05982905982906%\n",
            "Epoch: 121 Training loss: 4.9194615543719095e-06 Eval loss: 1.148746614017 Correct: 29.05982905982906%\n",
            "Epoch: 122 Training loss: 4.919472631400093e-06 Eval loss: 1.1487465848549618 Correct: 29.05982905982906%\n",
            "Epoch: 123 Training loss: 4.919360514084661e-06 Eval loss: 1.1487465886311838 Correct: 29.05982905982906%\n",
            "Epoch: 124 Training loss: 4.91932975406513e-06 Eval loss: 1.148746588793074 Correct: 29.05982905982906%\n",
            "Epoch: 125 Training loss: 4.919352858139339e-06 Eval loss: 1.14874659153611 Correct: 29.05982905982906%\n",
            "Epoch: 126 Training loss: 4.919320945424681e-06 Eval loss: 1.1487465981172136 Correct: 29.05982905982906%\n",
            "Epoch: 127 Training loss: 4.919263010028617e-06 Eval loss: 1.1487465803056693 Correct: 29.05982905982906%\n",
            "Epoch: 128 Training loss: 4.919208771290116e-06 Eval loss: 1.1487466041380685 Correct: 29.05982905982906%\n",
            "Epoch: 129 Training loss: 4.919151498704137e-06 Eval loss: 1.14874660661917 Correct: 29.05982905982906%\n",
            "Epoch: 130 Training loss: 4.919121179623558e-06 Eval loss: 1.1487466202106589 Correct: 29.05982905982906%\n",
            "Epoch: 131 Training loss: 4.919108394628273e-06 Eval loss: 1.14874658372446 Correct: 29.05982905982906%\n",
            "Epoch: 132 Training loss: 4.919125731565714e-06 Eval loss: 1.148746617944198 Correct: 29.05982905982906%\n",
            "Epoch: 133 Training loss: 4.9190559702023615e-06 Eval loss: 1.148746606628265 Correct: 29.05982905982906%\n",
            "Epoch: 134 Training loss: 4.91905539149861e-06 Eval loss: 1.1487466237631452 Correct: 29.05982905982906%\n",
            "Epoch: 135 Training loss: 4.919032058052324e-06 Eval loss: 1.148746628770823 Correct: 29.05982905982906%\n",
            "Epoch: 136 Training loss: 4.919007860463946e-06 Eval loss: 1.1487466033049714 Correct: 29.05982905982906%\n",
            "Epoch: 137 Training loss: 4.918982207262161e-06 Eval loss: 1.1487465955833613 Correct: 29.05982905982906%\n",
            "Epoch: 138 Training loss: 4.918950156479127e-06 Eval loss: 1.14874663494993 Correct: 29.05982905982906%\n",
            "Epoch: 139 Training loss: 4.918916256596226e-06 Eval loss: 1.1487466493417742 Correct: 29.05982905982906%\n",
            "Epoch: 140 Training loss: 4.918887340976327e-06 Eval loss: 1.1487466410835623 Correct: 29.05982905982906%\n",
            "Epoch: 141 Training loss: 4.918884597420944e-06 Eval loss: 1.148746609906084 Correct: 29.05982905982906%\n",
            "Epoch: 142 Training loss: 4.918802837738587e-06 Eval loss: 1.1487466147409577 Correct: 29.05982905982906%\n",
            "Epoch: 143 Training loss: 4.918758387572816e-06 Eval loss: 1.148746614871925 Correct: 29.05982905982906%\n",
            "Epoch: 144 Training loss: 4.918671516118342e-06 Eval loss: 1.1487466134676652 Correct: 29.05982905982906%\n",
            "Epoch: 145 Training loss: 4.918660315485039e-06 Eval loss: 1.1487466370344919 Correct: 29.05982905982906%\n",
            "Epoch: 146 Training loss: 4.918669305377203e-06 Eval loss: 1.148746553062665 Correct: 29.05982905982906%\n",
            "Epoch: 147 Training loss: 4.9186577349659075e-06 Eval loss: 1.1487465467835136 Correct: 29.05982905982906%\n",
            "Epoch: 148 Training loss: 4.918584092355668e-06 Eval loss: 1.1487465470399911 Correct: 29.05982905982906%\n",
            "Epoch: 149 Training loss: 4.918520422508496e-06 Eval loss: 1.1487465503296335 Correct: 29.05982905982906%\n",
            "Epoch: 150 Training loss: 4.918533736330763e-06 Eval loss: 1.1487466166063314 Correct: 29.05982905982906%\n",
            "Epoch: 151 Training loss: 4.918527520414093e-06 Eval loss: 1.1487466270109508 Correct: 29.05982905982906%\n",
            "Epoch: 152 Training loss: 4.918476650661238e-06 Eval loss: 1.1487466160697295 Correct: 29.05982905982906%\n",
            "Epoch: 153 Training loss: 4.918383456153572e-06 Eval loss: 1.1487465956388405 Correct: 29.05982905982906%\n",
            "Epoch: 154 Training loss: 4.918318866025187e-06 Eval loss: 1.1487465965446972 Correct: 29.05982905982906%\n",
            "Epoch: 155 Training loss: 4.9182457251984585e-06 Eval loss: 1.1487465892059845 Correct: 29.05982905982906%\n",
            "Epoch: 156 Training loss: 4.918253861800961e-06 Eval loss: 1.1487466465605394 Correct: 29.05982905982906%\n",
            "Epoch: 157 Training loss: 4.918155438341475e-06 Eval loss: 1.1487466324942943 Correct: 29.05982905982906%\n",
            "Epoch: 158 Training loss: 4.918117428523092e-06 Eval loss: 1.1487466099033554 Correct: 29.05982905982906%\n",
            "Epoch: 159 Training loss: 4.918063348282806e-06 Eval loss: 1.1487466685048275 Correct: 29.05982905982906%\n",
            "Epoch: 160 Training loss: 4.918071450320076e-06 Eval loss: 1.1487466594244324 Correct: 29.05982905982906%\n",
            "Epoch: 161 Training loss: 4.9180510419228815e-06 Eval loss: 1.1487466331727774 Correct: 29.05982905982906%\n",
            "Epoch: 162 Training loss: 4.9180472536476325e-06 Eval loss: 1.1487466335220233 Correct: 29.05982905982906%\n",
            "Epoch: 163 Training loss: 4.918021104814534e-06 Eval loss: 1.148746633587507 Correct: 29.05982905982906%\n",
            "Epoch: 164 Training loss: 4.918047649802963e-06 Eval loss: 1.1487465731097473 Correct: 29.05982905982906%\n",
            "Epoch: 165 Training loss: 4.918012835928957e-06 Eval loss: 1.148746580716761 Correct: 29.05982905982906%\n",
            "Epoch: 166 Training loss: 4.91790774382727e-06 Eval loss: 1.148746567139824 Correct: 29.05982905982906%\n",
            "Epoch: 167 Training loss: 4.917895468601295e-06 Eval loss: 1.1487465634727414 Correct: 29.05982905982906%\n",
            "Epoch: 168 Training loss: 4.917817794289868e-06 Eval loss: 1.1487465621921729 Correct: 29.05982905982906%\n",
            "Epoch: 169 Training loss: 4.9177957838781455e-06 Eval loss: 1.1487465739519394 Correct: 29.05982905982906%\n",
            "Epoch: 170 Training loss: 4.917802293892895e-06 Eval loss: 1.1487465577702096 Correct: 29.05982905982906%\n",
            "Epoch: 171 Training loss: 4.917759684286947e-06 Eval loss: 1.1487466022917943 Correct: 29.05982905982906%\n",
            "Epoch: 172 Training loss: 4.917676155654152e-06 Eval loss: 1.1487465581994911 Correct: 29.05982905982906%\n",
            "Epoch: 173 Training loss: 4.917637823094803e-06 Eval loss: 1.1487465942427662 Correct: 29.05982905982906%\n",
            "Epoch: 174 Training loss: 4.917578309704927e-06 Eval loss: 1.1487465609334322 Correct: 29.05982905982906%\n",
            "Epoch: 175 Training loss: 4.917619280764805e-06 Eval loss: 1.1487466037542617 Correct: 29.05982905982906%\n",
            "Epoch: 176 Training loss: 4.917518203479375e-06 Eval loss: 1.1487466072012467 Correct: 29.05982905982906%\n",
            "Epoch: 177 Training loss: 4.917504825430706e-06 Eval loss: 1.1487465852205787 Correct: 29.05982905982906%\n",
            "Epoch: 178 Training loss: 4.917441625374407e-06 Eval loss: 1.148746580716761 Correct: 29.05982905982906%\n",
            "Epoch: 179 Training loss: 4.917370068447356e-06 Eval loss: 1.148746542842673 Correct: 29.05982905982906%\n",
            "Epoch: 180 Training loss: 4.91736383920801e-06 Eval loss: 1.1487465422605965 Correct: 29.05982905982906%\n",
            "Epoch: 181 Training loss: 4.917337190913328e-06 Eval loss: 1.1487466024764217 Correct: 29.05982905982906%\n",
            "Epoch: 182 Training loss: 4.917328748805204e-06 Eval loss: 1.1487466008175033 Correct: 29.05982905982906%\n",
            "Epoch: 183 Training loss: 4.917346776384633e-06 Eval loss: 1.1487465979298577 Correct: 29.05982905982906%\n",
            "Epoch: 184 Training loss: 4.917307004587666e-06 Eval loss: 1.1487465915761277 Correct: 29.05982905982906%\n",
            "Epoch: 185 Training loss: 4.9172511202904765e-06 Eval loss: 1.1487465914633503 Correct: 29.05982905982906%\n",
            "Epoch: 186 Training loss: 4.917202510785167e-06 Eval loss: 1.1487465575137321 Correct: 29.05982905982906%\n",
            "Epoch: 187 Training loss: 4.917222538736686e-06 Eval loss: 1.1487465507470915 Correct: 29.05982905982906%\n",
            "Epoch: 188 Training loss: 4.917108643898681e-06 Eval loss: 1.148746556171318 Correct: 29.05982905982906%\n",
            "Epoch: 189 Training loss: 4.9170794681986305e-06 Eval loss: 1.1487465589625572 Correct: 29.05982905982906%\n",
            "Epoch: 190 Training loss: 4.917039973679864e-06 Eval loss: 1.1487465606969636 Correct: 29.05982905982906%\n",
            "Epoch: 191 Training loss: 4.91698562976161e-06 Eval loss: 1.1487465714990321 Correct: 29.05982905982906%\n",
            "Epoch: 192 Training loss: 4.916935102068469e-06 Eval loss: 1.1487465814388997 Correct: 29.05982905982906%\n",
            "Epoch: 193 Training loss: 4.916921446380777e-06 Eval loss: 1.148746575304358 Correct: 29.05982905982906%\n",
            "Epoch: 194 Training loss: 4.916888820312264e-06 Eval loss: 1.1487465769560004 Correct: 29.05982905982906%\n",
            "Epoch: 195 Training loss: 4.916837522235366e-06 Eval loss: 1.148746587237838 Correct: 29.05982905982906%\n",
            "Epoch: 196 Training loss: 4.916797375321795e-06 Eval loss: 1.1487465619466093 Correct: 29.05982905982906%\n",
            "Epoch: 197 Training loss: 4.916771566189186e-06 Eval loss: 1.1487465569080086 Correct: 29.05982905982906%\n",
            "Epoch: 198 Training loss: 4.9167450879806715e-06 Eval loss: 1.148746583105094 Correct: 29.05982905982906%\n",
            "Epoch: 199 Training loss: 4.916767962738315e-06 Eval loss: 1.148746582952299 Correct: 29.05982905982906%\n"
          ],
          "name": "stdout"
        }
      ]
    },
    {
      "cell_type": "code",
      "metadata": {
        "id": "aDc8f2aEZ1-c",
        "colab_type": "code",
        "outputId": "65954d17-8432-4dec-c395-e8a58340557c",
        "colab": {
          "base_uri": "https://localhost:8080/",
          "height": 305
        }
      },
      "source": [
        "for data in test_loader:\n",
        "  images = data['image']\n",
        "  labels = torch.from_numpy(np.array(name_to_int(data['class_name'])))\n",
        "\n",
        "  for i in range(len(images)):\n",
        "    output = network(images[i].cuda().flatten().float())\n",
        "    \n",
        "    if(get_max_from_tensor(output) == labels[i]):\n",
        "      print(\"OK: {} == {}\".format(get_max_from_tensor(output), labels[i]))\n",
        "    else:\n",
        "      print(\"False: {} == {}\".format(get_max_from_tensor(output), labels[i]))"
      ],
      "execution_count": 50,
      "outputs": [
        {
          "output_type": "stream",
          "text": [
            "OK: 1 == 1\n",
            "OK: 2 == 2\n",
            "OK: 1 == 1\n",
            "OK: 2 == 2\n",
            "OK: 1 == 1\n",
            "OK: 2 == 2\n",
            "OK: 1 == 1\n",
            "OK: 1 == 1\n",
            "False: 2 == 1\n",
            "OK: 1 == 1\n",
            "OK: 3 == 3\n",
            "OK: 3 == 3\n",
            "OK: 2 == 2\n",
            "OK: 3 == 3\n",
            "OK: 3 == 3\n",
            "OK: 2 == 2\n"
          ],
          "name": "stdout"
        }
      ]
    },
    {
      "cell_type": "code",
      "metadata": {
        "id": "BA6XaNQwoBYQ",
        "colab_type": "code",
        "colab": {}
      },
      "source": [
        "for opt in optimizer.param_groups:\n",
        "  opt['lr'] = 0.000001"
      ],
      "execution_count": 0,
      "outputs": []
    },
    {
      "cell_type": "code",
      "metadata": {
        "id": "wKrJxDhb8aci",
        "colab_type": "code",
        "colab": {}
      },
      "source": [
        "!cp '/content/results/model.pth' '/content/Lithuanian_OCR/Trained_model/model.pth'\n",
        "!cp '/content/results/optimizer.pth' '/content/Lithuanian_OCR/Trained_model/optimizer.pth'"
      ],
      "execution_count": 0,
      "outputs": []
    }
  ]
}