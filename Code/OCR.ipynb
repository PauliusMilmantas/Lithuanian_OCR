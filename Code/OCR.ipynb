{
  "nbformat": 4,
  "nbformat_minor": 0,
  "metadata": {
    "colab": {
      "name": "OCR.ipynb",
      "provenance": [],
      "collapsed_sections": [],
      "machine_shape": "hm"
    },
    "kernelspec": {
      "name": "python3",
      "display_name": "Python 3"
    },
    "accelerator": "GPU"
  },
  "cells": [
    {
      "cell_type": "code",
      "metadata": {
        "id": "tqV3oHrg8mY-",
        "colab_type": "code",
        "colab": {}
      },
      "source": [
        "from __future__ import print_function, division\n",
        "import os\n",
        "import torch\n",
        "from torch.optim.optimizer import Optimizer\n",
        "from skimage import io, transform\n",
        "import numpy as np\n",
        "import matplotlib.pyplot as plt\n",
        "from torch.utils.data import Dataset, DataLoader\n",
        "from torchvision import transforms, utils\n",
        "from skimage import io\n",
        "import torch.nn as nn\n",
        "import torch.nn.functional as F\n",
        "\n",
        "from skimage.color import rgb2gray\n",
        "\n",
        "from torch.utils.tensorboard import SummaryWriter\n",
        "\n",
        "import PIL\n",
        "from PIL import Image\n",
        "\n",
        "from google.colab import output"
      ],
      "execution_count": 0,
      "outputs": []
    },
    {
      "cell_type": "code",
      "metadata": {
        "id": "qZPVvFlrIHMt",
        "colab_type": "code",
        "outputId": "b34c270a-6c75-4c2f-ef34-a86c9ccc4529",
        "colab": {
          "base_uri": "https://localhost:8080/",
          "height": 153
        }
      },
      "source": [
        "%cd /content/\n",
        "if(os.path.isdir('/content/Lithuanian_OCR') == False):\n",
        "  !git clone https://github.com/PauliusMilmantas/Lithuanian_OCR\n",
        "\n",
        "num_of_classes = 3"
      ],
      "execution_count": 2,
      "outputs": [
        {
          "output_type": "stream",
          "text": [
            "/content\n",
            "Cloning into 'Lithuanian_OCR'...\n",
            "remote: Enumerating objects: 35, done.\u001b[K\n",
            "remote: Counting objects: 100% (35/35), done.\u001b[K\n",
            "remote: Compressing objects: 100% (27/27), done.\u001b[K\n",
            "remote: Total 3968 (delta 7), reused 33 (delta 5), pack-reused 3933\u001b[K\n",
            "Receiving objects: 100% (3968/3968), 234.15 MiB | 14.64 MiB/s, done.\n",
            "Resolving deltas: 100% (614/614), done.\n"
          ],
          "name": "stdout"
        }
      ]
    },
    {
      "cell_type": "code",
      "metadata": {
        "id": "4dizldPQRNUj",
        "colab_type": "code",
        "colab": {}
      },
      "source": [
        "class ORCDataset(Dataset):\n",
        "  def __init__(self, root):\n",
        "    self.root = root\n",
        "\n",
        "  def __len__(self):\n",
        "    lt = 0\n",
        "    classes = os.listdir(self.root)\n",
        "    for cl in classes:\n",
        "      lt += len(os.listdir(self.root + '/' + cl))\n",
        "\n",
        "    return lt\n",
        "\n",
        "  def __getitem__(self, idx):\n",
        "    if torch.is_tensor(idx):\n",
        "     idx = idx.tolist()\n",
        "\n",
        "    if(idx <= len(self)):\n",
        "      found_file = \"\"\n",
        "      found_type = \"\"\n",
        "\n",
        "      fldrs = os.listdir(self.root)\n",
        "      for fld in fldrs:\n",
        "        fls = os.listdir(self.root + '/' + fld + '/')\n",
        "        for fl in fls:\n",
        "          if(fl == str(idx) + \".jpg\"):\n",
        "            found_file = self.root + '/' + fld + '/' + fl         \n",
        "            found_type = fld\n",
        "\n",
        "      try:\n",
        "        img = io.imread(found_file)\n",
        "        img = rgb2gray(img)\n",
        "\n",
        "        return {'image': img, 'class_name': found_type}\n",
        "      except:\n",
        "        if(found_file != \"\"):\n",
        "          print(\"Bad file: \" + found_file)\n",
        "        else:\n",
        "          print(\"File not found, idx = \" + str(idx))\n",
        "    else:\n",
        "      print()\n",
        "      raise Exception(\"Dataset index out of boundaries\")\n",
        "\n",
        "train_dataset = ORCDataset('/content/Lithuanian_OCR/Data/batch-2/training')\n",
        "val_dataset = ORCDataset('/content/Lithuanian_OCR/Data/batch-2/val')\n",
        "test_dataset = ORCDataset('/content/Lithuanian_OCR/Data/batch-2/test')"
      ],
      "execution_count": 0,
      "outputs": []
    },
    {
      "cell_type": "code",
      "metadata": {
        "id": "KR2HO96n8pXN",
        "colab_type": "code",
        "colab": {}
      },
      "source": [
        "class Net(nn.Module):\n",
        "    def __init__(self, input_size, hidden1_size, hidden2_size, num_classes):\n",
        "        super(Net, self).__init__()\n",
        "        self.fc1 = nn.Linear(input_size, hidden1_size)\n",
        "        self.relu1 = nn.ReLU()\n",
        "        self.fc2 = nn.Linear(hidden1_size, hidden2_size)\n",
        "        self.relu2 = nn.ReLU()\n",
        "        self.fc3 = nn.Linear(hidden2_size, num_classes)  \n",
        "    \n",
        "    def forward(self, x):\n",
        "        out = self.fc1(x)\n",
        "        out = self.relu1(out)\n",
        "        out = self.fc2(out)        \n",
        "        out = self.relu2(out)     \n",
        "        out = self.fc3(out)\n",
        "        return out"
      ],
      "execution_count": 0,
      "outputs": []
    },
    {
      "cell_type": "code",
      "metadata": {
        "id": "HrA0syykfUCm",
        "colab_type": "code",
        "colab": {}
      },
      "source": [
        "class custom_sgd_optimizer(Optimizer):\n",
        "    def __init__(self, params, lr, momentum=0, dampening=0,\n",
        "                 weight_decay=0, nesterov=False):\n",
        "\n",
        "        defaults = dict(lr=lr, momentum=momentum, dampening=dampening,\n",
        "                        weight_decay=weight_decay, nesterov=nesterov)\n",
        "        if nesterov and (momentum <= 0 or dampening != 0):\n",
        "            raise ValueError(\"Nesterov momentum requires a momentum and zero dampening\")\n",
        "        super(custom_sgd_optimizer, self).__init__(params, defaults)\n",
        "\n",
        "    def __setstate__(self, state):\n",
        "        super(custom_sgd_optimizer, self).__setstate__(state)\n",
        "        for group in self.param_groups:\n",
        "            group.setdefault('nesterov', False)\n",
        "\n",
        "    @torch.no_grad()\n",
        "    def step(self, closure=None):\n",
        "        \"\"\"Performs a single optimization step.\n",
        "        Arguments:\n",
        "            closure (callable, optional): A closure that reevaluates the model\n",
        "                and returns the loss.\n",
        "        \"\"\"\n",
        "        loss = None\n",
        "        if closure is not None:\n",
        "            with torch.enable_grad():\n",
        "                loss = closure()\n",
        "\n",
        "        for group in self.param_groups:\n",
        "            weight_decay = group['weight_decay']\n",
        "            momentum = group['momentum']\n",
        "            dampening = group['dampening']\n",
        "            nesterov = group['nesterov']\n",
        "\n",
        "            for p in group['params']:\n",
        "                if p.grad is None:\n",
        "                    continue\n",
        "                d_p = p.grad\n",
        "                if weight_decay != 0:\n",
        "                    d_p = d_p.add(p, alpha=weight_decay)\n",
        "                if momentum != 0:\n",
        "                    param_state = self.state[p]\n",
        "                    if 'momentum_buffer' not in param_state:\n",
        "                        buf = param_state['momentum_buffer'] = torch.clone(d_p).detach()\n",
        "                    else:\n",
        "                        buf = param_state['momentum_buffer']\n",
        "                        buf.mul_(momentum).add_(d_p, alpha=1 - dampening)\n",
        "                    if nesterov:\n",
        "                        d_p = d_p.add(buf, alpha=momentum)\n",
        "                    else:\n",
        "                        d_p = buf\n",
        "\n",
        "                p.add_(d_p, alpha=-group['lr'])\n",
        "\n",
        "        return loss"
      ],
      "execution_count": 0,
      "outputs": []
    },
    {
      "cell_type": "code",
      "metadata": {
        "id": "MwTzb7K0_OSi",
        "colab_type": "code",
        "outputId": "f3e5793a-e7f9-43eb-c1f1-7619c18d51f7",
        "colab": {
          "base_uri": "https://localhost:8080/",
          "height": 136
        }
      },
      "source": [
        "network = Net(4096, 1500, 300, num_of_classes)\n",
        "network.cuda()\n",
        "optimizer = torch.optim.SGD(network.parameters(), lr=0.0001, momentum=0.6)\n",
        "criterion = nn.MSELoss().cuda()\n",
        "\n",
        "print(network)"
      ],
      "execution_count": 61,
      "outputs": [
        {
          "output_type": "stream",
          "text": [
            "Net(\n",
            "  (fc1): Linear(in_features=4096, out_features=1500, bias=True)\n",
            "  (relu1): ReLU()\n",
            "  (fc2): Linear(in_features=1500, out_features=300, bias=True)\n",
            "  (relu2): ReLU()\n",
            "  (fc3): Linear(in_features=300, out_features=3, bias=True)\n",
            ")\n"
          ],
          "name": "stdout"
        }
      ]
    },
    {
      "cell_type": "code",
      "metadata": {
        "id": "lMDkqvToUO1X",
        "colab_type": "code",
        "colab": {}
      },
      "source": [
        "network.load_state_dict(torch.load('/content/Lithuanian_OCR/Trained_model/model.pth'))\n",
        "network.eval()\n",
        "\n",
        "optimizer = torch.optim.SGD(network.parameters(), lr=0.2, momentum=0.2)\n",
        "optimizer.load_state_dict(torch.load('/content/Lithuanian_OCR/Trained_model/optimizer.pth'))"
      ],
      "execution_count": 0,
      "outputs": []
    },
    {
      "cell_type": "code",
      "metadata": {
        "id": "dMTTpgG39U9y",
        "colab_type": "code",
        "outputId": "89115c0a-c5e2-42f7-c1da-3323e939fa27",
        "colab": {
          "base_uri": "https://localhost:8080/",
          "height": 34
        }
      },
      "source": [
        "dev = torch.device(\"cuda\") if torch.cuda.is_available() else torch.device(\"cpu\")\n",
        "network.to(dev)\n",
        "criterion.to(dev)\n",
        "dev"
      ],
      "execution_count": 30,
      "outputs": [
        {
          "output_type": "execute_result",
          "data": {
            "text/plain": [
              "device(type='cuda')"
            ]
          },
          "metadata": {
            "tags": []
          },
          "execution_count": 30
        }
      ]
    },
    {
      "cell_type": "code",
      "metadata": {
        "id": "FsOVe0KqWNts",
        "colab_type": "code",
        "outputId": "b7669eb6-d7ec-4ba0-a5c5-89cf98b7be23",
        "colab": {
          "base_uri": "https://localhost:8080/",
          "height": 119
        }
      },
      "source": [
        "device = torch.device('cuda' if torch.cuda.is_available() else 'cpu')\n",
        "print('Using device:', device)\n",
        "print()\n",
        "\n",
        "#Additional Info when using cuda\n",
        "if device.type == 'cuda':\n",
        "    print(torch.cuda.get_device_name(0))\n",
        "    print('Memory Usage:')\n",
        "    print('Allocated:', round(torch.cuda.memory_allocated(0)/1024**3,1), 'GB')\n",
        "    print('Cached:   ', round(torch.cuda.memory_cached(0)/1024**3,1), 'GB')"
      ],
      "execution_count": 62,
      "outputs": [
        {
          "output_type": "stream",
          "text": [
            "Using device: cuda\n",
            "\n",
            "Tesla P100-PCIE-16GB\n",
            "Memory Usage:\n",
            "Allocated: 0.1 GB\n",
            "Cached:    0.2 GB\n"
          ],
          "name": "stdout"
        }
      ]
    },
    {
      "cell_type": "code",
      "metadata": {
        "id": "KIOL9zLnKiEu",
        "colab_type": "code",
        "colab": {}
      },
      "source": [
        "train_loader = torch.utils.data.DataLoader(train_dataset, batch_size = len(train_dataset),shuffle=True)\n",
        "val_loader = torch.utils.data.DataLoader(val_dataset, batch_size = len(val_dataset), shuffle=True)\n",
        "test_loader = torch.utils.data.DataLoader(test_dataset, batch_size = len(test_dataset), shuffle=True)"
      ],
      "execution_count": 0,
      "outputs": []
    },
    {
      "cell_type": "code",
      "metadata": {
        "id": "SAi_TQWW-04_",
        "colab_type": "code",
        "outputId": "746c5991-c51d-4183-816f-8bae989fc6f4",
        "colab": {
          "base_uri": "https://localhost:8080/",
          "height": 356
        }
      },
      "source": [
        "dataiter = iter(train_loader)\n",
        "itr = dataiter.next()\n",
        "\n",
        "label = itr['class_name']\n",
        "img = itr['image']\n",
        "print(\"Class name: {}\".format(label[0]))\n",
        "\n",
        "fig = plt.figure(figsize = (5,5)) \n",
        "ax = fig.add_subplot(111)\n",
        "ax.imshow(img[0])"
      ],
      "execution_count": 64,
      "outputs": [
        {
          "output_type": "stream",
          "text": [
            "Class name: A_small\n"
          ],
          "name": "stdout"
        },
        {
          "output_type": "execute_result",
          "data": {
            "text/plain": [
              "<matplotlib.image.AxesImage at 0x7f0b11184470>"
            ]
          },
          "metadata": {
            "tags": []
          },
          "execution_count": 64
        },
        {
          "output_type": "display_data",
          "data": {
            "image/png": "[encoded data removed]",
            "text/plain": [
              "<Figure size 360x360 with 1 Axes>"
            ]
          },
          "metadata": {
            "tags": [],
            "needs_background": "light"
          }
        }
      ]
    },
    {
      "cell_type": "code",
      "metadata": {
        "id": "LMbDr5k1BOPE",
        "colab_type": "code",
        "colab": {}
      },
      "source": [
        "train_losses = []\n",
        "train_counter = []\n",
        "test_losses = []\n",
        "test_counter = [i*len(train_loader.dataset) for i in range(10 + 1)]"
      ],
      "execution_count": 0,
      "outputs": []
    },
    {
      "cell_type": "code",
      "metadata": {
        "id": "aCwc6dI0BfdU",
        "colab_type": "code",
        "outputId": "3cf3a542-57bc-4137-f4ef-f7d03517c8ad",
        "colab": {
          "base_uri": "https://localhost:8080/",
          "height": 34
        }
      },
      "source": [
        "!mkdir results"
      ],
      "execution_count": 35,
      "outputs": [
        {
          "output_type": "stream",
          "text": [
            "mkdir: cannot create directory ‘results’: File exists\n"
          ],
          "name": "stdout"
        }
      ]
    },
    {
      "cell_type": "code",
      "metadata": {
        "id": "WNsrIgqgbT15",
        "colab_type": "code",
        "colab": {}
      },
      "source": [
        "def name_to_int(data):\n",
        "\n",
        "  switcher = {\n",
        "      'A': 1,\n",
        "      'B': 2,\n",
        "      'C': 3,\n",
        "      'A_small': 1,\n",
        "      'P': 2,\n",
        "      'u': 3\n",
        "  }\n",
        "\n",
        "  new_data = []\n",
        "\n",
        "  for dt in data:\n",
        "    new_data.append(switcher.get(dt))\n",
        "\n",
        "  return new_data"
      ],
      "execution_count": 0,
      "outputs": []
    },
    {
      "cell_type": "code",
      "metadata": {
        "id": "YGa3hBILPt1E",
        "colab_type": "code",
        "colab": {}
      },
      "source": [
        "def get_max_from_tensor(data):\n",
        "  maxVal = data[0]\n",
        "  maxId = 0\n",
        "  for i in range(len(data)):\n",
        "    if(data[i] > maxVal):\n",
        "      maxVal = data[i]\n",
        "      maxId = i\n",
        "\n",
        "  return maxId + 1"
      ],
      "execution_count": 0,
      "outputs": []
    },
    {
      "cell_type": "code",
      "metadata": {
        "id": "MT60UZQ5sQvj",
        "colab_type": "code",
        "outputId": "12d6ad57-c621-428d-a41c-e221c3698f76",
        "colab": {
          "base_uri": "https://localhost:8080/",
          "height": 1000
        }
      },
      "source": [
        "def train(train_loader, val_loader, epoch_amount, save_checkpoint = 10):\n",
        "  network.eval()\n",
        "  train_loss_hist = []\n",
        "  val_loss_hist = []\n",
        "  checkpoint = save_checkpoint\n",
        "  for epoch in range(epoch_amount):\n",
        "    num_images_train = 0\n",
        "    num_images_val = 0\n",
        "\n",
        "    # TRAINING DATASET\n",
        "    correct = 0\n",
        "    for data in train_loader:\n",
        "      images = data['image']\n",
        "      labels = torch.from_numpy(np.array(name_to_int(data['class_name'])))\n",
        "\n",
        "      lossSum = 0\n",
        "      for idx in range(len(images)):\n",
        "        optimizer.zero_grad()\n",
        "\n",
        "        outputs = network(images[idx].cuda().flatten().float())\n",
        "\n",
        "        maxIdx = get_max_from_tensor(outputs)\n",
        "        real_value = np.repeat(-10, num_of_classes)\n",
        "        real_value[labels[idx] - 1] = 10\n",
        "\n",
        "        loss = criterion(outputs.cuda(), torch.Tensor(real_value).cuda()) \n",
        "        \n",
        "        loss.backward()\n",
        "\n",
        "        lossSum += loss.item()\n",
        "        train_loss_hist.append(lossSum)\n",
        "\n",
        "        optimizer.step()\n",
        "\n",
        "    # VALIDATION\n",
        "    for data in val_loader:\n",
        "      images = data['image']\n",
        "      labels = torch.from_numpy(np.array(name_to_int(data['class_name'])))\n",
        "\n",
        "      num_images_train = len(images)\n",
        "\n",
        "      images.cuda()\n",
        "      labels.cuda()\n",
        "\n",
        "      num_images_val = len(images)\n",
        "\n",
        "      lossSum = 0\n",
        "      for idx in range(len(images)):\n",
        "        optimizer.zero_grad()\n",
        "\n",
        "        outputs = network(images[idx].cuda().flatten().float())\n",
        "\n",
        "        if(labels[idx] == get_max_from_tensor(outputs)):\n",
        "          correct += 1\n",
        "\n",
        "        maxIdx = get_max_from_tensor(outputs)\n",
        "        real_value = np.repeat(-10, num_of_classes)\n",
        "        real_value[labels[idx] - 1] = 10\n",
        "        loss = criterion(outputs.cuda(), torch.Tensor(real_value).cuda()) \n",
        "\n",
        "        lossSum += loss.item()\n",
        "        val_loss_hist.append(lossSum)\n",
        "\n",
        "    print(\"Epoch: {} Training loss: {} Eval loss: {} Correct: {}%\".format(epoch,train_loss_hist[len(train_loss_hist) - 1],val_loss_hist[len(val_loss_hist) - 1],correct*100/num_images_train))\n",
        "\n",
        "    if(checkpoint == 0):\n",
        "      torch.save(network.state_dict(), '/content/results/model.pth')\n",
        "      torch.save(optimizer.state_dict(), '/content/results/optimizer.pth')\n",
        "\n",
        "      checkpoint = save_checkpoint\n",
        "    else:\n",
        "      checkpoint -= 1\n",
        "\n",
        "train(train_loader, val_loader, 100, 5)"
      ],
      "execution_count": 70,
      "outputs": [
        {
          "output_type": "stream",
          "text": [
            "Epoch: 0 Training loss: 6.24346852733288 Eval loss: 723.0546602131799 Correct: 96.15384615384616%\n",
            "Epoch: 1 Training loss: 6.047294251562562 Eval loss: 735.1498495675623 Correct: 94.23076923076923%\n",
            "Epoch: 2 Training loss: 5.846651293992181 Eval loss: 725.6348469285294 Correct: 96.15384615384616%\n",
            "Epoch: 3 Training loss: 5.253299941483419 Eval loss: 744.4869621451944 Correct: 94.23076923076923%\n",
            "Epoch: 4 Training loss: 5.671144122083206 Eval loss: 734.0816189367324 Correct: 94.23076923076923%\n",
            "Epoch: 5 Training loss: 5.326593388308538 Eval loss: 726.8929497296922 Correct: 94.23076923076923%\n",
            "Epoch: 6 Training loss: 5.079471291144728 Eval loss: 726.7881791461259 Correct: 94.23076923076923%\n",
            "Epoch: 7 Training loss: 5.137126134723076 Eval loss: 727.9238590998575 Correct: 94.23076923076923%\n",
            "Epoch: 8 Training loss: 4.621312374249101 Eval loss: 723.6222576471046 Correct: 94.23076923076923%\n",
            "Epoch: 9 Training loss: 4.949761786439922 Eval loss: 722.120038528461 Correct: 94.23076923076923%\n",
            "Epoch: 10 Training loss: 4.624839317053556 Eval loss: 751.5263280719519 Correct: 94.23076923076923%\n",
            "Epoch: 11 Training loss: 4.477487700758502 Eval loss: 718.53825422097 Correct: 96.15384615384616%\n",
            "Epoch: 12 Training loss: 4.354101860983064 Eval loss: 732.9504653001204 Correct: 94.23076923076923%\n",
            "Epoch: 13 Training loss: 4.311910685239127 Eval loss: 733.7687434738036 Correct: 94.23076923076923%\n",
            "Epoch: 14 Training loss: 3.7474212766683195 Eval loss: 727.4666974851862 Correct: 96.15384615384616%\n",
            "Epoch: 15 Training loss: 3.8324784801807255 Eval loss: 736.4237497267313 Correct: 94.23076923076923%\n",
            "Epoch: 16 Training loss: 3.4926785482821288 Eval loss: 733.7307379979175 Correct: 94.23076923076923%\n",
            "Epoch: 17 Training loss: 3.7256158668897115 Eval loss: 735.7955307442462 Correct: 94.23076923076923%\n",
            "Epoch: 18 Training loss: 3.439454100385774 Eval loss: 734.7719788891263 Correct: 94.23076923076923%\n",
            "Epoch: 19 Training loss: 3.4578467021201504 Eval loss: 720.9244755227119 Correct: 94.23076923076923%\n",
            "Epoch: 20 Training loss: 3.5613799648417626 Eval loss: 726.920516397804 Correct: 94.23076923076923%\n",
            "Epoch: 21 Training loss: 3.2134451383026317 Eval loss: 744.9383993245428 Correct: 94.23076923076923%\n",
            "Epoch: 22 Training loss: 2.9533209333603736 Eval loss: 733.9068355071358 Correct: 94.23076923076923%\n",
            "Epoch: 23 Training loss: 2.9752599531930173 Eval loss: 737.8631764296442 Correct: 94.23076923076923%\n",
            "Epoch: 24 Training loss: 2.8157407219405286 Eval loss: 728.5194873090368 Correct: 94.23076923076923%\n",
            "Epoch: 25 Training loss: 2.9462569085881114 Eval loss: 730.1043358948082 Correct: 94.23076923076923%\n",
            "Epoch: 26 Training loss: 2.7045788639770763 Eval loss: 732.7365438863635 Correct: 94.23076923076923%\n",
            "Epoch: 27 Training loss: 2.6366667378679267 Eval loss: 731.2845383277163 Correct: 94.23076923076923%\n",
            "Epoch: 28 Training loss: 2.6862652661657194 Eval loss: 731.9975565052591 Correct: 94.23076923076923%\n",
            "Epoch: 29 Training loss: 2.4934059498482384 Eval loss: 733.7706907768734 Correct: 94.23076923076923%\n",
            "Epoch: 30 Training loss: 2.5129116196767427 Eval loss: 725.6955486580264 Correct: 94.23076923076923%\n",
            "Epoch: 31 Training loss: 2.2505739716580138 Eval loss: 727.6340395584702 Correct: 94.23076923076923%\n",
            "Epoch: 32 Training loss: 2.1626588297076523 Eval loss: 737.6198757011443 Correct: 94.23076923076923%\n",
            "Epoch: 33 Training loss: 2.1286014413199155 Eval loss: 722.3429013793357 Correct: 94.23076923076923%\n",
            "Epoch: 34 Training loss: 2.2147225425287616 Eval loss: 733.3177869365318 Correct: 94.23076923076923%\n",
            "Epoch: 35 Training loss: 1.982329064514488 Eval loss: 730.3567276736721 Correct: 94.23076923076923%\n",
            "Epoch: 36 Training loss: 1.9323879944859073 Eval loss: 726.9656419833191 Correct: 94.23076923076923%\n",
            "Epoch: 37 Training loss: 2.003547630738467 Eval loss: 733.2422360312194 Correct: 94.23076923076923%\n",
            "Epoch: 38 Training loss: 1.9218422234989703 Eval loss: 734.3409642814659 Correct: 94.23076923076923%\n",
            "Epoch: 39 Training loss: 1.8166001939607668 Eval loss: 728.3789677303284 Correct: 94.23076923076923%\n",
            "Epoch: 40 Training loss: 1.7119282511703204 Eval loss: 726.8713933364488 Correct: 94.23076923076923%\n",
            "Epoch: 41 Training loss: 1.7618182813603198 Eval loss: 734.8333383495919 Correct: 94.23076923076923%\n",
            "Epoch: 42 Training loss: 1.7058224055945175 Eval loss: 734.4415174345486 Correct: 94.23076923076923%\n",
            "Epoch: 43 Training loss: 1.6844202846114058 Eval loss: 736.1971126710996 Correct: 94.23076923076923%\n",
            "Epoch: 44 Training loss: 1.5412550158216618 Eval loss: 730.1274512526579 Correct: 94.23076923076923%\n",
            "Epoch: 45 Training loss: 1.6105627168144565 Eval loss: 727.3321285368875 Correct: 94.23076923076923%\n",
            "Epoch: 46 Training loss: 1.5825515844771871 Eval loss: 731.5980072251987 Correct: 94.23076923076923%\n",
            "Epoch: 47 Training loss: 1.425187007203931 Eval loss: 734.949013417121 Correct: 94.23076923076923%\n",
            "Epoch: 48 Training loss: 1.4669815419692895 Eval loss: 737.323383186711 Correct: 94.23076923076923%\n",
            "Epoch: 49 Training loss: 1.5030028014807613 Eval loss: 732.2544197686948 Correct: 94.23076923076923%\n",
            "Epoch: 50 Training loss: 1.29998468796839 Eval loss: 734.3974750433117 Correct: 94.23076923076923%\n",
            "Epoch: 51 Training loss: 1.3862588877018425 Eval loss: 731.9106116457842 Correct: 94.23076923076923%\n",
            "Epoch: 52 Training loss: 1.312816585341352 Eval loss: 730.4970630514435 Correct: 94.23076923076923%\n",
            "Epoch: 53 Training loss: 1.2894559727865271 Eval loss: 733.6193920213263 Correct: 94.23076923076923%\n",
            "Epoch: 54 Training loss: 1.274925329727921 Eval loss: 731.3384864972904 Correct: 94.23076923076923%\n",
            "Epoch: 55 Training loss: 1.2375443811979494 Eval loss: 732.5604999121279 Correct: 94.23076923076923%\n",
            "Epoch: 56 Training loss: 1.1585792189944186 Eval loss: 732.9509939196287 Correct: 94.23076923076923%\n",
            "Epoch: 57 Training loss: 1.1367582646053052 Eval loss: 731.532573452685 Correct: 94.23076923076923%\n",
            "Epoch: 58 Training loss: 1.1735533858009148 Eval loss: 732.3121026467998 Correct: 94.23076923076923%\n",
            "Epoch: 59 Training loss: 1.1229848183465947 Eval loss: 735.0908665498719 Correct: 94.23076923076923%\n",
            "Epoch: 60 Training loss: 1.133414281945079 Eval loss: 729.7808951558545 Correct: 94.23076923076923%\n",
            "Epoch: 61 Training loss: 1.0533068067015847 Eval loss: 733.098110669991 Correct: 94.23076923076923%\n",
            "Epoch: 62 Training loss: 1.019914065793273 Eval loss: 737.213313373737 Correct: 94.23076923076923%\n",
            "Epoch: 63 Training loss: 1.0737567004616722 Eval loss: 733.7906491279136 Correct: 94.23076923076923%\n",
            "Epoch: 64 Training loss: 1.0142513726605102 Eval loss: 732.8029682342894 Correct: 94.23076923076923%\n",
            "Epoch: 65 Training loss: 0.9796722890168894 Eval loss: 734.8404786637984 Correct: 94.23076923076923%\n",
            "Epoch: 66 Training loss: 0.9716948410350597 Eval loss: 744.6688005069736 Correct: 94.23076923076923%\n",
            "Epoch: 67 Training loss: 0.925649877774049 Eval loss: 734.3112584685441 Correct: 94.23076923076923%\n",
            "Epoch: 68 Training loss: 0.9371137476628064 Eval loss: 734.5066139906412 Correct: 94.23076923076923%\n",
            "Epoch: 69 Training loss: 0.886176875741512 Eval loss: 727.2471574717201 Correct: 94.23076923076923%\n",
            "Epoch: 70 Training loss: 0.8969963635718159 Eval loss: 736.7287112907507 Correct: 94.23076923076923%\n",
            "Epoch: 71 Training loss: 0.879513727457379 Eval loss: 732.8460873914883 Correct: 94.23076923076923%\n",
            "Epoch: 72 Training loss: 0.8329630276439275 Eval loss: 735.8081105081365 Correct: 94.23076923076923%\n",
            "Epoch: 73 Training loss: 0.8195519559812965 Eval loss: 733.9290049592964 Correct: 94.23076923076923%\n",
            "Epoch: 74 Training loss: 0.8340071434176934 Eval loss: 733.2577624004334 Correct: 94.23076923076923%\n",
            "Epoch: 75 Training loss: 0.756782119115087 Eval loss: 732.3134448204655 Correct: 94.23076923076923%\n",
            "Epoch: 76 Training loss: 0.7907474978455866 Eval loss: 737.166307625128 Correct: 94.23076923076923%\n",
            "Epoch: 77 Training loss: 0.7668022513680626 Eval loss: 736.5319774765521 Correct: 94.23076923076923%\n",
            "Epoch: 78 Training loss: 0.7511348123516655 Eval loss: 731.5569136718987 Correct: 94.23076923076923%\n",
            "Epoch: 79 Training loss: 0.7134740491856064 Eval loss: 735.0238051023334 Correct: 94.23076923076923%\n",
            "Epoch: 80 Training loss: 0.7369398413866293 Eval loss: 737.8255199715495 Correct: 94.23076923076923%\n",
            "Epoch: 81 Training loss: 0.7022526653890964 Eval loss: 735.5909648414236 Correct: 94.23076923076923%\n",
            "Epoch: 82 Training loss: 0.7005520753518795 Eval loss: 734.7781657138839 Correct: 94.23076923076923%\n",
            "Epoch: 83 Training loss: 0.6781641157895137 Eval loss: 737.1955308075994 Correct: 94.23076923076923%\n",
            "Epoch: 84 Training loss: 0.6397488305519801 Eval loss: 735.6527660654392 Correct: 94.23076923076923%\n",
            "Epoch: 85 Training loss: 0.6666110787991784 Eval loss: 734.6391133762663 Correct: 94.23076923076923%\n",
            "Epoch: 86 Training loss: 0.6350668023442267 Eval loss: 730.0743304570206 Correct: 94.23076923076923%\n",
            "Epoch: 87 Training loss: 0.63890802278911 Eval loss: 736.835083900718 Correct: 94.23076923076923%\n",
            "Epoch: 88 Training loss: 0.6162796518901814 Eval loss: 737.0099271868821 Correct: 94.23076923076923%\n",
            "Epoch: 89 Training loss: 0.610265766041266 Eval loss: 734.5406852958258 Correct: 94.23076923076923%\n",
            "Epoch: 90 Training loss: 0.5945833676960319 Eval loss: 733.2842933232896 Correct: 94.23076923076923%\n",
            "Epoch: 91 Training loss: 0.5759230245876097 Eval loss: 731.1582114094635 Correct: 94.23076923076923%\n",
            "Epoch: 92 Training loss: 0.5678801471767656 Eval loss: 737.5959160042694 Correct: 94.23076923076923%\n",
            "Epoch: 93 Training loss: 0.5664712783982395 Eval loss: 736.0689406904858 Correct: 94.23076923076923%\n",
            "Epoch: 94 Training loss: 0.5540261668138555 Eval loss: 734.837647134671 Correct: 94.23076923076923%\n",
            "Epoch: 95 Training loss: 0.5475871687513063 Eval loss: 734.5179554442875 Correct: 94.23076923076923%\n",
            "Epoch: 96 Training loss: 0.5427412479366467 Eval loss: 736.705364063615 Correct: 94.23076923076923%\n",
            "Epoch: 97 Training loss: 0.5271642748193699 Eval loss: 739.6773113495437 Correct: 94.23076923076923%\n",
            "Epoch: 98 Training loss: 0.5249463014074536 Eval loss: 737.6368482526159 Correct: 94.23076923076923%\n",
            "Epoch: 99 Training loss: 0.5100817372658639 Eval loss: 737.9864563830197 Correct: 94.23076923076923%\n"
          ],
          "name": "stdout"
        }
      ]
    },
    {
      "cell_type": "code",
      "metadata": {
        "id": "nSTdUp1O1bak",
        "colab_type": "code",
        "outputId": "e8e37d4a-c441-40c6-f8e5-45b4df8ec51f",
        "colab": {
          "base_uri": "https://localhost:8080/",
          "height": 85
        }
      },
      "source": [
        "empty_image = io.imread('/content/Lithuanian_OCR/Data/white.jpg')\n",
        "empty_image = rgb2gray(empty_image)\n",
        "output = network(torch.Tensor(empty_image).cuda().flatten().float())\n",
        "print(output)\n",
        "print(get_max_from_tensor(output))\n",
        "print(output[get_max_from_tensor(output) - 1])\n",
        "\n",
        "prob_treshold = output[get_max_from_tensor(output) - 1].item()\n",
        "print(prob_treshold)"
      ],
      "execution_count": 71,
      "outputs": [
        {
          "output_type": "stream",
          "text": [
            "tensor([-13.0260,   2.9800,  -3.5156], device='cuda:0', grad_fn=<AddBackward0>)\n",
            "2\n",
            "tensor(2.9800, device='cuda:0', grad_fn=<SelectBackward>)\n",
            "2.9800212383270264\n"
          ],
          "name": "stdout"
        }
      ]
    },
    {
      "cell_type": "code",
      "metadata": {
        "id": "aDc8f2aEZ1-c",
        "colab_type": "code",
        "outputId": "ea7846bf-9e44-407e-d3f8-64f3d246e02a",
        "colab": {
          "base_uri": "https://localhost:8080/",
          "height": 425
        }
      },
      "source": [
        "lowest_prob = 100\n",
        "\n",
        "for data in test_loader:\n",
        "  images = data['image']\n",
        "  labels = torch.from_numpy(np.array(name_to_int(data['class_name'])))\n",
        "\n",
        "  for i in range(len(images)):\n",
        "    output = network(images[i].cuda().flatten().float())\n",
        "    \n",
        "    prob = output[get_max_from_tensor(output) - 1]\n",
        "    if prob < lowest_prob:\n",
        "      lowest_prob = prob\n",
        "\n",
        "    if(get_max_from_tensor(output) == labels[i] and prob > prob_treshold):\n",
        "      print(\"OK: {} == {} Probability: {}\".format(get_max_from_tensor(output), labels[i], prob))\n",
        "    elif(prob < prob_treshold):\n",
        "      print(\"False: Detected empty image on {} with probability: {}\".format(labels[i], prob))\n",
        "    else:\n",
        "      print(\"False: {} == {} Probability: {}\".format(get_max_from_tensor(output), labels[i], prob))\n",
        "\n",
        "print(\"Lowest Probability: {}\".format(lowest_prob))"
      ],
      "execution_count": 72,
      "outputs": [
        {
          "output_type": "stream",
          "text": [
            "OK: 2 == 2 Probability: 8.452061653137207\n",
            "OK: 2 == 2 Probability: 9.020755767822266\n",
            "OK: 2 == 2 Probability: 11.350409507751465\n",
            "OK: 3 == 3 Probability: 8.649484634399414\n",
            "OK: 1 == 1 Probability: 7.202477931976318\n",
            "OK: 3 == 3 Probability: 3.4014837741851807\n",
            "OK: 3 == 3 Probability: 9.129841804504395\n",
            "OK: 3 == 3 Probability: 6.421441078186035\n",
            "OK: 3 == 3 Probability: 6.371933937072754\n",
            "OK: 1 == 1 Probability: 6.030937194824219\n",
            "OK: 2 == 2 Probability: 9.298827171325684\n",
            "OK: 2 == 2 Probability: 10.614869117736816\n",
            "OK: 2 == 2 Probability: 10.826493263244629\n",
            "OK: 1 == 1 Probability: 9.290994644165039\n",
            "OK: 1 == 1 Probability: 11.522485733032227\n",
            "OK: 3 == 3 Probability: 3.2081894874572754\n",
            "OK: 2 == 2 Probability: 11.298449516296387\n",
            "OK: 1 == 1 Probability: 6.139896392822266\n",
            "OK: 3 == 3 Probability: 7.125797271728516\n",
            "OK: 1 == 1 Probability: 6.433068752288818\n",
            "OK: 1 == 1 Probability: 3.687845468521118\n",
            "OK: 2 == 2 Probability: 3.7099289894104004\n",
            "OK: 2 == 2 Probability: 6.459685802459717\n",
            "Lowest Probability: 3.2081894874572754\n"
          ],
          "name": "stdout"
        }
      ]
    },
    {
      "cell_type": "code",
      "metadata": {
        "id": "BA6XaNQwoBYQ",
        "colab_type": "code",
        "colab": {}
      },
      "source": [
        "for opt in optimizer.param_groups:\n",
        "  opt['lr'] = 0.00001"
      ],
      "execution_count": 0,
      "outputs": []
    },
    {
      "cell_type": "code",
      "metadata": {
        "id": "wKrJxDhb8aci",
        "colab_type": "code",
        "colab": {}
      },
      "source": [
        "!cp '/content/results/model.pth' '/content/Lithuanian_OCR/Trained_model/model.pth'\n",
        "!cp '/content/results/optimizer.pth' '/content/Lithuanian_OCR/Trained_model/optimizer.pth'"
      ],
      "execution_count": 0,
      "outputs": []
    }
  ]
}