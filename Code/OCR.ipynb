{
  "nbformat": 4,
  "nbformat_minor": 0,
  "metadata": {
    "colab": {
      "name": "OCR.ipynb",
      "provenance": [],
      "collapsed_sections": [],
      "machine_shape": "hm"
    },
    "kernelspec": {
      "name": "python3",
      "display_name": "Python 3"
    },
    "accelerator": "GPU"
  },
  "cells": [
    {
      "cell_type": "code",
      "metadata": {
        "id": "tqV3oHrg8mY-",
        "colab_type": "code",
        "colab": {}
      },
      "source": [
        "from __future__ import print_function, division\n",
        "import os\n",
        "import torch\n",
        "from torch.optim.optimizer import Optimizer\n",
        "from skimage import io, transform\n",
        "import numpy as np\n",
        "import matplotlib.pyplot as plt\n",
        "from torch.utils.data import Dataset, DataLoader\n",
        "from torchvision import transforms, utils\n",
        "from skimage import io\n",
        "import torch.nn as nn\n",
        "import torch.nn.functional as F\n",
        "\n",
        "from skimage.color import rgb2gray\n",
        "\n",
        "from torch.utils.tensorboard import SummaryWriter\n",
        "\n",
        "import PIL\n",
        "from PIL import Image\n",
        "\n",
        "from google.colab import output"
      ],
      "execution_count": 0,
      "outputs": []
    },
    {
      "cell_type": "code",
      "metadata": {
        "id": "qZPVvFlrIHMt",
        "colab_type": "code",
        "outputId": "b74eecee-ac26-4f88-8bc5-1b8295df145b",
        "colab": {
          "base_uri": "https://localhost:8080/",
          "height": 161
        }
      },
      "source": [
        "%cd /content/\n",
        "if(os.path.isdir('/content/Lithuanian_OCR') == False):\n",
        "  !git clone https://github.com/PauliusMilmantas/Lithuanian_OCR\n",
        "\n",
        "num_of_classes = 3"
      ],
      "execution_count": 2,
      "outputs": [
        {
          "output_type": "stream",
          "text": [
            "/content\n",
            "Cloning into 'Lithuanian_OCR'...\n",
            "remote: Enumerating objects: 4, done.\u001b[K\n",
            "remote: Counting objects: 100% (4/4), done.\u001b[K\n",
            "remote: Compressing objects: 100% (4/4), done.\u001b[K\n",
            "remote: Total 3937 (delta 0), reused 2 (delta 0), pack-reused 3933\u001b[K\n",
            "Receiving objects: 100% (3937/3937), 187.60 MiB | 38.94 MiB/s, done.\n",
            "Resolving deltas: 100% (607/607), done.\n"
          ],
          "name": "stdout"
        }
      ]
    },
    {
      "cell_type": "code",
      "metadata": {
        "id": "4dizldPQRNUj",
        "colab_type": "code",
        "colab": {}
      },
      "source": [
        "class ORCDataset(Dataset):\n",
        "  def __init__(self, root):\n",
        "    self.root = root\n",
        "\n",
        "  def __len__(self):\n",
        "    lt = 0\n",
        "    classes = os.listdir(self.root)\n",
        "    for cl in classes:\n",
        "      lt += len(os.listdir(self.root + '/' + cl))\n",
        "\n",
        "    return lt\n",
        "\n",
        "  def __getitem__(self, idx):\n",
        "    if torch.is_tensor(idx):\n",
        "     idx = idx.tolist()\n",
        "\n",
        "    if(idx <= len(self)):\n",
        "      found_file = \"\"\n",
        "      found_type = \"\"\n",
        "\n",
        "      fldrs = os.listdir(self.root)\n",
        "      for fld in fldrs:\n",
        "        fls = os.listdir(self.root + '/' + fld + '/')\n",
        "        for fl in fls:\n",
        "          if(fl == str(idx) + \".jpg\"):\n",
        "            found_file = self.root + '/' + fld + '/' + fl         \n",
        "            found_type = fld\n",
        "\n",
        "      try:\n",
        "        img = io.imread(found_file)\n",
        "        img = rgb2gray(img)\n",
        "\n",
        "        return {'image': img, 'class_name': found_type}\n",
        "      except:\n",
        "        if(found_file != \"\"):\n",
        "          print(\"Bad file: \" + found_file)\n",
        "        else:\n",
        "          print(\"File not found, idx = \" + str(idx))\n",
        "    else:\n",
        "      print()\n",
        "      raise Exception(\"Dataset index out of boundaries\")\n",
        "\n",
        "train_dataset = ORCDataset('/content/Lithuanian_OCR/Data/batch-1/training')\n",
        "val_dataset = ORCDataset('/content/Lithuanian_OCR/Data/batch-1/val')\n",
        "test_dataset = ORCDataset('/content/Lithuanian_OCR/Data/batch-1/test')"
      ],
      "execution_count": 0,
      "outputs": []
    },
    {
      "cell_type": "code",
      "metadata": {
        "id": "KR2HO96n8pXN",
        "colab_type": "code",
        "colab": {}
      },
      "source": [
        "class Net(nn.Module):\n",
        "    def __init__(self, input_size, hidden1_size, hidden2_size, num_classes):\n",
        "        super(Net, self).__init__()\n",
        "        self.fc1 = nn.Linear(input_size, hidden1_size)\n",
        "        self.relu1 = nn.ReLU()\n",
        "        self.fc2 = nn.Linear(hidden1_size, hidden2_size)\n",
        "        self.relu2 = nn.ReLU()\n",
        "        self.fc3 = nn.Linear(hidden2_size, num_classes)  \n",
        "    \n",
        "    def forward(self, x):\n",
        "        out = self.fc1(x)\n",
        "        out = self.relu1(out)\n",
        "        out = self.fc2(out)        \n",
        "        out = self.relu2(out)     \n",
        "        out = self.fc3(out)\n",
        "        return out"
      ],
      "execution_count": 0,
      "outputs": []
    },
    {
      "cell_type": "code",
      "metadata": {
        "id": "HrA0syykfUCm",
        "colab_type": "code",
        "colab": {}
      },
      "source": [
        "class custom_sgd_optimizer(Optimizer):\n",
        "    def __init__(self, params, lr, momentum=0, dampening=0,\n",
        "                 weight_decay=0, nesterov=False):\n",
        "\n",
        "        defaults = dict(lr=lr, momentum=momentum, dampening=dampening,\n",
        "                        weight_decay=weight_decay, nesterov=nesterov)\n",
        "        if nesterov and (momentum <= 0 or dampening != 0):\n",
        "            raise ValueError(\"Nesterov momentum requires a momentum and zero dampening\")\n",
        "        super(custom_sgd_optimizer, self).__init__(params, defaults)\n",
        "\n",
        "    def __setstate__(self, state):\n",
        "        super(custom_sgd_optimizer, self).__setstate__(state)\n",
        "        for group in self.param_groups:\n",
        "            group.setdefault('nesterov', False)\n",
        "\n",
        "    @torch.no_grad()\n",
        "    def step(self, closure=None):\n",
        "        \"\"\"Performs a single optimization step.\n",
        "        Arguments:\n",
        "            closure (callable, optional): A closure that reevaluates the model\n",
        "                and returns the loss.\n",
        "        \"\"\"\n",
        "        loss = None\n",
        "        if closure is not None:\n",
        "            with torch.enable_grad():\n",
        "                loss = closure()\n",
        "\n",
        "        for group in self.param_groups:\n",
        "            weight_decay = group['weight_decay']\n",
        "            momentum = group['momentum']\n",
        "            dampening = group['dampening']\n",
        "            nesterov = group['nesterov']\n",
        "\n",
        "            for p in group['params']:\n",
        "                if p.grad is None:\n",
        "                    continue\n",
        "                d_p = p.grad\n",
        "                if weight_decay != 0:\n",
        "                    d_p = d_p.add(p, alpha=weight_decay)\n",
        "                if momentum != 0:\n",
        "                    param_state = self.state[p]\n",
        "                    if 'momentum_buffer' not in param_state:\n",
        "                        buf = param_state['momentum_buffer'] = torch.clone(d_p).detach()\n",
        "                    else:\n",
        "                        buf = param_state['momentum_buffer']\n",
        "                        buf.mul_(momentum).add_(d_p, alpha=1 - dampening)\n",
        "                    if nesterov:\n",
        "                        d_p = d_p.add(buf, alpha=momentum)\n",
        "                    else:\n",
        "                        d_p = buf\n",
        "\n",
        "                p.add_(d_p, alpha=-group['lr'])\n",
        "\n",
        "        return loss"
      ],
      "execution_count": 0,
      "outputs": []
    },
    {
      "cell_type": "code",
      "metadata": {
        "id": "MwTzb7K0_OSi",
        "colab_type": "code",
        "outputId": "870da474-f4d3-46bb-c5dd-eb2bdcf71f98",
        "colab": {
          "base_uri": "https://localhost:8080/",
          "height": 143
        }
      },
      "source": [
        "network = Net(4096, 1500, 300, num_of_classes)\n",
        "network.cuda()\n",
        "optimizer = torch.optim.SGD(network.parameters(), lr=0.01, momentum=0.6)\n",
        "criterion = nn.MSELoss().cuda()\n",
        "\n",
        "print(network)"
      ],
      "execution_count": 6,
      "outputs": [
        {
          "output_type": "stream",
          "text": [
            "Net(\n",
            "  (fc1): Linear(in_features=4096, out_features=1500, bias=True)\n",
            "  (relu1): ReLU()\n",
            "  (fc2): Linear(in_features=1500, out_features=300, bias=True)\n",
            "  (relu2): ReLU()\n",
            "  (fc3): Linear(in_features=300, out_features=3, bias=True)\n",
            ")\n"
          ],
          "name": "stdout"
        }
      ]
    },
    {
      "cell_type": "code",
      "metadata": {
        "id": "lMDkqvToUO1X",
        "colab_type": "code",
        "colab": {}
      },
      "source": [
        "network.load_state_dict(torch.load('/content/Lithuanian_OCR/Trained_model/model.pth'))\n",
        "network.eval()\n",
        "\n",
        "optimizer = torch.optim.SGD(network.parameters(), lr=0.2, momentum=0.2)\n",
        "optimizer.load_state_dict(torch.load('/content/Lithuanian_OCR/Trained_model/optimizer.pth'))"
      ],
      "execution_count": 0,
      "outputs": []
    },
    {
      "cell_type": "code",
      "metadata": {
        "id": "dMTTpgG39U9y",
        "colab_type": "code",
        "outputId": "6960630d-ec19-435e-c77f-dd7a6de48d90",
        "colab": {
          "base_uri": "https://localhost:8080/",
          "height": 35
        }
      },
      "source": [
        "dev = torch.device(\"cuda\") if torch.cuda.is_available() else torch.device(\"cpu\")\n",
        "network.to(dev)\n",
        "criterion.to(dev)\n",
        "dev"
      ],
      "execution_count": 9,
      "outputs": [
        {
          "output_type": "execute_result",
          "data": {
            "text/plain": [
              "device(type='cuda')"
            ]
          },
          "metadata": {
            "tags": []
          },
          "execution_count": 9
        }
      ]
    },
    {
      "cell_type": "code",
      "metadata": {
        "id": "FsOVe0KqWNts",
        "colab_type": "code",
        "outputId": "21eb6645-f211-4ddf-c796-bf2e6d867d53",
        "colab": {
          "base_uri": "https://localhost:8080/",
          "height": 125
        }
      },
      "source": [
        "device = torch.device('cuda' if torch.cuda.is_available() else 'cpu')\n",
        "print('Using device:', device)\n",
        "print()\n",
        "\n",
        "#Additional Info when using cuda\n",
        "if device.type == 'cuda':\n",
        "    print(torch.cuda.get_device_name(0))\n",
        "    print('Memory Usage:')\n",
        "    print('Allocated:', round(torch.cuda.memory_allocated(0)/1024**3,1), 'GB')\n",
        "    print('Cached:   ', round(torch.cuda.memory_cached(0)/1024**3,1), 'GB')"
      ],
      "execution_count": 10,
      "outputs": [
        {
          "output_type": "stream",
          "text": [
            "Using device: cuda\n",
            "\n",
            "Tesla P100-PCIE-16GB\n",
            "Memory Usage:\n",
            "Allocated: 0.0 GB\n",
            "Cached:    0.0 GB\n"
          ],
          "name": "stdout"
        }
      ]
    },
    {
      "cell_type": "code",
      "metadata": {
        "id": "KIOL9zLnKiEu",
        "colab_type": "code",
        "colab": {}
      },
      "source": [
        "train_loader = torch.utils.data.DataLoader(train_dataset, batch_size = len(train_dataset),shuffle=True)\n",
        "val_loader = torch.utils.data.DataLoader(val_dataset, batch_size = len(val_dataset), shuffle=True)\n",
        "test_loader = torch.utils.data.DataLoader(test_dataset, batch_size = len(test_dataset), shuffle=True)"
      ],
      "execution_count": 0,
      "outputs": []
    },
    {
      "cell_type": "code",
      "metadata": {
        "id": "SAi_TQWW-04_",
        "colab_type": "code",
        "outputId": "06b6fb1f-9c58-4c19-f629-fdadb1c1e489",
        "colab": {
          "base_uri": "https://localhost:8080/",
          "height": 358
        }
      },
      "source": [
        "dataiter = iter(train_loader)\n",
        "itr = dataiter.next()\n",
        "\n",
        "label = itr['class_name']\n",
        "img = itr['image']\n",
        "print(\"Class name: {}\".format(label[0]))\n",
        "\n",
        "fig = plt.figure(figsize = (5,5)) \n",
        "ax = fig.add_subplot(111)\n",
        "ax.imshow(img[0])"
      ],
      "execution_count": 12,
      "outputs": [
        {
          "output_type": "stream",
          "text": [
            "Class name: B\n"
          ],
          "name": "stdout"
        },
        {
          "output_type": "execute_result",
          "data": {
            "text/plain": [
              "<matplotlib.image.AxesImage at 0x7ff782afd358>"
            ]
          },
          "metadata": {
            "tags": []
          },
          "execution_count": 12
        },
        {
          "output_type": "display_data",
          "data": {
            "image/png": "[encoded data removed]",
            "text/plain": [
              "<Figure size 360x360 with 1 Axes>"
            ]
          },
          "metadata": {
            "tags": [],
            "needs_background": "light"
          }
        }
      ]
    },
    {
      "cell_type": "code",
      "metadata": {
        "id": "LMbDr5k1BOPE",
        "colab_type": "code",
        "colab": {}
      },
      "source": [
        "train_losses = []\n",
        "train_counter = []\n",
        "test_losses = []\n",
        "test_counter = [i*len(train_loader.dataset) for i in range(10 + 1)]"
      ],
      "execution_count": 0,
      "outputs": []
    },
    {
      "cell_type": "code",
      "metadata": {
        "id": "aCwc6dI0BfdU",
        "colab_type": "code",
        "colab": {}
      },
      "source": [
        "!mkdir results"
      ],
      "execution_count": 0,
      "outputs": []
    },
    {
      "cell_type": "code",
      "metadata": {
        "id": "WNsrIgqgbT15",
        "colab_type": "code",
        "colab": {}
      },
      "source": [
        "def name_to_int(data):\n",
        "\n",
        "  switcher = {\n",
        "      'A': 1,\n",
        "      'B': 2,\n",
        "      'C': 3,\n",
        "      'A_small': 1,\n",
        "      'P': 2,\n",
        "      'u': 3\n",
        "  }\n",
        "\n",
        "  new_data = []\n",
        "\n",
        "  for dt in data:\n",
        "    new_data.append(switcher.get(dt))\n",
        "\n",
        "  return new_data"
      ],
      "execution_count": 0,
      "outputs": []
    },
    {
      "cell_type": "code",
      "metadata": {
        "id": "YGa3hBILPt1E",
        "colab_type": "code",
        "colab": {}
      },
      "source": [
        "def get_max_from_tensor(data):\n",
        "  maxVal = data[0]\n",
        "  maxId = 0\n",
        "  for i in range(len(data)):\n",
        "    if(data[i] > maxVal):\n",
        "      maxVal = data[i]\n",
        "      maxId = i\n",
        "\n",
        "  return maxId + 1"
      ],
      "execution_count": 0,
      "outputs": []
    },
    {
      "cell_type": "code",
      "metadata": {
        "id": "rE8MNszDBZ_e",
        "colab_type": "code",
        "outputId": "d5e145a4-834b-4a92-8f72-dfc84b89cf12",
        "colab": {
          "base_uri": "https://localhost:8080/",
          "height": 197
        }
      },
      "source": [
        "def train(train_loader, val_loader, epoch_amount, save_checkpoint = 10):\n",
        "  network.eval()\n",
        "  train_loss_hist = []\n",
        "  val_loss_hist = []\n",
        "  checkpoint = save_checkpoint\n",
        "  for epoch in range(epoch_amount):\n",
        "    num_images_train = 0\n",
        "    num_images_val = 0\n",
        "\n",
        "    # TRAINING DATASET\n",
        "    correct = 0\n",
        "    for data in train_loader:\n",
        "      images = data['image']\n",
        "      labels = torch.from_numpy(np.array(name_to_int(data['class_name'])))\n",
        "\n",
        "      num_images_train = len(images)\n",
        "\n",
        "      lossSum = 0\n",
        "      for idx in range(len(images)):\n",
        "        optimizer.zero_grad()\n",
        "\n",
        "        outputs = network(images[idx].cuda().flatten().float())\n",
        "\n",
        "        maxIdx = get_max_from_tensor(outputs)\n",
        "        real_value = np.zeros(num_of_classes)\n",
        "        real_value[labels[idx] - 1] = 1\n",
        "\n",
        "        loss = criterion(outputs.cuda(), torch.Tensor(real_value).cuda()) \n",
        "        \n",
        "        loss.backward()\n",
        "\n",
        "        lossSum += loss.item()\n",
        "        train_loss_hist.append(lossSum)\n",
        "\n",
        "        optimizer.step()\n",
        "\n",
        "    # VALIDATION\n",
        "    for data in val_loader:\n",
        "      images = data['image']\n",
        "      labels = torch.from_numpy(np.array(name_to_int(data['class_name'])))\n",
        "\n",
        "      images.cuda()\n",
        "      labels.cuda()\n",
        "\n",
        "      num_images_val = len(images)\n",
        "\n",
        "      lossSum = 0\n",
        "      for idx in range(len(images)):\n",
        "        optimizer.zero_grad()\n",
        "\n",
        "        outputs = network(images[idx].cuda().flatten().float())\n",
        "\n",
        "        if(labels[idx] == get_max_from_tensor(outputs)):\n",
        "          correct += 1\n",
        "\n",
        "        maxIdx = get_max_from_tensor(outputs)\n",
        "        real_value = np.zeros(num_of_classes)\n",
        "        real_value[labels[idx] - 1] = 1\n",
        "        loss = criterion(outputs.cuda(), torch.Tensor(real_value).cuda()) \n",
        "\n",
        "        lossSum += loss.item()\n",
        "        val_loss_hist.append(lossSum)\n",
        "\n",
        "    print(\"Epoch: {} Training loss: {} Eval loss: {} Correct: {}%\".format(epoch,train_loss_hist[len(train_loss_hist) - 1],val_loss_hist[len(val_loss_hist) - 1],correct*100/num_images_train))\n",
        "\n",
        "    if(checkpoint == 0):\n",
        "      torch.save(network.state_dict(), '/content/results/model.pth')\n",
        "      torch.save(optimizer.state_dict(), '/content/results/optimizer.pth')\n",
        "\n",
        "      checkpoint = save_checkpoint\n",
        "    else:\n",
        "      checkpoint -= 1\n",
        "\n",
        "train(train_loader, val_loader, 10, 5)"
      ],
      "execution_count": 53,
      "outputs": [
        {
          "output_type": "stream",
          "text": [
            "Epoch: 0 Training loss: 26.759463170543313 Eval loss: 7.562610916793346 Correct: 13.675213675213675%\n",
            "Epoch: 1 Training loss: 24.141010895371437 Eval loss: 6.896617621183395 Correct: 20.512820512820515%\n",
            "Epoch: 2 Training loss: 21.758808713406324 Eval loss: 7.124455824494362 Correct: 9.401709401709402%\n",
            "Epoch: 3 Training loss: 18.46321166586131 Eval loss: 4.9888112507760525 Correct: 21.367521367521366%\n",
            "Epoch: 4 Training loss: 15.132412670180202 Eval loss: 4.743787434883416 Correct: 21.367521367521366%\n",
            "Epoch: 5 Training loss: 14.382680334849283 Eval loss: 3.677587201818824 Correct: 23.931623931623932%\n",
            "Epoch: 6 Training loss: 12.562257289479021 Eval loss: 4.277231915970333 Correct: 22.22222222222222%\n",
            "Epoch: 7 Training loss: 10.513414894783637 Eval loss: 2.5645518478995655 Correct: 24.786324786324787%\n",
            "Epoch: 8 Training loss: 8.287758937425679 Eval loss: 3.5416133161634207 Correct: 22.22222222222222%\n",
            "Epoch: 9 Training loss: 6.945993163215462 Eval loss: 2.4281842074124143 Correct: 28.205128205128204%\n"
          ],
          "name": "stdout"
        }
      ]
    },
    {
      "cell_type": "code",
      "metadata": {
        "id": "aDc8f2aEZ1-c",
        "colab_type": "code",
        "outputId": "3b4a0d02-14f0-49a3-abb7-5a7611787a52",
        "colab": {
          "base_uri": "https://localhost:8080/",
          "height": 431
        }
      },
      "source": [
        "for data in test_loader:\n",
        "  images = data['image']\n",
        "  labels = torch.from_numpy(np.array(name_to_int(data['class_name'])))\n",
        "\n",
        "  for i in range(len(images)):\n",
        "    output = network(images[i].cuda().flatten().float())\n",
        "    \n",
        "    if(get_max_from_tensor(output) == labels[i]):\n",
        "      print(\"OK: {} == {} Probability: {}\".format(get_max_from_tensor(output), labels[i], output[get_max_from_tensor(output) - 1]))\n",
        "    else:\n",
        "      print(\"False: {} == {} Probability: {}\".format(get_max_from_tensor(output), labels[i], output[get_max_from_tensor(output) - 1]))"
      ],
      "execution_count": 0,
      "outputs": [
        {
          "output_type": "stream",
          "text": [
            "OK: 3 == 3 Probability: 0.860595703125\n",
            "OK: 2 == 2 Probability: 1.0670024156570435\n",
            "OK: 3 == 3 Probability: 0.9735060334205627\n",
            "OK: 2 == 2 Probability: 0.646336555480957\n",
            "OK: 1 == 1 Probability: 0.8910107612609863\n",
            "OK: 3 == 3 Probability: 0.8794940114021301\n",
            "OK: 2 == 2 Probability: 0.9447812438011169\n",
            "OK: 3 == 3 Probability: 0.7588624954223633\n",
            "OK: 2 == 2 Probability: 1.0152208805084229\n",
            "OK: 3 == 3 Probability: 0.6961532831192017\n",
            "OK: 3 == 3 Probability: 0.928891122341156\n",
            "OK: 1 == 1 Probability: 0.8031685948371887\n",
            "OK: 2 == 2 Probability: 0.9491794109344482\n",
            "OK: 3 == 3 Probability: 0.8562600612640381\n",
            "OK: 1 == 1 Probability: 1.102687120437622\n",
            "OK: 2 == 2 Probability: 1.0187582969665527\n",
            "OK: 2 == 2 Probability: 0.7778895497322083\n",
            "OK: 1 == 1 Probability: 0.988864541053772\n",
            "OK: 2 == 2 Probability: 1.0590862035751343\n",
            "OK: 1 == 1 Probability: 0.728187084197998\n",
            "OK: 1 == 1 Probability: 0.8701620101928711\n",
            "OK: 1 == 1 Probability: 0.8838222026824951\n",
            "OK: 2 == 2 Probability: 0.9105136394500732\n"
          ],
          "name": "stdout"
        }
      ]
    },
    {
      "cell_type": "code",
      "metadata": {
        "id": "BA6XaNQwoBYQ",
        "colab_type": "code",
        "colab": {}
      },
      "source": [
        "for opt in optimizer.param_groups:\n",
        "  opt['lr'] = 0.01"
      ],
      "execution_count": 0,
      "outputs": []
    },
    {
      "cell_type": "code",
      "metadata": {
        "id": "wKrJxDhb8aci",
        "colab_type": "code",
        "colab": {}
      },
      "source": [
        "!cp '/content/results/model.pth' '/content/Lithuanian_OCR/Trained_model/model.pth'\n",
        "!cp '/content/results/optimizer.pth' '/content/Lithuanian_OCR/Trained_model/optimizer.pth'"
      ],
      "execution_count": 0,
      "outputs": []
    }
  ]
}