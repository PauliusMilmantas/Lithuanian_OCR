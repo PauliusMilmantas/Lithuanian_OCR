{
  "nbformat": 4,
  "nbformat_minor": 0,
  "metadata": {
    "colab": {
      "name": "Detection.ipynb",
      "provenance": [],
      "collapsed_sections": []
    },
    "kernelspec": {
      "name": "python3",
      "display_name": "Python 3"
    }
  },
  "cells": [
    {
      "cell_type": "code",
      "metadata": {
        "id": "omhRyfYbQ-gy",
        "colab_type": "code",
        "colab": {}
      },
      "source": [
        "from __future__ import print_function, division\n",
        "import os\n",
        "import torch\n",
        "from skimage import io, transform\n",
        "import numpy as np\n",
        "import matplotlib.pyplot as plt\n",
        "from torch.utils.data import Dataset, DataLoader\n",
        "from torchvision import transforms, utils\n",
        "from skimage import io\n",
        "from skimage.transform import resize, rescale, rotate, setup, warp\n",
        "import torch.nn as nn\n",
        "import torch.nn.functional as F\n",
        "import matplotlib.patches as patches\n",
        "\n",
        "from skimage.color import rgb2gray\n",
        "\n",
        "import PIL\n",
        "from PIL import Image\n",
        "\n",
        "from google.colab import output"
      ],
      "execution_count": 0,
      "outputs": []
    },
    {
      "cell_type": "code",
      "metadata": {
        "id": "sBJecdwwRC87",
        "colab_type": "code",
        "colab": {
          "base_uri": "https://localhost:8080/",
          "height": 161
        },
        "outputId": "96eafd46-23e6-4404-d393-d018f9505e2f"
      },
      "source": [
        "%cd /content/\n",
        "if(os.path.isdir('/content/Lithuanian_OCR') == False):\n",
        "  !git clone https://github.com/PauliusMilmantas/Lithuanian_OCR"
      ],
      "execution_count": 2,
      "outputs": [
        {
          "output_type": "stream",
          "text": [
            "/content\n",
            "Cloning into 'Lithuanian_OCR'...\n",
            "remote: Enumerating objects: 9, done.\u001b[K\n",
            "remote: Counting objects: 100% (9/9), done.\u001b[K\n",
            "remote: Compressing objects: 100% (8/8), done.\u001b[K\n",
            "remote: Total 3540 (delta 0), reused 8 (delta 0), pack-reused 3531\u001b[K\n",
            "Receiving objects: 100% (3540/3540), 109.28 MiB | 12.56 MiB/s, done.\n",
            "Resolving deltas: 100% (577/577), done.\n"
          ],
          "name": "stdout"
        }
      ]
    },
    {
      "cell_type": "code",
      "metadata": {
        "id": "Me1oo7cZSWs_",
        "colab_type": "code",
        "colab": {}
      },
      "source": [
        "class Net(nn.Module):\n",
        "    def __init__(self, input_size, hidden1_size, hidden2_size, hidden3_size, hidden4_size, hidden5_size, num_classes):\n",
        "        super(Net, self).__init__()\n",
        "        self.fc1 = nn.Linear(input_size, hidden1_size)\n",
        "        self.relu1 = nn.ReLU()\n",
        "        self.fc2 = nn.Linear(hidden1_size, hidden2_size)\n",
        "        self.relu2 = nn.ReLU()\n",
        "        self.fc3 = nn.Linear(hidden2_size, hidden3_size)\n",
        "        self.relu3 = nn.ReLU()      \n",
        "        self.fc4 = nn.Linear(hidden3_size, hidden4_size)\n",
        "        self.relu4 = nn.ReLU()\n",
        "        self.fc5 = nn.Linear(hidden4_size, hidden5_size)\n",
        "        self.relu5 = nn.ReLU()\n",
        "        self.fc6 = nn.Linear(hidden5_size, num_classes)  \n",
        "    \n",
        "    def forward(self, x):\n",
        "        out = self.fc1(x)\n",
        "        out = self.relu1(out)\n",
        "        out = self.fc2(out)        \n",
        "        out = self.relu2(out)\n",
        "        out = self.fc3(out)        \n",
        "        out = self.relu3(out)\n",
        "        out = self.fc4(out)        \n",
        "        out = self.relu4(out)\n",
        "        out = self.fc5(out)        \n",
        "        out = self.relu5(out)\n",
        "        out = self.fc6(out)\n",
        "        return out"
      ],
      "execution_count": 0,
      "outputs": []
    },
    {
      "cell_type": "code",
      "metadata": {
        "id": "U43KMOLURfd7",
        "colab_type": "code",
        "colab": {}
      },
      "source": [
        "network = Net(4096, 2500, 1500, 500, 100, 50, 3)\n",
        "network.load_state_dict(torch.load('/content/Lithuanian_OCR/Trained_model/model.pth'))\n",
        "network.eval()\n",
        "\n",
        "optimizer = torch.optim.SGD(network.parameters(), lr=0.01, momentum=0.6)\n",
        "optimizer.load_state_dict(torch.load('/content/Lithuanian_OCR/Trained_model/optimizer.pth'))\n",
        "\n",
        "criterion = nn.MSELoss()"
      ],
      "execution_count": 0,
      "outputs": []
    },
    {
      "cell_type": "code",
      "metadata": {
        "id": "_XFLafA_c94Z",
        "colab_type": "code",
        "colab": {}
      },
      "source": [
        "def proccess_image(path):\n",
        "  image = io.imread(path)\n",
        "  image = rgb2gray(image)\n",
        "  image = resize(image, (64, 64))\n",
        "  \n",
        "  return torch.tensor(image)"
      ],
      "execution_count": 0,
      "outputs": []
    },
    {
      "cell_type": "code",
      "metadata": {
        "id": "2oirYKKSfiJu",
        "colab_type": "code",
        "colab": {}
      },
      "source": [
        "def get_max_from_tensor(data):\n",
        "  maxVal = data[0]\n",
        "  maxId = 0\n",
        "  for i in range(len(data)):\n",
        "    if(data[i] > maxVal):\n",
        "      maxVal = data[i]\n",
        "      maxId = i\n",
        "\n",
        "  return maxId + 1"
      ],
      "execution_count": 0,
      "outputs": []
    },
    {
      "cell_type": "code",
      "metadata": {
        "id": "C13TaEN1hH4F",
        "colab_type": "code",
        "colab": {}
      },
      "source": [
        "def get_result(data):\n",
        "  idx = get_max_from_tensor(data) - 1\n",
        "\n",
        "  if(data[idx] > 0 and data[idx] < 1):\n",
        "    return idx + 1\n",
        "  # No object found\n",
        "  elif(data[idx] <= 0):\n",
        "    return 0\n",
        "  # Best guess is that there is no object\n",
        "  else:\n",
        "    return 0"
      ],
      "execution_count": 0,
      "outputs": []
    },
    {
      "cell_type": "code",
      "metadata": {
        "id": "ijWGpoN4sHc5",
        "colab_type": "code",
        "colab": {}
      },
      "source": [
        "def find_in_array(arr, element):\n",
        "  idx = 0\n",
        "  found = []\n",
        "\n",
        "  for el in arr:\n",
        "    if(el == element):\n",
        "      found.append(idx)\n",
        "    idx += 1\n",
        "\n",
        "  return found"
      ],
      "execution_count": 0,
      "outputs": []
    },
    {
      "cell_type": "code",
      "metadata": {
        "id": "oxE_OQ3kuRVy",
        "colab_type": "code",
        "colab": {}
      },
      "source": [
        "def find_probability(output, idx):\n",
        "  output = output.detach().numpy()\n",
        "  probability = output[idx][0]\n",
        "  for i in range(len(output)):\n",
        "    if i != idx[0]:\n",
        "      probability -= output[i]\n",
        "  return probability"
      ],
      "execution_count": 0,
      "outputs": []
    },
    {
      "cell_type": "code",
      "metadata": {
        "id": "anPjbMiiz3qn",
        "colab_type": "code",
        "colab": {}
      },
      "source": [
        "def prepare_image_for_network(image):\n",
        "  image = resize(image, (64, 64))\n",
        "\n",
        "  return image"
      ],
      "execution_count": 0,
      "outputs": []
    },
    {
      "cell_type": "code",
      "metadata": {
        "id": "n--nLNpAgRf5",
        "colab_type": "code",
        "colab": {
          "base_uri": "https://localhost:8080/",
          "height": 287
        },
        "outputId": "ca2bba5d-5853-4b76-862f-088923379be7"
      },
      "source": [
        "image = io.imread('/content/Lithuanian_OCR/Examples/example.jpg')\n",
        "\n",
        "image = rotate(image, 90)\n",
        "image = rgb2gray(image)\n",
        "plt.imshow(image)"
      ],
      "execution_count": 11,
      "outputs": [
        {
          "output_type": "execute_result",
          "data": {
            "text/plain": [
              "<matplotlib.image.AxesImage at 0x7f8d2617a240>"
            ]
          },
          "metadata": {
            "tags": []
          },
          "execution_count": 11
        },
        {
          "output_type": "display_data",
          "data": {
            "image/png": "[encoded data removed]",
            "text/plain": [
              "<Figure size 432x288 with 1 Axes>"
            ]
          },
          "metadata": {
            "tags": [],
            "needs_background": "light"
          }
        }
      ]
    },
    {
      "cell_type": "code",
      "metadata": {
        "id": "LK1Wa4gPjdjh",
        "colab_type": "code",
        "colab": {
          "base_uri": "https://localhost:8080/",
          "height": 283
        },
        "outputId": "93783607-8e02-4dd4-cbd3-fff91851b96a"
      },
      "source": [
        "registered_x = []\n",
        "registered_y = []\n",
        "\n",
        "for y in range(image.shape[0]):\n",
        "  last_val = image[y][0]\n",
        "  for x in range(image.shape[1]):\n",
        "    if(abs(last_val - image[y][x]) >= 0.1):\n",
        "      registered_x.append(x)\n",
        "      registered_y.append(y)\n",
        "    last_val = image[y][x]\n",
        "\n",
        "plt.plot(registered_x, registered_y, marker='o', markersize=0.0001)\n",
        "print(len(registered_x))"
      ],
      "execution_count": 12,
      "outputs": [
        {
          "output_type": "execute_result",
          "data": {
            "text/plain": [
              "[<matplotlib.lines.Line2D at 0x7f8d25c56240>]"
            ]
          },
          "metadata": {
            "tags": []
          },
          "execution_count": 12
        },
        {
          "output_type": "display_data",
          "data": {
            "image/png": "[encoded data removed]",
            "text/plain": [
              "<Figure size 432x288 with 1 Axes>"
            ]
          },
          "metadata": {
            "tags": [],
            "needs_background": "light"
          }
        }
      ]
    },
    {
      "cell_type": "code",
      "metadata": {
        "id": "awHF7YI32b4u",
        "colab_type": "code",
        "colab": {}
      },
      "source": [
        "class Letter():\n",
        "  def __init__(self, element, start_x, end_x, start_y, end_y, prob):\n",
        "    self.element = element\n",
        "    self.start_x = start_x\n",
        "    self.end_x = end_x\n",
        "    self.start_y = start_y\n",
        "    self.end_y = end_y\n",
        "    self.prob = prob"
      ],
      "execution_count": 0,
      "outputs": []
    },
    {
      "cell_type": "code",
      "metadata": {
        "id": "_dCtwBwCn6-A",
        "colab_type": "code",
        "colab": {
          "base_uri": "https://localhost:8080/",
          "height": 1000
        },
        "outputId": "ff626577-a79e-4b89-9161-53ed71787f4a"
      },
      "source": [
        "step = 50\n",
        "prob_reshold = 0.7\n",
        "\n",
        "letters = []\n",
        "\n",
        "for y in registered_y:\n",
        "  for x in registered_x:\n",
        "    found = False\n",
        "    found_nx_end = 0\n",
        "    found_y_end = 0\n",
        "    found_prob = 0\n",
        "    found_element = 0\n",
        "\n",
        "    steps_x = (image.shape[1] - x)//step\n",
        "    steps_y = (image.shape[0] - y)//step\n",
        "\n",
        "    num_steps = steps_x\n",
        "    if(steps_y < num_steps):\n",
        "      num_steps = steps_y\n",
        "\n",
        "    for i in range(num_steps):\n",
        "      if(i != 0):\n",
        "        cropped = image[x:x+i*step, y:y+i*step]\n",
        "        output = network(torch.tensor(prepare_image_for_network(cropped)).flatten().float())\n",
        "\n",
        "        res = get_result(output)\n",
        "        if(res != 0):\n",
        "          prob = find_probability(output, [res - 1])\n",
        "          \n",
        "          if(prob >= prob_reshold and prob > found_prob):\n",
        "            found_x_end = x+i*step\n",
        "            found_y_end = y+i*step\n",
        "            found_element = res\n",
        "            found_prob = prob\n",
        "            found = True\n",
        "    if(found == True):\n",
        "      letters.append(Letter(found_element, x, found_x_end, y, found_y_end, found_prob))\n",
        "      print(\"Found letter: {} with probability: {}\".format(found_element, found_prob))"
      ],
      "execution_count": 20,
      "outputs": [
        {
          "output_type": "stream",
          "text": [
            "Found letter: 1 with probability: 0.9910116195678711\n",
            "Found letter: 1 with probability: 0.9912108778953552\n",
            "Found letter: 1 with probability: 0.9912108778953552\n",
            "Found letter: 1 with probability: 0.9913833737373352\n",
            "Found letter: 1 with probability: 0.7149312496185303\n",
            "Found letter: 1 with probability: 0.7610897421836853\n",
            "Found letter: 1 with probability: 0.7610897421836853\n",
            "Found letter: 1 with probability: 0.7467532157897949\n",
            "Found letter: 1 with probability: 0.9122279286384583\n",
            "Found letter: 1 with probability: 0.7526193857192993\n",
            "Found letter: 1 with probability: 0.7563894987106323\n",
            "Found letter: 1 with probability: 0.9894207715988159\n",
            "Found letter: 1 with probability: 0.9894207715988159\n",
            "Found letter: 1 with probability: 0.7498722076416016\n",
            "Found letter: 1 with probability: 0.7432652711868286\n",
            "Found letter: 1 with probability: 0.7531716227531433\n",
            "Found letter: 1 with probability: 0.7305101156234741\n",
            "Found letter: 1 with probability: 0.7577019929885864\n",
            "Found letter: 1 with probability: 0.7563894987106323\n",
            "Found letter: 1 with probability: 0.7571843862533569\n",
            "Found letter: 1 with probability: 0.7563894987106323\n",
            "Found letter: 1 with probability: 0.7563894987106323\n",
            "Found letter: 1 with probability: 0.7238709330558777\n",
            "Found letter: 1 with probability: 0.7238709330558777\n",
            "Found letter: 1 with probability: 0.7238709330558777\n",
            "Found letter: 1 with probability: 0.7549563646316528\n",
            "Found letter: 1 with probability: 0.7549563646316528\n",
            "Found letter: 1 with probability: 0.7252331972122192\n",
            "Found letter: 1 with probability: 0.7348549365997314\n",
            "Found letter: 1 with probability: 0.7405128479003906\n",
            "Found letter: 1 with probability: 0.7381311655044556\n",
            "Found letter: 1 with probability: 0.7381311655044556\n",
            "Found letter: 1 with probability: 0.7432652711868286\n",
            "Found letter: 1 with probability: 0.7381311655044556\n",
            "Found letter: 1 with probability: 0.7334843873977661\n",
            "Found letter: 1 with probability: 0.7381311655044556\n",
            "Found letter: 1 with probability: 0.7334843873977661\n",
            "Found letter: 1 with probability: 0.7405128479003906\n",
            "Found letter: 1 with probability: 0.7405128479003906\n",
            "Found letter: 1 with probability: 0.7381311655044556\n",
            "Found letter: 1 with probability: 0.7381311655044556\n",
            "Found letter: 1 with probability: 0.7381311655044556\n"
          ],
          "name": "stdout"
        },
        {
          "output_type": "error",
          "ename": "KeyboardInterrupt",
          "evalue": "ignored",
          "traceback": [
            "\u001b[0;31m---------------------------------------------------------------------------\u001b[0m",
            "\u001b[0;31mKeyboardInterrupt\u001b[0m                         Traceback (most recent call last)",
            "\u001b[0;32m<ipython-input-20-48f912e0616f>\u001b[0m in \u001b[0;36m<module>\u001b[0;34m()\u001b[0m\n\u001b[1;32m     22\u001b[0m       \u001b[0;32mif\u001b[0m\u001b[0;34m(\u001b[0m\u001b[0mi\u001b[0m \u001b[0;34m!=\u001b[0m \u001b[0;36m0\u001b[0m\u001b[0;34m)\u001b[0m\u001b[0;34m:\u001b[0m\u001b[0;34m\u001b[0m\u001b[0;34m\u001b[0m\u001b[0m\n\u001b[1;32m     23\u001b[0m         \u001b[0mcropped\u001b[0m \u001b[0;34m=\u001b[0m \u001b[0mimage\u001b[0m\u001b[0;34m[\u001b[0m\u001b[0mx\u001b[0m\u001b[0;34m:\u001b[0m\u001b[0mx\u001b[0m\u001b[0;34m+\u001b[0m\u001b[0mi\u001b[0m\u001b[0;34m*\u001b[0m\u001b[0mstep\u001b[0m\u001b[0;34m,\u001b[0m \u001b[0my\u001b[0m\u001b[0;34m:\u001b[0m\u001b[0my\u001b[0m\u001b[0;34m+\u001b[0m\u001b[0mi\u001b[0m\u001b[0;34m*\u001b[0m\u001b[0mstep\u001b[0m\u001b[0;34m]\u001b[0m\u001b[0;34m\u001b[0m\u001b[0;34m\u001b[0m\u001b[0m\n\u001b[0;32m---> 24\u001b[0;31m         \u001b[0moutput\u001b[0m \u001b[0;34m=\u001b[0m \u001b[0mnetwork\u001b[0m\u001b[0;34m(\u001b[0m\u001b[0mtorch\u001b[0m\u001b[0;34m.\u001b[0m\u001b[0mtensor\u001b[0m\u001b[0;34m(\u001b[0m\u001b[0mprepare_image_for_network\u001b[0m\u001b[0;34m(\u001b[0m\u001b[0mcropped\u001b[0m\u001b[0;34m)\u001b[0m\u001b[0;34m)\u001b[0m\u001b[0;34m.\u001b[0m\u001b[0mflatten\u001b[0m\u001b[0;34m(\u001b[0m\u001b[0;34m)\u001b[0m\u001b[0;34m.\u001b[0m\u001b[0mfloat\u001b[0m\u001b[0;34m(\u001b[0m\u001b[0;34m)\u001b[0m\u001b[0;34m)\u001b[0m\u001b[0;34m\u001b[0m\u001b[0;34m\u001b[0m\u001b[0m\n\u001b[0m\u001b[1;32m     25\u001b[0m \u001b[0;34m\u001b[0m\u001b[0m\n\u001b[1;32m     26\u001b[0m         \u001b[0mres\u001b[0m \u001b[0;34m=\u001b[0m \u001b[0mget_result\u001b[0m\u001b[0;34m(\u001b[0m\u001b[0moutput\u001b[0m\u001b[0;34m)\u001b[0m\u001b[0;34m\u001b[0m\u001b[0;34m\u001b[0m\u001b[0m\n",
            "\u001b[0;32m<ipython-input-10-9f684133568e>\u001b[0m in \u001b[0;36mprepare_image_for_network\u001b[0;34m(image)\u001b[0m\n\u001b[1;32m      1\u001b[0m \u001b[0;32mdef\u001b[0m \u001b[0mprepare_image_for_network\u001b[0m\u001b[0;34m(\u001b[0m\u001b[0mimage\u001b[0m\u001b[0;34m)\u001b[0m\u001b[0;34m:\u001b[0m\u001b[0;34m\u001b[0m\u001b[0;34m\u001b[0m\u001b[0m\n\u001b[0;32m----> 2\u001b[0;31m   \u001b[0mimage\u001b[0m \u001b[0;34m=\u001b[0m \u001b[0mresize\u001b[0m\u001b[0;34m(\u001b[0m\u001b[0mimage\u001b[0m\u001b[0;34m,\u001b[0m \u001b[0;34m(\u001b[0m\u001b[0;36m64\u001b[0m\u001b[0;34m,\u001b[0m \u001b[0;36m64\u001b[0m\u001b[0;34m)\u001b[0m\u001b[0;34m)\u001b[0m\u001b[0;34m\u001b[0m\u001b[0;34m\u001b[0m\u001b[0m\n\u001b[0m\u001b[1;32m      3\u001b[0m \u001b[0;34m\u001b[0m\u001b[0m\n\u001b[1;32m      4\u001b[0m   \u001b[0;32mreturn\u001b[0m \u001b[0mimage\u001b[0m\u001b[0;34m\u001b[0m\u001b[0;34m\u001b[0m\u001b[0m\n",
            "\u001b[0;32m/usr/local/lib/python3.6/dist-packages/skimage/transform/_warps.py\u001b[0m in \u001b[0;36mresize\u001b[0;34m(image, output_shape, order, mode, cval, clip, preserve_range, anti_aliasing, anti_aliasing_sigma)\u001b[0m\n\u001b[1;32m    134\u001b[0m \u001b[0;34m\u001b[0m\u001b[0m\n\u001b[1;32m    135\u001b[0m         image = ndi.gaussian_filter(image, anti_aliasing_sigma,\n\u001b[0;32m--> 136\u001b[0;31m                                     cval=cval, mode=ndi_mode)\n\u001b[0m\u001b[1;32m    137\u001b[0m \u001b[0;34m\u001b[0m\u001b[0m\n\u001b[1;32m    138\u001b[0m     \u001b[0;31m# 2-dimensional interpolation\u001b[0m\u001b[0;34m\u001b[0m\u001b[0;34m\u001b[0m\u001b[0;34m\u001b[0m\u001b[0m\n",
            "\u001b[0;32m/usr/local/lib/python3.6/dist-packages/scipy/ndimage/filters.py\u001b[0m in \u001b[0;36mgaussian_filter\u001b[0;34m(input, sigma, order, output, mode, cval, truncate)\u001b[0m\n\u001b[1;32m    287\u001b[0m     \"\"\"\n\u001b[1;32m    288\u001b[0m     \u001b[0minput\u001b[0m \u001b[0;34m=\u001b[0m \u001b[0mnumpy\u001b[0m\u001b[0;34m.\u001b[0m\u001b[0masarray\u001b[0m\u001b[0;34m(\u001b[0m\u001b[0minput\u001b[0m\u001b[0;34m)\u001b[0m\u001b[0;34m\u001b[0m\u001b[0;34m\u001b[0m\u001b[0m\n\u001b[0;32m--> 289\u001b[0;31m     \u001b[0moutput\u001b[0m \u001b[0;34m=\u001b[0m \u001b[0m_ni_support\u001b[0m\u001b[0;34m.\u001b[0m\u001b[0m_get_output\u001b[0m\u001b[0;34m(\u001b[0m\u001b[0moutput\u001b[0m\u001b[0;34m,\u001b[0m \u001b[0minput\u001b[0m\u001b[0;34m)\u001b[0m\u001b[0;34m\u001b[0m\u001b[0;34m\u001b[0m\u001b[0m\n\u001b[0m\u001b[1;32m    290\u001b[0m     \u001b[0morders\u001b[0m \u001b[0;34m=\u001b[0m \u001b[0m_ni_support\u001b[0m\u001b[0;34m.\u001b[0m\u001b[0m_normalize_sequence\u001b[0m\u001b[0;34m(\u001b[0m\u001b[0morder\u001b[0m\u001b[0;34m,\u001b[0m \u001b[0minput\u001b[0m\u001b[0;34m.\u001b[0m\u001b[0mndim\u001b[0m\u001b[0;34m)\u001b[0m\u001b[0;34m\u001b[0m\u001b[0;34m\u001b[0m\u001b[0m\n\u001b[1;32m    291\u001b[0m     \u001b[0msigmas\u001b[0m \u001b[0;34m=\u001b[0m \u001b[0m_ni_support\u001b[0m\u001b[0;34m.\u001b[0m\u001b[0m_normalize_sequence\u001b[0m\u001b[0;34m(\u001b[0m\u001b[0msigma\u001b[0m\u001b[0;34m,\u001b[0m \u001b[0minput\u001b[0m\u001b[0;34m.\u001b[0m\u001b[0mndim\u001b[0m\u001b[0;34m)\u001b[0m\u001b[0;34m\u001b[0m\u001b[0;34m\u001b[0m\u001b[0m\n",
            "\u001b[0;32m/usr/local/lib/python3.6/dist-packages/scipy/ndimage/_ni_support.py\u001b[0m in \u001b[0;36m_get_output\u001b[0;34m(output, input, shape)\u001b[0m\n\u001b[1;32m     73\u001b[0m         \u001b[0mshape\u001b[0m \u001b[0;34m=\u001b[0m \u001b[0minput\u001b[0m\u001b[0;34m.\u001b[0m\u001b[0mshape\u001b[0m\u001b[0;34m\u001b[0m\u001b[0;34m\u001b[0m\u001b[0m\n\u001b[1;32m     74\u001b[0m     \u001b[0;32mif\u001b[0m \u001b[0moutput\u001b[0m \u001b[0;32mis\u001b[0m \u001b[0;32mNone\u001b[0m\u001b[0;34m:\u001b[0m\u001b[0;34m\u001b[0m\u001b[0;34m\u001b[0m\u001b[0m\n\u001b[0;32m---> 75\u001b[0;31m         \u001b[0moutput\u001b[0m \u001b[0;34m=\u001b[0m \u001b[0mnumpy\u001b[0m\u001b[0;34m.\u001b[0m\u001b[0mzeros\u001b[0m\u001b[0;34m(\u001b[0m\u001b[0mshape\u001b[0m\u001b[0;34m,\u001b[0m \u001b[0mdtype\u001b[0m\u001b[0;34m=\u001b[0m\u001b[0minput\u001b[0m\u001b[0;34m.\u001b[0m\u001b[0mdtype\u001b[0m\u001b[0;34m.\u001b[0m\u001b[0mname\u001b[0m\u001b[0;34m)\u001b[0m\u001b[0;34m\u001b[0m\u001b[0;34m\u001b[0m\u001b[0m\n\u001b[0m\u001b[1;32m     76\u001b[0m     \u001b[0;32melif\u001b[0m \u001b[0misinstance\u001b[0m\u001b[0;34m(\u001b[0m\u001b[0moutput\u001b[0m\u001b[0;34m,\u001b[0m \u001b[0;34m(\u001b[0m\u001b[0mtype\u001b[0m\u001b[0;34m,\u001b[0m \u001b[0mnumpy\u001b[0m\u001b[0;34m.\u001b[0m\u001b[0mdtype\u001b[0m\u001b[0;34m)\u001b[0m\u001b[0;34m)\u001b[0m\u001b[0;34m:\u001b[0m\u001b[0;34m\u001b[0m\u001b[0;34m\u001b[0m\u001b[0m\n\u001b[1;32m     77\u001b[0m         \u001b[0;31m# Classes (like `np.float32`) and dtypes are interpreted as dtype\u001b[0m\u001b[0;34m\u001b[0m\u001b[0;34m\u001b[0m\u001b[0;34m\u001b[0m\u001b[0m\n",
            "\u001b[0;31mKeyboardInterrupt\u001b[0m: "
          ]
        }
      ]
    },
    {
      "cell_type": "code",
      "metadata": {
        "id": "Pxv_kLVf3E1t",
        "colab_type": "code",
        "colab": {}
      },
      "source": [
        "print(len(letters))"
      ],
      "execution_count": 0,
      "outputs": []
    }
  ]
}