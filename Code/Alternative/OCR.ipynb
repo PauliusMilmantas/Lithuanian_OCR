{
  "nbformat": 4,
  "nbformat_minor": 0,
  "metadata": {
    "colab": {
      "name": "OCR.ipynb",
      "provenance": [],
      "collapsed_sections": [],
      "machine_shape": "hm"
    },
    "kernelspec": {
      "name": "python3",
      "display_name": "Python 3"
    },
    "accelerator": "GPU"
  },
  "cells": [
    {
      "cell_type": "code",
      "metadata": {
        "id": "tqV3oHrg8mY-",
        "colab_type": "code",
        "colab": {}
      },
      "source": [
        "from __future__ import print_function, division\n",
        "import os\n",
        "import torch\n",
        "from torch.optim.optimizer import Optimizer\n",
        "from skimage import io, transform\n",
        "import numpy as np\n",
        "import matplotlib.pyplot as plt\n",
        "from torch.utils.data import Dataset, DataLoader\n",
        "from torchvision import transforms, utils\n",
        "from skimage import io\n",
        "import torch.nn as nn\n",
        "import torch.nn.functional as F\n",
        "\n",
        "from skimage.color import rgb2gray\n",
        "\n",
        "from torch.utils.tensorboard import SummaryWriter\n",
        "\n",
        "import PIL\n",
        "from PIL import Image\n",
        "\n",
        "from google.colab import output"
      ],
      "execution_count": 0,
      "outputs": []
    },
    {
      "cell_type": "code",
      "metadata": {
        "id": "qZPVvFlrIHMt",
        "colab_type": "code",
        "outputId": "503695bf-0578-46c6-c291-985787b9d6bb",
        "colab": {
          "base_uri": "https://localhost:8080/",
          "height": 153
        }
      },
      "source": [
        "%cd /content/\n",
        "if(os.path.isdir('/content/Lithuanian_OCR') == False):\n",
        "  !git clone https://github.com/PauliusMilmantas/Lithuanian_OCR\n",
        "\n",
        "num_of_classes = 3"
      ],
      "execution_count": 2,
      "outputs": [
        {
          "output_type": "stream",
          "text": [
            "/content\n",
            "Cloning into 'Lithuanian_OCR'...\n",
            "remote: Enumerating objects: 126, done.\u001b[K\n",
            "remote: Counting objects: 100% (126/126), done.\u001b[K\n",
            "remote: Compressing objects: 100% (90/90), done.\u001b[K\n",
            "remote: Total 4111 (delta 34), reused 120 (delta 29), pack-reused 3985\u001b[K\n",
            "Receiving objects: 100% (4111/4111), 283.09 MiB | 13.37 MiB/s, done.\n",
            "Resolving deltas: 100% (652/652), done.\n"
          ],
          "name": "stdout"
        }
      ]
    },
    {
      "cell_type": "code",
      "metadata": {
        "id": "4dizldPQRNUj",
        "colab_type": "code",
        "colab": {}
      },
      "source": [
        "class ORCDataset(Dataset):\n",
        "  def __init__(self, root):\n",
        "    self.root = root\n",
        "\n",
        "  def __len__(self):\n",
        "    lt = 0\n",
        "    classes = os.listdir(self.root)\n",
        "    for cl in classes:\n",
        "      lt += len(os.listdir(self.root + '/' + cl))\n",
        "\n",
        "    return lt\n",
        "\n",
        "  def __getitem__(self, idx):\n",
        "    if torch.is_tensor(idx):\n",
        "     idx = idx.tolist()\n",
        "\n",
        "    if(idx <= len(self)):\n",
        "      found_file = \"\"\n",
        "      found_type = \"\"\n",
        "\n",
        "      fldrs = os.listdir(self.root)\n",
        "      for fld in fldrs:\n",
        "        fls = os.listdir(self.root + '/' + fld + '/')\n",
        "        for fl in fls:\n",
        "          if(fl == str(idx) + \".jpg\"):\n",
        "            found_file = self.root + '/' + fld + '/' + fl         \n",
        "            found_type = fld\n",
        "\n",
        "      try:\n",
        "        img = io.imread(found_file)\n",
        "        img = rgb2gray(img)\n",
        "\n",
        "        return {'image': img, 'class_name': found_type}\n",
        "      except:\n",
        "        if(found_file != \"\"):\n",
        "          print(\"Bad file: \" + found_file)\n",
        "        else:\n",
        "          print(\"File not found, idx = \" + str(idx))\n",
        "    else:\n",
        "      print()\n",
        "      raise Exception(\"Dataset index out of boundaries\")\n",
        "\n",
        "train_dataset = ORCDataset('/content/Lithuanian_OCR/Data/batch-2/training')\n",
        "val_dataset = ORCDataset('/content/Lithuanian_OCR/Data/batch-2/val')\n",
        "test_dataset = ORCDataset('/content/Lithuanian_OCR/Data/batch-2/test')\n",
        "\n",
        "other_train_dataset = ORCDataset('/content/Lithuanian_OCR/Data/batch-1/training')\n",
        "other_val_dataset = ORCDataset('/content/Lithuanian_OCR/Data/batch-1/val')\n",
        "other_test_dataset = ORCDataset('/content/Lithuanian_OCR/Data/batch-1/test')"
      ],
      "execution_count": 0,
      "outputs": []
    },
    {
      "cell_type": "code",
      "metadata": {
        "id": "KR2HO96n8pXN",
        "colab_type": "code",
        "colab": {}
      },
      "source": [
        "class Net(nn.Module):\n",
        "    def __init__(self, input_size, hidden1_size, hidden2_size, num_classes):\n",
        "        super(Net, self).__init__()\n",
        "        self.fc1 = nn.Linear(input_size, hidden1_size)\n",
        "        self.relu1 = nn.ReLU()\n",
        "        self.fc2 = nn.Linear(hidden1_size, hidden2_size)\n",
        "        self.relu2 = nn.ReLU()\n",
        "        self.fc3 = nn.Linear(hidden2_size, num_classes)  \n",
        "    \n",
        "    def forward(self, x):\n",
        "        out = self.fc1(x)\n",
        "        out = self.relu1(out)\n",
        "        out = self.fc2(out)        \n",
        "        out = self.relu2(out)     \n",
        "        out = self.fc3(out)\n",
        "        return out"
      ],
      "execution_count": 0,
      "outputs": []
    },
    {
      "cell_type": "code",
      "metadata": {
        "id": "HrA0syykfUCm",
        "colab_type": "code",
        "colab": {}
      },
      "source": [
        "class custom_sgd_optimizer(Optimizer):\n",
        "    def __init__(self, params, lr, momentum=0, dampening=0,\n",
        "                 weight_decay=0, nesterov=False):\n",
        "\n",
        "        defaults = dict(lr=lr, momentum=momentum, dampening=dampening,\n",
        "                        weight_decay=weight_decay, nesterov=nesterov)\n",
        "        if nesterov and (momentum <= 0 or dampening != 0):\n",
        "            raise ValueError(\"Nesterov momentum requires a momentum and zero dampening\")\n",
        "        super(custom_sgd_optimizer, self).__init__(params, defaults)\n",
        "\n",
        "    def __setstate__(self, state):\n",
        "        super(custom_sgd_optimizer, self).__setstate__(state)\n",
        "        for group in self.param_groups:\n",
        "            group.setdefault('nesterov', False)\n",
        "\n",
        "    @torch.no_grad()\n",
        "    def step(self, closure=None):\n",
        "        \"\"\"Performs a single optimization step.\n",
        "        Arguments:\n",
        "            closure (callable, optional): A closure that reevaluates the model\n",
        "                and returns the loss.\n",
        "        \"\"\"\n",
        "        loss = None\n",
        "        if closure is not None:\n",
        "            with torch.enable_grad():\n",
        "                loss = closure()\n",
        "\n",
        "        for group in self.param_groups:\n",
        "            weight_decay = group['weight_decay']\n",
        "            momentum = group['momentum']\n",
        "            dampening = group['dampening']\n",
        "            nesterov = group['nesterov']\n",
        "\n",
        "            for p in group['params']:\n",
        "                if p.grad is None:\n",
        "                    continue\n",
        "                d_p = p.grad\n",
        "                if weight_decay != 0:\n",
        "                    d_p = d_p.add(p, alpha=weight_decay)\n",
        "                if momentum != 0:\n",
        "                    param_state = self.state[p]\n",
        "                    if 'momentum_buffer' not in param_state:\n",
        "                        buf = param_state['momentum_buffer'] = torch.clone(d_p).detach()\n",
        "                    else:\n",
        "                        buf = param_state['momentum_buffer']\n",
        "                        buf.mul_(momentum).add_(d_p, alpha=1 - dampening)\n",
        "                    if nesterov:\n",
        "                        d_p = d_p.add(buf, alpha=momentum)\n",
        "                    else:\n",
        "                        d_p = buf\n",
        "\n",
        "                p.add_(d_p, alpha=-group['lr'])\n",
        "\n",
        "        return loss"
      ],
      "execution_count": 0,
      "outputs": []
    },
    {
      "cell_type": "code",
      "metadata": {
        "id": "MwTzb7K0_OSi",
        "colab_type": "code",
        "outputId": "2eb28f33-3c40-422e-f4a6-ae27e2e8973c",
        "colab": {
          "base_uri": "https://localhost:8080/",
          "height": 136
        }
      },
      "source": [
        "network = Net(4096, 1500, 300, num_of_classes)\n",
        "network.cuda()\n",
        "optimizer = torch.optim.SGD(network.parameters(), lr=0.0001, momentum=0.6)\n",
        "criterion = nn.MSELoss().cuda()\n",
        "\n",
        "print(network)"
      ],
      "execution_count": 43,
      "outputs": [
        {
          "output_type": "stream",
          "text": [
            "Net(\n",
            "  (fc1): Linear(in_features=4096, out_features=1500, bias=True)\n",
            "  (relu1): ReLU()\n",
            "  (fc2): Linear(in_features=1500, out_features=300, bias=True)\n",
            "  (relu2): ReLU()\n",
            "  (fc3): Linear(in_features=300, out_features=3, bias=True)\n",
            ")\n"
          ],
          "name": "stdout"
        }
      ]
    },
    {
      "cell_type": "code",
      "metadata": {
        "id": "lMDkqvToUO1X",
        "colab_type": "code",
        "colab": {}
      },
      "source": [
        "network.load_state_dict(torch.load('/content/Lithuanian_OCR/Trained_model/model.pth'))\n",
        "network.eval()\n",
        "\n",
        "optimizer = torch.optim.SGD(network.parameters(), lr=0.2, momentum=0.2)\n",
        "optimizer.load_state_dict(torch.load('/content/Lithuanian_OCR/Trained_model/optimizer.pth'))"
      ],
      "execution_count": 0,
      "outputs": []
    },
    {
      "cell_type": "code",
      "metadata": {
        "id": "dMTTpgG39U9y",
        "colab_type": "code",
        "outputId": "b2300845-8ff8-4b70-b799-201da8fbe762",
        "colab": {
          "base_uri": "https://localhost:8080/",
          "height": 34
        }
      },
      "source": [
        "dev = torch.device(\"cuda\") if torch.cuda.is_available() else torch.device(\"cpu\")\n",
        "network.to(dev)\n",
        "criterion.to(dev)\n",
        "dev"
      ],
      "execution_count": 44,
      "outputs": [
        {
          "output_type": "execute_result",
          "data": {
            "text/plain": [
              "device(type='cuda')"
            ]
          },
          "metadata": {
            "tags": []
          },
          "execution_count": 44
        }
      ]
    },
    {
      "cell_type": "code",
      "metadata": {
        "id": "FsOVe0KqWNts",
        "colab_type": "code",
        "outputId": "106163de-f135-4dcb-c13f-baac478e58b5",
        "colab": {
          "base_uri": "https://localhost:8080/",
          "height": 119
        }
      },
      "source": [
        "device = torch.device('cuda' if torch.cuda.is_available() else 'cpu')\n",
        "print('Using device:', device)\n",
        "print()\n",
        "\n",
        "#Additional Info when using cuda\n",
        "if device.type == 'cuda':\n",
        "    print(torch.cuda.get_device_name(0))\n",
        "    print('Memory Usage:')\n",
        "    print('Allocated:', round(torch.cuda.memory_allocated(0)/1024**3,1), 'GB')\n",
        "    print('Cached:   ', round(torch.cuda.memory_cached(0)/1024**3,1), 'GB')"
      ],
      "execution_count": 22,
      "outputs": [
        {
          "output_type": "stream",
          "text": [
            "Using device: cuda\n",
            "\n",
            "Tesla K80\n",
            "Memory Usage:\n",
            "Allocated: 0.1 GB\n",
            "Cached:    0.1 GB\n"
          ],
          "name": "stdout"
        }
      ]
    },
    {
      "cell_type": "code",
      "metadata": {
        "id": "KIOL9zLnKiEu",
        "colab_type": "code",
        "colab": {}
      },
      "source": [
        "train_loader = torch.utils.data.DataLoader(train_dataset, batch_size = len(train_dataset),shuffle=True)\n",
        "val_loader = torch.utils.data.DataLoader(val_dataset, batch_size = len(val_dataset), shuffle=True)\n",
        "test_loader = torch.utils.data.DataLoader(test_dataset, batch_size = len(test_dataset), shuffle=True)\n",
        "\n",
        "other_train_loader = torch.utils.data.DataLoader(other_train_dataset, batch_size = len(train_dataset),shuffle=True)\n",
        "other_val_loader = torch.utils.data.DataLoader(other_val_dataset, batch_size = len(val_dataset), shuffle=True)\n",
        "other_test_loader = torch.utils.data.DataLoader(other_test_dataset, batch_size = len(test_dataset), shuffle=True)"
      ],
      "execution_count": 0,
      "outputs": []
    },
    {
      "cell_type": "code",
      "metadata": {
        "id": "SAi_TQWW-04_",
        "colab_type": "code",
        "outputId": "52b5340f-afad-4d13-cdf6-d8b2c5ec0e80",
        "colab": {
          "base_uri": "https://localhost:8080/",
          "height": 356
        }
      },
      "source": [
        "dataiter = iter(train_loader)\n",
        "itr = dataiter.next()\n",
        "\n",
        "label = itr['class_name']\n",
        "img = itr['image']\n",
        "print(\"Class name: {}\".format(label[0]))\n",
        "\n",
        "fig = plt.figure(figsize = (5,5)) \n",
        "ax = fig.add_subplot(111)\n",
        "ax.imshow(img[0])"
      ],
      "execution_count": 46,
      "outputs": [
        {
          "output_type": "stream",
          "text": [
            "Class name: u\n"
          ],
          "name": "stdout"
        },
        {
          "output_type": "execute_result",
          "data": {
            "text/plain": [
              "<matplotlib.image.AxesImage at 0x7fe590eaafd0>"
            ]
          },
          "metadata": {
            "tags": []
          },
          "execution_count": 46
        },
        {
          "output_type": "display_data",
          "data": {
            "image/png": "[encoded data removed]",
            "text/plain": [
              "<Figure size 360x360 with 1 Axes>"
            ]
          },
          "metadata": {
            "tags": [],
            "needs_background": "light"
          }
        }
      ]
    },
    {
      "cell_type": "code",
      "metadata": {
        "id": "LMbDr5k1BOPE",
        "colab_type": "code",
        "colab": {}
      },
      "source": [
        "train_losses = []\n",
        "train_counter = []\n",
        "test_losses = []\n",
        "test_counter = [i*len(train_loader.dataset) for i in range(10 + 1)]"
      ],
      "execution_count": 0,
      "outputs": []
    },
    {
      "cell_type": "code",
      "metadata": {
        "id": "aCwc6dI0BfdU",
        "colab_type": "code",
        "colab": {}
      },
      "source": [
        "!mkdir results"
      ],
      "execution_count": 0,
      "outputs": []
    },
    {
      "cell_type": "code",
      "metadata": {
        "id": "WNsrIgqgbT15",
        "colab_type": "code",
        "colab": {}
      },
      "source": [
        "def name_to_int(data):\n",
        "\n",
        "  switcher = {\n",
        "      'A': 1,\n",
        "      'B': 2,\n",
        "      'C': 3,\n",
        "      'A_small': 1,\n",
        "      'P': 2,\n",
        "      'u': 3\n",
        "  }\n",
        "\n",
        "  new_data = []\n",
        "\n",
        "  for dt in data:\n",
        "    new_data.append(switcher.get(dt))\n",
        "\n",
        "  return new_data\n",
        "\n",
        "def get_max_from_tensor(data):\n",
        "  maxVal = data[0]\n",
        "  maxId = 0\n",
        "  for i in range(len(data)):\n",
        "    if(data[i] > maxVal):\n",
        "      maxVal = data[i]\n",
        "      maxId = i\n",
        "\n",
        "  return maxId + 1"
      ],
      "execution_count": 0,
      "outputs": []
    },
    {
      "cell_type": "code",
      "metadata": {
        "id": "MT60UZQ5sQvj",
        "colab_type": "code",
        "outputId": "300c4850-b889-4007-a972-36c12a892b3e",
        "colab": {
          "base_uri": "https://localhost:8080/",
          "height": 1000
        }
      },
      "source": [
        "def train(train_loader, val_loader, epoch_amount, save_checkpoint = 10):\n",
        "  network.eval()\n",
        "  train_loss_hist = []\n",
        "  val_loss_hist = []\n",
        "\n",
        "  other_train_loss_hist = []\n",
        "\n",
        "  checkpoint = save_checkpoint\n",
        "  for epoch in range(epoch_amount):\n",
        "    num_images_train = 0\n",
        "    num_other_images_train = 0\n",
        "\n",
        "    # TRAINING DATASET\n",
        "    correct = 0\n",
        "    other_correct = 0\n",
        "    for data in train_loader:\n",
        "      images = data['image']\n",
        "      labels = torch.from_numpy(np.array(name_to_int(data['class_name'])))\n",
        "\n",
        "      lossSum = 0\n",
        "      for idx in range(len(images)):\n",
        "        optimizer.zero_grad()\n",
        "\n",
        "        outputs = network(images[idx].cuda().flatten().float())\n",
        "\n",
        "        maxIdx = get_max_from_tensor(outputs)\n",
        "        real_value = np.repeat(-10, num_of_classes)\n",
        "        real_value[labels[idx] - 1] = 10\n",
        "        loss = criterion(outputs.cuda(), torch.Tensor(real_value).cuda()) \n",
        "        \n",
        "        loss.backward()\n",
        "\n",
        "        lossSum += loss.item()\n",
        "        train_loss_hist.append(lossSum)\n",
        "\n",
        "        optimizer.step()\n",
        "\n",
        "    # TRAINING FOR OTHER DATASET\n",
        "    for data in other_train_loader:\n",
        "      images = data['image']\n",
        "\n",
        "      lossSum = 0\n",
        "      for idx in range(len(images)):\n",
        "        optimizer.zero_grad()\n",
        "\n",
        "        outputs = network(images[idx].cuda().flatten().float())\n",
        "\n",
        "        real_value = np.repeat(-10, num_of_classes)\n",
        "        loss = criterion(outputs.cuda(), torch.Tensor(real_value).cuda()) \n",
        "\n",
        "        loss.backward()\n",
        "\n",
        "        lossSum += loss.item()\n",
        "        other_train_loss_hist.append(lossSum)\n",
        "\n",
        "        optimizer.step()\n",
        "\n",
        "    # VALIDATION\n",
        "    for data in val_loader:\n",
        "      images = data['image']\n",
        "      labels = torch.from_numpy(np.array(name_to_int(data['class_name'])))\n",
        "\n",
        "      num_images_train = len(images)\n",
        "\n",
        "      images.cuda()\n",
        "      labels.cuda()\n",
        "\n",
        "      lossSum = 0\n",
        "      for idx in range(len(images)):\n",
        "        optimizer.zero_grad()\n",
        "\n",
        "        outputs = network(images[idx].cuda().flatten().float())\n",
        "\n",
        "        if(labels[idx] == get_max_from_tensor(outputs)):\n",
        "          correct += 1\n",
        "\n",
        "        maxIdx = get_max_from_tensor(outputs)\n",
        "        real_value = np.repeat(-10, num_of_classes)\n",
        "        real_value[labels[idx] - 1] = 10\n",
        "        loss = criterion(outputs.cuda(), torch.Tensor(real_value).cuda()) \n",
        "\n",
        "        lossSum += loss.item()\n",
        "        val_loss_hist.append(lossSum)\n",
        "\n",
        "    print(\"Epoch: {} Training loss: {} Eval loss: {} Other DB loss: {} Correct: {}%\".format(epoch,train_loss_hist[len(train_loss_hist) - 1],val_loss_hist[len(val_loss_hist) - 1], other_train_loss_hist[len(other_train_loss_hist) - 1], correct*100/num_images_train))\n",
        "\n",
        "    if(checkpoint == 0):\n",
        "      torch.save(network.state_dict(), '/content/results/model.pth')\n",
        "      torch.save(optimizer.state_dict(), '/content/results/optimizer.pth')\n",
        "\n",
        "      checkpoint = save_checkpoint\n",
        "    else:\n",
        "      checkpoint -= 1\n",
        "\n",
        "train(train_loader, val_loader, 100, 5)"
      ],
      "execution_count": 51,
      "outputs": [
        {
          "output_type": "stream",
          "text": [
            "Epoch: 0 Training loss: 114.42918194574304 Eval loss: 2212.9756841659546 Other DB loss: 97.71259162807837 Correct: 94.23076923076923%\n",
            "Epoch: 1 Training loss: 71.92230873450171 Eval loss: 1997.779197216034 Other DB loss: 72.45333271900745 Correct: 96.15384615384616%\n",
            "Epoch: 2 Training loss: 71.07659706799313 Eval loss: 2263.4120330810547 Other DB loss: 89.64779103494948 Correct: 96.15384615384616%\n",
            "Epoch: 3 Training loss: 71.74783298769034 Eval loss: 2097.365608215332 Other DB loss: 86.39182806853205 Correct: 96.15384615384616%\n",
            "Epoch: 4 Training loss: 64.35707801708486 Eval loss: 2138.2968349456787 Other DB loss: 68.94865710195154 Correct: 92.3076923076923%\n",
            "Epoch: 5 Training loss: 73.3557187205879 Eval loss: 2043.0120396614075 Other DB loss: 85.2652824819088 Correct: 92.3076923076923%\n",
            "Epoch: 6 Training loss: 65.09670756815467 Eval loss: 2507.395721435547 Other DB loss: 81.8894663839601 Correct: 94.23076923076923%\n",
            "Epoch: 7 Training loss: 87.31569157540798 Eval loss: 2077.120063304901 Other DB loss: 70.19020476809237 Correct: 94.23076923076923%\n",
            "Epoch: 8 Training loss: 112.35991462436505 Eval loss: 2020.1206030845642 Other DB loss: 85.0823951679049 Correct: 94.23076923076923%\n",
            "Epoch: 9 Training loss: 83.0930772125721 Eval loss: 2473.6457285881042 Other DB loss: 105.97104022908024 Correct: 94.23076923076923%\n",
            "Epoch: 10 Training loss: 111.36549011444731 Eval loss: 2058.0553212165833 Other DB loss: 72.85253100260161 Correct: 94.23076923076923%\n",
            "Epoch: 11 Training loss: 77.2751350691542 Eval loss: 2043.8537039756775 Other DB loss: 66.06099090049975 Correct: 96.15384615384616%\n",
            "Epoch: 12 Training loss: 59.93545443331823 Eval loss: 2118.976676464081 Other DB loss: 59.18557957543089 Correct: 96.15384615384616%\n",
            "Epoch: 13 Training loss: 61.52555272297468 Eval loss: 2221.2206540107727 Other DB loss: 82.20411516830791 Correct: 94.23076923076923%\n",
            "Epoch: 14 Training loss: 62.63028952665627 Eval loss: 2065.915358543396 Other DB loss: 64.69487153057707 Correct: 92.3076923076923%\n",
            "Epoch: 15 Training loss: 73.47751625441015 Eval loss: 2143.5577640533447 Other DB loss: 73.8822582331486 Correct: 94.23076923076923%\n",
            "Epoch: 16 Training loss: 101.59175533405505 Eval loss: 2338.8563594818115 Other DB loss: 65.64153832523152 Correct: 94.23076923076923%\n",
            "Epoch: 17 Training loss: 65.07472446234897 Eval loss: 1902.036315202713 Other DB loss: 55.757304126396775 Correct: 94.23076923076923%\n",
            "Epoch: 18 Training loss: 53.802998566185124 Eval loss: 1954.9836008548737 Other DB loss: 59.93421975302044 Correct: 94.23076923076923%\n",
            "Epoch: 19 Training loss: 60.18129048892297 Eval loss: 2099.865484714508 Other DB loss: 57.21724375861231 Correct: 92.3076923076923%\n",
            "Epoch: 20 Training loss: 68.47784851118922 Eval loss: 1952.1681575775146 Other DB loss: 64.18326051576878 Correct: 94.23076923076923%\n",
            "Epoch: 21 Training loss: 46.640230715158395 Eval loss: 1876.0957834720612 Other DB loss: 51.049702833552146 Correct: 92.3076923076923%\n",
            "Epoch: 22 Training loss: 52.0896531346807 Eval loss: 1880.1487774848938 Other DB loss: 54.415642038802616 Correct: 92.3076923076923%\n",
            "Epoch: 23 Training loss: 87.42712775827385 Eval loss: 2151.187253713608 Other DB loss: 64.39235245791497 Correct: 92.3076923076923%\n",
            "Epoch: 24 Training loss: 69.01711695047561 Eval loss: 2085.171926498413 Other DB loss: 60.058456445578486 Correct: 92.3076923076923%\n",
            "Epoch: 25 Training loss: 47.64839708979707 Eval loss: 2077.6708154678345 Other DB loss: 59.56270857050549 Correct: 92.3076923076923%\n",
            "Epoch: 26 Training loss: 46.59142944123596 Eval loss: 1982.0172827243805 Other DB loss: 52.99352500872919 Correct: 90.38461538461539%\n",
            "Epoch: 27 Training loss: 42.23932974040508 Eval loss: 1881.0885910987854 Other DB loss: 44.33379578476888 Correct: 94.23076923076923%\n",
            "Epoch: 28 Training loss: 42.88078381982632 Eval loss: 2218.0224232673645 Other DB loss: 55.355075773084536 Correct: 94.23076923076923%\n",
            "Epoch: 29 Training loss: 90.62718082952779 Eval loss: 1845.8815507888794 Other DB loss: 50.758538701804355 Correct: 92.3076923076923%\n",
            "Epoch: 30 Training loss: 44.4374375922489 Eval loss: 1747.2119891643524 Other DB loss: 46.36231039231643 Correct: 90.38461538461539%\n",
            "Epoch: 31 Training loss: 40.755391716142185 Eval loss: 1820.4782767295837 Other DB loss: 46.63301668234635 Correct: 94.23076923076923%\n",
            "Epoch: 32 Training loss: 38.18865922244731 Eval loss: 2468.9911901950836 Other DB loss: 51.328886340372264 Correct: 92.3076923076923%\n",
            "Epoch: 33 Training loss: 124.4878520873608 Eval loss: 2490.5647296905518 Other DB loss: 58.44080050592311 Correct: 94.23076923076923%\n",
            "Epoch: 34 Training loss: 65.54228410683572 Eval loss: 1868.0972788333893 Other DB loss: 37.90071968178381 Correct: 96.15384615384616%\n",
            "Epoch: 35 Training loss: 46.17819190467708 Eval loss: 2037.0038981437683 Other DB loss: 50.62247896171175 Correct: 94.23076923076923%\n",
            "Epoch: 36 Training loss: 50.79333540471271 Eval loss: 1842.9458503723145 Other DB loss: 33.84533514047507 Correct: 94.23076923076923%\n",
            "Epoch: 37 Training loss: 35.70671921572648 Eval loss: 1984.702714920044 Other DB loss: 44.86432254023384 Correct: 92.3076923076923%\n",
            "Epoch: 38 Training loss: 43.00767986220308 Eval loss: 1826.6070590019226 Other DB loss: 41.879027448943816 Correct: 94.23076923076923%\n",
            "Epoch: 39 Training loss: 33.53945666877553 Eval loss: 1849.9711759090424 Other DB loss: 35.81655954022426 Correct: 92.3076923076923%\n",
            "Epoch: 40 Training loss: 53.669420713791624 Eval loss: 1890.0000216960907 Other DB loss: 42.2572381044738 Correct: 94.23076923076923%\n",
            "Epoch: 41 Training loss: 38.84967676183442 Eval loss: 1851.4058530330658 Other DB loss: 40.43850029614987 Correct: 94.23076923076923%\n",
            "Epoch: 42 Training loss: 37.131725213257596 Eval loss: 2176.8214099407196 Other DB loss: 41.53452149126679 Correct: 92.3076923076923%\n",
            "Epoch: 43 Training loss: 189.83246623750892 Eval loss: 1955.4190979003906 Other DB loss: 42.62586119864136 Correct: 92.3076923076923%\n",
            "Epoch: 44 Training loss: 65.91556024178863 Eval loss: 1979.3463988304138 Other DB loss: 54.2837994346628 Correct: 92.3076923076923%\n",
            "Epoch: 45 Training loss: 43.967528967536055 Eval loss: 1965.039813041687 Other DB loss: 37.42296730767703 Correct: 94.23076923076923%\n",
            "Epoch: 46 Training loss: 37.737195694673574 Eval loss: 1898.5137407779694 Other DB loss: 34.80089641804807 Correct: 92.3076923076923%\n",
            "Epoch: 47 Training loss: 37.59736370234168 Eval loss: 2131.0299406051636 Other DB loss: 39.89408848271705 Correct: 92.3076923076923%\n",
            "Epoch: 48 Training loss: 59.410260965814814 Eval loss: 2227.743082523346 Other DB loss: 61.73432167468127 Correct: 88.46153846153847%\n",
            "Epoch: 49 Training loss: 60.97582479531411 Eval loss: 1891.3917729854584 Other DB loss: 35.58744687936269 Correct: 92.3076923076923%\n",
            "Epoch: 50 Training loss: 64.97493255045265 Eval loss: 1822.7575318813324 Other DB loss: 40.74568338226527 Correct: 92.3076923076923%\n",
            "Epoch: 51 Training loss: 31.008936081489082 Eval loss: 1709.826805114746 Other DB loss: 33.74725530995056 Correct: 94.23076923076923%\n",
            "Epoch: 52 Training loss: 28.78720608795993 Eval loss: 1856.1539525985718 Other DB loss: 31.36464501771843 Correct: 94.23076923076923%\n",
            "Epoch: 53 Training loss: 33.84837159968447 Eval loss: 1651.8168485164642 Other DB loss: 31.970044599554967 Correct: 92.3076923076923%\n",
            "Epoch: 54 Training loss: 32.67065502208425 Eval loss: 1793.0574884414673 Other DB loss: 38.36655604073894 Correct: 92.3076923076923%\n",
            "Epoch: 55 Training loss: 30.819988873554394 Eval loss: 1896.3493418693542 Other DB loss: 36.2075487053371 Correct: 92.3076923076923%\n",
            "Epoch: 56 Training loss: 43.55192991823424 Eval loss: 1685.935805797577 Other DB loss: 30.039063190168235 Correct: 92.3076923076923%\n",
            "Epoch: 57 Training loss: 28.19686279486632 Eval loss: 1789.484092950821 Other DB loss: 28.006646109803114 Correct: 92.3076923076923%\n",
            "Epoch: 58 Training loss: 25.70671170661808 Eval loss: 1702.7998056411743 Other DB loss: 29.470860949077178 Correct: 92.3076923076923%\n",
            "Epoch: 59 Training loss: 28.213332826737314 Eval loss: 1672.5260899066925 Other DB loss: 32.86991678053164 Correct: 92.3076923076923%\n",
            "Epoch: 60 Training loss: 24.50388688442763 Eval loss: 2188.2782921791077 Other DB loss: 40.11855823526275 Correct: 92.3076923076923%\n",
            "Epoch: 61 Training loss: 41.29071889212355 Eval loss: 1976.8732697963715 Other DB loss: 33.11366804863792 Correct: 92.3076923076923%\n",
            "Epoch: 62 Training loss: 119.74976677610539 Eval loss: 1764.6455780267715 Other DB loss: 38.45993342786096 Correct: 92.3076923076923%\n",
            "Epoch: 63 Training loss: 27.220383597392356 Eval loss: 1664.1048203706741 Other DB loss: 28.436022077396046 Correct: 90.38461538461539%\n",
            "Epoch: 64 Training loss: 27.362304415844847 Eval loss: 1699.0431203842163 Other DB loss: 26.745863378746435 Correct: 92.3076923076923%\n",
            "Epoch: 65 Training loss: 32.04425505248946 Eval loss: 2010.4930546283722 Other DB loss: 34.42798617607332 Correct: 92.3076923076923%\n",
            "Epoch: 66 Training loss: 35.62036931834882 Eval loss: 1540.580826997757 Other DB loss: 23.135102203697897 Correct: 94.23076923076923%\n",
            "Epoch: 67 Training loss: 28.088866823527496 Eval loss: 1647.2957155704498 Other DB loss: 25.64034621976316 Correct: 92.3076923076923%\n",
            "Epoch: 68 Training loss: 23.516618165711407 Eval loss: 1895.8068133592606 Other DB loss: 32.32994080346543 Correct: 92.3076923076923%\n",
            "Epoch: 69 Training loss: 36.796039465407375 Eval loss: 1575.9013321399689 Other DB loss: 25.396531793405302 Correct: 92.3076923076923%\n",
            "Epoch: 70 Training loss: 29.044796794943977 Eval loss: 1646.1489289999008 Other DB loss: 27.83203021355439 Correct: 92.3076923076923%\n",
            "Epoch: 71 Training loss: 27.526478752814 Eval loss: 1568.7387048006058 Other DB loss: 24.725730914564338 Correct: 94.23076923076923%\n",
            "Epoch: 72 Training loss: 20.958963053446496 Eval loss: 1721.0758332014084 Other DB loss: 23.491836020781193 Correct: 90.38461538461539%\n",
            "Epoch: 73 Training loss: 34.62274671590421 Eval loss: 1768.12746655941 Other DB loss: 26.576641889216262 Correct: 92.3076923076923%\n",
            "Epoch: 74 Training loss: 32.31553878181148 Eval loss: 1811.9529031515121 Other DB loss: 29.97759720493923 Correct: 94.23076923076923%\n",
            "Epoch: 75 Training loss: 39.38417018360087 Eval loss: 1611.6252254247665 Other DB loss: 22.187986555916723 Correct: 94.23076923076923%\n",
            "Epoch: 76 Training loss: 21.301421367679723 Eval loss: 1760.5065169334412 Other DB loss: 22.744826364389155 Correct: 92.3076923076923%\n",
            "Epoch: 77 Training loss: 29.564722661394626 Eval loss: 1586.6885877847672 Other DB loss: 23.125567145005334 Correct: 92.3076923076923%\n",
            "Epoch: 78 Training loss: 18.142913633724675 Eval loss: 1624.8377192020416 Other DB loss: 21.661807811644394 Correct: 94.23076923076923%\n",
            "Epoch: 79 Training loss: 16.653460320143495 Eval loss: 1653.1175414323807 Other DB loss: 20.810559483856196 Correct: 90.38461538461539%\n",
            "Epoch: 80 Training loss: 32.17818943614839 Eval loss: 1595.8439260721207 Other DB loss: 23.84559898910811 Correct: 90.38461538461539%\n",
            "Epoch: 81 Training loss: 32.6943514739105 Eval loss: 1781.4997699260712 Other DB loss: 25.72947414437658 Correct: 92.3076923076923%\n",
            "Epoch: 82 Training loss: 22.88338176032994 Eval loss: 1673.4892517328262 Other DB loss: 19.078096932760673 Correct: 94.23076923076923%\n",
            "Epoch: 83 Training loss: 28.07181109992962 Eval loss: 1670.592459321022 Other DB loss: 22.47144395757641 Correct: 94.23076923076923%\n",
            "Epoch: 84 Training loss: 17.68979187271907 Eval loss: 1788.76693212986 Other DB loss: 18.75182528269943 Correct: 92.3076923076923%\n",
            "Epoch: 85 Training loss: 21.415697426025872 Eval loss: 1619.1484327316284 Other DB loss: 20.111569318687543 Correct: 92.3076923076923%\n",
            "Epoch: 86 Training loss: 18.923911107587628 Eval loss: 1737.2084428071976 Other DB loss: 19.55857395840576 Correct: 92.3076923076923%\n",
            "Epoch: 87 Training loss: 30.259305330342613 Eval loss: 1548.3584030866623 Other DB loss: 18.525051562057342 Correct: 92.3076923076923%\n",
            "Epoch: 88 Training loss: 16.597459794575116 Eval loss: 1734.1609114408493 Other DB loss: 18.62192880222574 Correct: 92.3076923076923%\n",
            "Epoch: 89 Training loss: 24.138245986483525 Eval loss: 1848.1523891687393 Other DB loss: 25.35649822241976 Correct: 94.23076923076923%\n",
            "Epoch: 90 Training loss: 27.416139635577565 Eval loss: 1529.0974969863892 Other DB loss: 16.128592879278585 Correct: 94.23076923076923%\n",
            "Epoch: 91 Training loss: 16.744101935822982 Eval loss: 1824.0962816476822 Other DB loss: 20.90246049617417 Correct: 92.3076923076923%\n",
            "Epoch: 92 Training loss: 28.56575541762868 Eval loss: 2129.6561822891235 Other DB loss: 32.94523243684671 Correct: 94.23076923076923%\n",
            "Epoch: 93 Training loss: 56.4617163434159 Eval loss: 1644.9605959653854 Other DB loss: 18.334802058176138 Correct: 94.23076923076923%\n",
            "Epoch: 94 Training loss: 18.169811134343036 Eval loss: 1599.4271281957626 Other DB loss: 18.91688182236976 Correct: 92.3076923076923%\n",
            "Epoch: 95 Training loss: 15.715376948879566 Eval loss: 1612.9252282381058 Other DB loss: 16.411025599139975 Correct: 94.23076923076923%\n",
            "Epoch: 96 Training loss: 21.871766792377457 Eval loss: 1579.645728468895 Other DB loss: 18.06652606118587 Correct: 92.3076923076923%\n",
            "Epoch: 97 Training loss: 14.322517667431384 Eval loss: 1717.5688482522964 Other DB loss: 17.013850018323865 Correct: 90.38461538461539%\n",
            "Epoch: 98 Training loss: 24.032797217310872 Eval loss: 1534.1306005120277 Other DB loss: 14.795510764233768 Correct: 94.23076923076923%\n",
            "Epoch: 99 Training loss: 15.175852737796959 Eval loss: 1403.0475746393204 Other DB loss: 11.922132470499491 Correct: 94.23076923076923%\n"
          ],
          "name": "stdout"
        }
      ]
    },
    {
      "cell_type": "code",
      "metadata": {
        "id": "nSTdUp1O1bak",
        "colab_type": "code",
        "outputId": "cb527e38-81b0-4be7-8742-6e0c3f80bcfb",
        "colab": {
          "base_uri": "https://localhost:8080/",
          "height": 85
        }
      },
      "source": [
        "empty_image = io.imread('/content/Lithuanian_OCR/Data/white.jpg')\n",
        "empty_image = rgb2gray(empty_image)\n",
        "output = network(torch.Tensor(empty_image).cuda().flatten().float())\n",
        "print(output)\n",
        "print(get_max_from_tensor(output))\n",
        "print(output[get_max_from_tensor(output) - 1])\n",
        "\n",
        "prob_treshold = output[get_max_from_tensor(output) - 1].item()\n",
        "print(prob_treshold)"
      ],
      "execution_count": 52,
      "outputs": [
        {
          "output_type": "stream",
          "text": [
            "tensor([-12.6193, -12.6144, -12.6665], device='cuda:0', grad_fn=<AddBackward0>)\n",
            "2\n",
            "tensor(-12.6144, device='cuda:0', grad_fn=<SelectBackward>)\n",
            "-12.614389419555664\n"
          ],
          "name": "stdout"
        }
      ]
    },
    {
      "cell_type": "code",
      "metadata": {
        "id": "aDc8f2aEZ1-c",
        "colab_type": "code",
        "outputId": "4e6fe513-ed47-483c-e6b6-a2048420997e",
        "colab": {
          "base_uri": "https://localhost:8080/",
          "height": 425
        }
      },
      "source": [
        "lowest_prob = 100\n",
        "\n",
        "for data in test_loader:\n",
        "  images = data['image']\n",
        "  labels = torch.from_numpy(np.array(name_to_int(data['class_name'])))\n",
        "\n",
        "  for i in range(len(images)):\n",
        "    output = network(images[i].cuda().flatten().float())\n",
        "    \n",
        "    prob = output[get_max_from_tensor(output) - 1]\n",
        "    if prob < lowest_prob:\n",
        "      lowest_prob = prob\n",
        "\n",
        "    if(get_max_from_tensor(output) == labels[i] and prob > prob_treshold):\n",
        "      print(\"OK: {} == {} Probability: {}\".format(get_max_from_tensor(output), labels[i], prob))\n",
        "    elif(prob < prob_treshold):\n",
        "      print(\"False: Detected empty image on {} with probability: {}\".format(labels[i], prob))\n",
        "    else:\n",
        "      print(\"False: {} == {} Probability: {}\".format(get_max_from_tensor(output), labels[i], prob))\n",
        "\n",
        "print(\"Lowest Probability: {}\".format(lowest_prob))"
      ],
      "execution_count": 53,
      "outputs": [
        {
          "output_type": "stream",
          "text": [
            "OK: 1 == 1 Probability: 3.791440725326538\n",
            "OK: 2 == 2 Probability: 11.007643699645996\n",
            "OK: 3 == 3 Probability: 10.806563377380371\n",
            "OK: 3 == 3 Probability: -4.572048187255859\n",
            "OK: 1 == 1 Probability: 1.8658196926116943\n",
            "OK: 1 == 1 Probability: -5.695376396179199\n",
            "OK: 3 == 3 Probability: -0.6543677449226379\n",
            "OK: 3 == 3 Probability: -4.850577354431152\n",
            "OK: 2 == 2 Probability: 4.363203525543213\n",
            "OK: 2 == 2 Probability: -2.3179800510406494\n",
            "OK: 2 == 2 Probability: 8.32432746887207\n",
            "OK: 3 == 3 Probability: 8.772372245788574\n",
            "OK: 1 == 1 Probability: 4.737860679626465\n",
            "OK: 2 == 2 Probability: 9.495803833007812\n",
            "OK: 2 == 2 Probability: -2.3339104652404785\n",
            "OK: 2 == 2 Probability: 8.831820487976074\n",
            "OK: 1 == 1 Probability: 10.151124000549316\n",
            "OK: 3 == 3 Probability: -1.2319812774658203\n",
            "OK: 1 == 1 Probability: 5.030946731567383\n",
            "OK: 1 == 1 Probability: 3.999912977218628\n",
            "OK: 2 == 2 Probability: 14.44632625579834\n",
            "OK: 3 == 3 Probability: 2.9137094020843506\n",
            "OK: 2 == 2 Probability: 12.581581115722656\n",
            "Lowest Probability: -5.695376396179199\n"
          ],
          "name": "stdout"
        }
      ]
    },
    {
      "cell_type": "code",
      "metadata": {
        "id": "BA6XaNQwoBYQ",
        "colab_type": "code",
        "colab": {}
      },
      "source": [
        "for opt in optimizer.param_groups:\n",
        "  opt['lr'] = 0.00001"
      ],
      "execution_count": 0,
      "outputs": []
    },
    {
      "cell_type": "code",
      "metadata": {
        "id": "wKrJxDhb8aci",
        "colab_type": "code",
        "colab": {}
      },
      "source": [
        "!cp '/content/results/model.pth' '/content/Lithuanian_OCR/Trained_model/model.pth'\n",
        "!cp '/content/results/optimizer.pth' '/content/Lithuanian_OCR/Trained_model/optimizer.pth'"
      ],
      "execution_count": 0,
      "outputs": []
    }
  ]
}