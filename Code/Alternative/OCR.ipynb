{
  "nbformat": 4,
  "nbformat_minor": 0,
  "metadata": {
    "colab": {
      "name": "OCR.ipynb",
      "provenance": [],
      "collapsed_sections": [],
      "toc_visible": true,
      "machine_shape": "hm"
    },
    "kernelspec": {
      "name": "python3",
      "display_name": "Python 3"
    },
    "accelerator": "GPU"
  },
  "cells": [
    {
      "cell_type": "code",
      "metadata": {
        "id": "tqV3oHrg8mY-",
        "colab_type": "code",
        "colab": {}
      },
      "source": [
        "from __future__ import print_function, division\n",
        "import os\n",
        "import torch\n",
        "from torch.optim.optimizer import Optimizer\n",
        "from skimage import io, transform\n",
        "import numpy as np\n",
        "import matplotlib.pyplot as plt\n",
        "from torch.utils.data import Dataset, DataLoader\n",
        "from torchvision import transforms, utils\n",
        "from skimage import io\n",
        "import torch.nn as nn\n",
        "import torch.nn.functional as F\n",
        "\n",
        "from skimage.color import rgb2gray\n",
        "\n",
        "from torch.utils.tensorboard import SummaryWriter\n",
        "\n",
        "import PIL\n",
        "from PIL import Image\n",
        "\n",
        "from google.colab import output"
      ],
      "execution_count": 0,
      "outputs": []
    },
    {
      "cell_type": "code",
      "metadata": {
        "id": "qZPVvFlrIHMt",
        "colab_type": "code",
        "outputId": "6222bf28-ac6e-40c8-d71d-0d30dbee225a",
        "colab": {
          "base_uri": "https://localhost:8080/",
          "height": 153
        }
      },
      "source": [
        "%cd /content/\n",
        "if(os.path.isdir('/content/Lithuanian_OCR') == False):\n",
        "  !git clone https://github.com/PauliusMilmantas/Lithuanian_OCR\n",
        "\n",
        "num_of_classes = 3"
      ],
      "execution_count": 2,
      "outputs": [
        {
          "output_type": "stream",
          "text": [
            "/content\n",
            "Cloning into 'Lithuanian_OCR'...\n",
            "remote: Enumerating objects: 145, done.\u001b[K\n",
            "remote: Counting objects: 100% (145/145), done.\u001b[K\n",
            "remote: Compressing objects: 100% (105/105), done.\u001b[K\n",
            "remote: Total 4130 (delta 37), reused 136 (delta 29), pack-reused 3985\u001b[K\n",
            "Receiving objects: 100% (4130/4130), 329.53 MiB | 38.60 MiB/s, done.\n",
            "Resolving deltas: 100% (655/655), done.\n"
          ],
          "name": "stdout"
        }
      ]
    },
    {
      "cell_type": "code",
      "metadata": {
        "id": "4dizldPQRNUj",
        "colab_type": "code",
        "colab": {}
      },
      "source": [
        "class ORCDataset(Dataset):\n",
        "  def __init__(self, root):\n",
        "    self.root = root\n",
        "\n",
        "  def __len__(self):\n",
        "    lt = 0\n",
        "    classes = os.listdir(self.root)\n",
        "    for cl in classes:\n",
        "      lt += len(os.listdir(self.root + '/' + cl))\n",
        "\n",
        "    return lt\n",
        "\n",
        "  def __getitem__(self, idx):\n",
        "    if torch.is_tensor(idx):\n",
        "     idx = idx.tolist()\n",
        "\n",
        "    if(idx <= len(self)):\n",
        "      found_file = \"\"\n",
        "      found_type = \"\"\n",
        "\n",
        "      fldrs = os.listdir(self.root)\n",
        "      for fld in fldrs:\n",
        "        fls = os.listdir(self.root + '/' + fld + '/')\n",
        "        for fl in fls:\n",
        "          if(fl == str(idx) + \".jpg\"):\n",
        "            found_file = self.root + '/' + fld + '/' + fl         \n",
        "            found_type = fld\n",
        "\n",
        "      try:\n",
        "        img = io.imread(found_file)\n",
        "        img = rgb2gray(img)\n",
        "\n",
        "        return {'image': img, 'class_name': found_type}\n",
        "      except:\n",
        "        if(found_file != \"\"):\n",
        "          print(\"Bad file: \" + found_file)\n",
        "        else:\n",
        "          print(\"File not found, idx = \" + str(idx))\n",
        "    else:\n",
        "      print()\n",
        "      raise Exception(\"Dataset index out of boundaries\")\n",
        "\n",
        "train_dataset = ORCDataset('/content/Lithuanian_OCR/Data/batch-2/training')\n",
        "val_dataset = ORCDataset('/content/Lithuanian_OCR/Data/batch-2/val')\n",
        "test_dataset = ORCDataset('/content/Lithuanian_OCR/Data/batch-2/test')\n",
        "\n",
        "other_train_dataset = ORCDataset('/content/Lithuanian_OCR/Data/batch-1/training')\n",
        "other_val_dataset = ORCDataset('/content/Lithuanian_OCR/Data/batch-1/val')\n",
        "other_test_dataset = ORCDataset('/content/Lithuanian_OCR/Data/batch-1/test')"
      ],
      "execution_count": 0,
      "outputs": []
    },
    {
      "cell_type": "code",
      "metadata": {
        "id": "KR2HO96n8pXN",
        "colab_type": "code",
        "colab": {}
      },
      "source": [
        "class Net(nn.Module):\n",
        "    def __init__(self, input_size, hidden1_size, hidden2_size, num_classes):\n",
        "        super(Net, self).__init__()\n",
        "        self.fc1 = nn.Linear(input_size, hidden1_size)\n",
        "        self.relu1 = nn.ReLU()\n",
        "        self.fc2 = nn.Linear(hidden1_size, hidden2_size)\n",
        "        self.relu2 = nn.ReLU()\n",
        "        self.fc3 = nn.Linear(hidden2_size, num_classes)  \n",
        "    \n",
        "    def forward(self, x):\n",
        "        out = self.fc1(x)\n",
        "        out = self.relu1(out)\n",
        "        out = self.fc2(out)        \n",
        "        out = self.relu2(out)     \n",
        "        out = self.fc3(out)\n",
        "        return out"
      ],
      "execution_count": 0,
      "outputs": []
    },
    {
      "cell_type": "code",
      "metadata": {
        "id": "HrA0syykfUCm",
        "colab_type": "code",
        "colab": {}
      },
      "source": [
        "class custom_sgd_optimizer(Optimizer):\n",
        "    def __init__(self, params, lr, momentum=0, dampening=0,\n",
        "                 weight_decay=0, nesterov=False):\n",
        "\n",
        "        defaults = dict(lr=lr, momentum=momentum, dampening=dampening,\n",
        "                        weight_decay=weight_decay, nesterov=nesterov)\n",
        "        if nesterov and (momentum <= 0 or dampening != 0):\n",
        "            raise ValueError(\"Nesterov momentum requires a momentum and zero dampening\")\n",
        "        super(custom_sgd_optimizer, self).__init__(params, defaults)\n",
        "\n",
        "    def __setstate__(self, state):\n",
        "        super(custom_sgd_optimizer, self).__setstate__(state)\n",
        "        for group in self.param_groups:\n",
        "            group.setdefault('nesterov', False)\n",
        "\n",
        "    @torch.no_grad()\n",
        "    def step(self, closure=None):\n",
        "        \"\"\"Performs a single optimization step.\n",
        "        Arguments:\n",
        "            closure (callable, optional): A closure that reevaluates the model\n",
        "                and returns the loss.\n",
        "        \"\"\"\n",
        "        loss = None\n",
        "        if closure is not None:\n",
        "            with torch.enable_grad():\n",
        "                loss = closure()\n",
        "\n",
        "        for group in self.param_groups:\n",
        "            weight_decay = group['weight_decay']\n",
        "            momentum = group['momentum']\n",
        "            dampening = group['dampening']\n",
        "            nesterov = group['nesterov']\n",
        "\n",
        "            for p in group['params']:\n",
        "                if p.grad is None:\n",
        "                    continue\n",
        "                d_p = p.grad\n",
        "                if weight_decay != 0:\n",
        "                    d_p = d_p.add(p, alpha=weight_decay)\n",
        "                if momentum != 0:\n",
        "                    param_state = self.state[p]\n",
        "                    if 'momentum_buffer' not in param_state:\n",
        "                        buf = param_state['momentum_buffer'] = torch.clone(d_p).detach()\n",
        "                    else:\n",
        "                        buf = param_state['momentum_buffer']\n",
        "                        buf.mul_(momentum).add_(d_p, alpha=1 - dampening)\n",
        "                    if nesterov:\n",
        "                        d_p = d_p.add(buf, alpha=momentum)\n",
        "                    else:\n",
        "                        d_p = buf\n",
        "\n",
        "                p.add_(d_p, alpha=-group['lr'])\n",
        "\n",
        "        return loss"
      ],
      "execution_count": 0,
      "outputs": []
    },
    {
      "cell_type": "code",
      "metadata": {
        "id": "MwTzb7K0_OSi",
        "colab_type": "code",
        "outputId": "2a755858-3245-457a-9a3d-b5641dd0913a",
        "colab": {
          "base_uri": "https://localhost:8080/",
          "height": 136
        }
      },
      "source": [
        "network = Net(4096, 1500, 300, num_of_classes)\n",
        "network.cuda()\n",
        "optimizer = torch.optim.SGD(network.parameters(), lr=0.0001, momentum=0.6)\n",
        "criterion = nn.MSELoss().cuda()\n",
        "\n",
        "print(network)"
      ],
      "execution_count": 5,
      "outputs": [
        {
          "output_type": "stream",
          "text": [
            "Net(\n",
            "  (fc1): Linear(in_features=4096, out_features=1500, bias=True)\n",
            "  (relu1): ReLU()\n",
            "  (fc2): Linear(in_features=1500, out_features=300, bias=True)\n",
            "  (relu2): ReLU()\n",
            "  (fc3): Linear(in_features=300, out_features=3, bias=True)\n",
            ")\n"
          ],
          "name": "stdout"
        }
      ]
    },
    {
      "cell_type": "code",
      "metadata": {
        "id": "dMTTpgG39U9y",
        "colab_type": "code",
        "outputId": "5b1346a9-2f44-46f0-9e03-ce5d68a29063",
        "colab": {
          "base_uri": "https://localhost:8080/",
          "height": 34
        }
      },
      "source": [
        "dev = torch.device(\"cuda\") if torch.cuda.is_available() else torch.device(\"cpu\")\n",
        "network.to(dev)\n",
        "criterion.to(dev)\n",
        "dev"
      ],
      "execution_count": 6,
      "outputs": [
        {
          "output_type": "execute_result",
          "data": {
            "text/plain": [
              "device(type='cuda')"
            ]
          },
          "metadata": {
            "tags": []
          },
          "execution_count": 6
        }
      ]
    },
    {
      "cell_type": "code",
      "metadata": {
        "id": "FsOVe0KqWNts",
        "colab_type": "code",
        "outputId": "9457a019-6a32-4749-c5bc-94ac522aaa00",
        "colab": {
          "base_uri": "https://localhost:8080/",
          "height": 119
        }
      },
      "source": [
        "device = torch.device('cuda' if torch.cuda.is_available() else 'cpu')\n",
        "print('Using device:', device)\n",
        "print()\n",
        "\n",
        "#Additional Info when using cuda\n",
        "if device.type == 'cuda':\n",
        "    print(torch.cuda.get_device_name(0))\n",
        "    print('Memory Usage:')\n",
        "    print('Allocated:', round(torch.cuda.memory_allocated(0)/1024**3,1), 'GB')\n",
        "    print('Cached:   ', round(torch.cuda.memory_cached(0)/1024**3,1), 'GB')"
      ],
      "execution_count": 7,
      "outputs": [
        {
          "output_type": "stream",
          "text": [
            "Using device: cuda\n",
            "\n",
            "Tesla P100-PCIE-16GB\n",
            "Memory Usage:\n",
            "Allocated: 0.0 GB\n",
            "Cached:    0.0 GB\n"
          ],
          "name": "stdout"
        }
      ]
    },
    {
      "cell_type": "code",
      "metadata": {
        "id": "KIOL9zLnKiEu",
        "colab_type": "code",
        "colab": {}
      },
      "source": [
        "train_loader = torch.utils.data.DataLoader(train_dataset, batch_size = len(train_dataset),shuffle=True)\n",
        "val_loader = torch.utils.data.DataLoader(val_dataset, batch_size = len(val_dataset), shuffle=True)\n",
        "test_loader = torch.utils.data.DataLoader(test_dataset, batch_size = len(test_dataset), shuffle=True)\n",
        "\n",
        "other_train_loader = torch.utils.data.DataLoader(other_train_dataset, batch_size = len(other_train_dataset),shuffle=True)\n",
        "other_val_loader = torch.utils.data.DataLoader(other_val_dataset, batch_size = len(other_val_dataset), shuffle=True)\n",
        "other_test_loader = torch.utils.data.DataLoader(other_test_dataset, batch_size = len(other_test_dataset), shuffle=True)"
      ],
      "execution_count": 0,
      "outputs": []
    },
    {
      "cell_type": "code",
      "metadata": {
        "id": "SAi_TQWW-04_",
        "colab_type": "code",
        "outputId": "ddc90746-1a8d-475c-ce63-1766c9a580cf",
        "colab": {
          "base_uri": "https://localhost:8080/",
          "height": 356
        }
      },
      "source": [
        "dataiter = iter(train_loader)\n",
        "itr = dataiter.next()\n",
        "\n",
        "label = itr['class_name']\n",
        "img = itr['image']\n",
        "print(\"Class name: {}\".format(label[0]))\n",
        "\n",
        "fig = plt.figure(figsize = (5,5)) \n",
        "ax = fig.add_subplot(111)\n",
        "ax.imshow(img[0])"
      ],
      "execution_count": 9,
      "outputs": [
        {
          "output_type": "stream",
          "text": [
            "Class name: P\n"
          ],
          "name": "stdout"
        },
        {
          "output_type": "execute_result",
          "data": {
            "text/plain": [
              "<matplotlib.image.AxesImage at 0x7f73a2cc9e80>"
            ]
          },
          "metadata": {
            "tags": []
          },
          "execution_count": 9
        },
        {
          "output_type": "display_data",
          "data": {
            "image/png": "[encoded data removed]",
            "text/plain": [
              "<Figure size 360x360 with 1 Axes>"
            ]
          },
          "metadata": {
            "tags": [],
            "needs_background": "light"
          }
        }
      ]
    },
    {
      "cell_type": "code",
      "metadata": {
        "id": "LMbDr5k1BOPE",
        "colab_type": "code",
        "colab": {}
      },
      "source": [
        "train_losses = []\n",
        "train_counter = []\n",
        "test_losses = []\n",
        "test_counter = [i*len(train_loader.dataset) for i in range(10 + 1)]"
      ],
      "execution_count": 0,
      "outputs": []
    },
    {
      "cell_type": "code",
      "metadata": {
        "id": "aCwc6dI0BfdU",
        "colab_type": "code",
        "colab": {}
      },
      "source": [
        "!mkdir results"
      ],
      "execution_count": 0,
      "outputs": []
    },
    {
      "cell_type": "code",
      "metadata": {
        "id": "WNsrIgqgbT15",
        "colab_type": "code",
        "colab": {}
      },
      "source": [
        "def name_to_int(data):\n",
        "\n",
        "  switcher = {\n",
        "      'A': 1,\n",
        "      'B': 2,\n",
        "      'C': 3,\n",
        "      'A_small': 1,\n",
        "      'P': 2,\n",
        "      'u': 3\n",
        "  }\n",
        "\n",
        "  new_data = []\n",
        "\n",
        "  for dt in data:\n",
        "    new_data.append(switcher.get(dt))\n",
        "\n",
        "  return new_data\n",
        "\n",
        "def get_max_from_tensor(data):\n",
        "  maxVal = data[0]\n",
        "  maxId = 0\n",
        "  for i in range(len(data)):\n",
        "    if(data[i] > maxVal):\n",
        "      maxVal = data[i]\n",
        "      maxId = i\n",
        "\n",
        "  return maxId + 1"
      ],
      "execution_count": 0,
      "outputs": []
    },
    {
      "cell_type": "code",
      "metadata": {
        "id": "MT60UZQ5sQvj",
        "colab_type": "code",
        "outputId": "1e67a9d9-2a46-4d7f-d4d0-e22d2097c50a",
        "colab": {
          "base_uri": "https://localhost:8080/",
          "height": 1000
        }
      },
      "source": [
        "def train(train_loader, val_loader, epoch_amount, save_checkpoint = 10):\n",
        "  network.eval()\n",
        "  train_loss_hist = []\n",
        "  val_loss_hist = []\n",
        "\n",
        "  other_train_loss_hist = []\n",
        "\n",
        "  checkpoint = save_checkpoint\n",
        "  for epoch in range(epoch_amount):\n",
        "    num_images_train = 0\n",
        "    num_other_images_train = 0\n",
        "\n",
        "    # TRAINING DATASET\n",
        "    correct = 0\n",
        "    other_correct = 0\n",
        "    for data in train_loader:\n",
        "      images = data['image']\n",
        "      labels = torch.from_numpy(np.array(name_to_int(data['class_name'])))\n",
        "\n",
        "      lossSum = 0\n",
        "      for idx in range(len(images)):\n",
        "        optimizer.zero_grad()\n",
        "\n",
        "        outputs = network(images[idx].cuda().flatten().float())\n",
        "\n",
        "        maxIdx = get_max_from_tensor(outputs)\n",
        "        real_value = np.repeat(-10, num_of_classes)\n",
        "        real_value[labels[idx] - 1] = 10\n",
        "        loss = criterion(outputs.cuda(), torch.Tensor(real_value).cuda()) \n",
        "        \n",
        "        loss.backward()\n",
        "\n",
        "        lossSum += loss.item()\n",
        "        train_loss_hist.append(lossSum)\n",
        "\n",
        "        optimizer.step()\n",
        "\n",
        "    # TRAINING FOR OTHER DATASET\n",
        "    for data in other_train_loader:\n",
        "      images = data['image']\n",
        "\n",
        "      lossSum = 0\n",
        "      for idx in range(len(images)):\n",
        "        optimizer.zero_grad()\n",
        "\n",
        "        outputs = network(images[idx].cuda().flatten().float())\n",
        "\n",
        "        real_value = np.repeat(-10, num_of_classes)\n",
        "        loss = criterion(outputs.cuda(), torch.Tensor(real_value).cuda()) \n",
        "\n",
        "        loss.backward()\n",
        "\n",
        "        lossSum += loss.item()\n",
        "        other_train_loss_hist.append(lossSum)\n",
        "\n",
        "        optimizer.step()\n",
        "\n",
        "    # VALIDATION\n",
        "    for data in val_loader:\n",
        "      images = data['image']\n",
        "      labels = torch.from_numpy(np.array(name_to_int(data['class_name'])))\n",
        "\n",
        "      num_images_train = len(images)\n",
        "\n",
        "      images.cuda()\n",
        "      labels.cuda()\n",
        "\n",
        "      lossSum = 0\n",
        "      for idx in range(len(images)):\n",
        "        optimizer.zero_grad()\n",
        "\n",
        "        outputs = network(images[idx].cuda().flatten().float())\n",
        "\n",
        "        if(labels[idx] == get_max_from_tensor(outputs)):\n",
        "          correct += 1\n",
        "\n",
        "        maxIdx = get_max_from_tensor(outputs)\n",
        "        real_value = np.repeat(-10, num_of_classes)\n",
        "        real_value[labels[idx] - 1] = 10\n",
        "        loss = criterion(outputs.cuda(), torch.Tensor(real_value).cuda()) \n",
        "\n",
        "        lossSum += loss.item()\n",
        "        val_loss_hist.append(lossSum)\n",
        "\n",
        "    print(\"Epoch: {} Training loss: {} Eval loss: {} Other DB loss: {} Correct: {}%\".format(epoch,train_loss_hist[len(train_loss_hist) - 1],val_loss_hist[len(val_loss_hist) - 1], other_train_loss_hist[len(other_train_loss_hist) - 1], correct*100/num_images_train))\n",
        "\n",
        "    if(checkpoint == 0):\n",
        "      torch.save(network.state_dict(), '/content/results/model.pth')\n",
        "      torch.save(optimizer.state_dict(), '/content/results/optimizer.pth')\n",
        "\n",
        "      checkpoint = save_checkpoint\n",
        "    else:\n",
        "      checkpoint -= 1\n",
        "\n",
        "train(train_loader, val_loader, 100, 5)"
      ],
      "execution_count": 26,
      "outputs": [
        {
          "output_type": "stream",
          "text": [
            "Epoch: 0 Training loss: 133.32186107034795 Eval loss: 2250.549775123596 Other DB loss: 90.50338265509345 Correct: 94.23076923076923%\n",
            "Epoch: 1 Training loss: 80.86398392636329 Eval loss: 2808.1729412078857 Other DB loss: 131.23813959932886 Correct: 90.38461538461539%\n",
            "Epoch: 2 Training loss: 131.33784662140533 Eval loss: 2275.071533679962 Other DB loss: 83.4024684263859 Correct: 94.23076923076923%\n",
            "Epoch: 3 Training loss: 75.89037290983833 Eval loss: 2580.926184654236 Other DB loss: 104.6186880460009 Correct: 88.46153846153847%\n",
            "Epoch: 4 Training loss: 152.01691896514967 Eval loss: 2436.654842853546 Other DB loss: 94.28518627234735 Correct: 90.38461538461539%\n",
            "Epoch: 5 Training loss: 89.9847984323278 Eval loss: 2314.238767147064 Other DB loss: 80.04830390866846 Correct: 90.38461538461539%\n",
            "Epoch: 6 Training loss: 85.64265008154325 Eval loss: 2286.7923216819763 Other DB loss: 94.32614778354764 Correct: 86.53846153846153%\n",
            "Epoch: 7 Training loss: 133.93548855697736 Eval loss: 2374.621413707733 Other DB loss: 91.90158817451447 Correct: 90.38461538461539%\n",
            "Epoch: 8 Training loss: 97.93985583772883 Eval loss: 2132.8125824928284 Other DB loss: 86.19165643490851 Correct: 92.3076923076923%\n",
            "Epoch: 9 Training loss: 72.37307650782168 Eval loss: 2063.062621116638 Other DB loss: 73.14156835898757 Correct: 88.46153846153847%\n",
            "Epoch: 10 Training loss: 67.12263427581638 Eval loss: 2429.8769912719727 Other DB loss: 87.56412196380552 Correct: 94.23076923076923%\n",
            "Epoch: 11 Training loss: 81.40458511700854 Eval loss: 2014.2592182159424 Other DB loss: 67.9808023996884 Correct: 94.23076923076923%\n",
            "Epoch: 12 Training loss: 58.66527687886264 Eval loss: 2021.5367856025696 Other DB loss: 63.015173866413534 Correct: 92.3076923076923%\n",
            "Epoch: 13 Training loss: 55.56194335850887 Eval loss: 2118.2413024902344 Other DB loss: 72.15117358774296 Correct: 86.53846153846153%\n",
            "Epoch: 14 Training loss: 74.95839063753374 Eval loss: 2424.5899047851562 Other DB loss: 81.10789207881317 Correct: 84.61538461538461%\n",
            "Epoch: 15 Training loss: 162.89662549784407 Eval loss: 2154.1181225776672 Other DB loss: 68.92365013324888 Correct: 94.23076923076923%\n",
            "Epoch: 16 Training loss: 71.52550635911757 Eval loss: 2254.5145721435547 Other DB loss: 75.55630044275313 Correct: 92.3076923076923%\n",
            "Epoch: 17 Training loss: 65.70182813005522 Eval loss: 2132.874059200287 Other DB loss: 66.97328754304908 Correct: 92.3076923076923%\n",
            "Epoch: 18 Training loss: 55.243932395474985 Eval loss: 1823.832738161087 Other DB loss: 58.26399170231889 Correct: 94.23076923076923%\n",
            "Epoch: 19 Training loss: 61.03558211401105 Eval loss: 2343.170943260193 Other DB loss: 82.41156755971315 Correct: 92.3076923076923%\n",
            "Epoch: 20 Training loss: 77.5003959556343 Eval loss: 2160.846405982971 Other DB loss: 70.58893889305182 Correct: 90.38461538461539%\n",
            "Epoch: 21 Training loss: 71.59087999793701 Eval loss: 2228.33331823349 Other DB loss: 82.04034063988365 Correct: 92.3076923076923%\n",
            "Epoch: 22 Training loss: 64.41472416347824 Eval loss: 2029.1284174919128 Other DB loss: 56.32648208353203 Correct: 92.3076923076923%\n",
            "Epoch: 23 Training loss: 58.671992858406156 Eval loss: 1926.1750602722168 Other DB loss: 56.96785413729958 Correct: 94.23076923076923%\n",
            "Epoch: 24 Training loss: 59.49902481841855 Eval loss: 1892.799369096756 Other DB loss: 59.26608807966113 Correct: 92.3076923076923%\n",
            "Epoch: 25 Training loss: 45.18412550678477 Eval loss: 1849.1020576953888 Other DB loss: 50.640885181957856 Correct: 92.3076923076923%\n",
            "Epoch: 26 Training loss: 43.90911792642146 Eval loss: 1870.977213859558 Other DB loss: 46.39932824429707 Correct: 92.3076923076923%\n",
            "Epoch: 27 Training loss: 45.14271310705226 Eval loss: 1862.9486532211304 Other DB loss: 46.7585290428251 Correct: 94.23076923076923%\n",
            "Epoch: 28 Training loss: 76.11897157944622 Eval loss: 1805.5540223121643 Other DB loss: 46.487878070023726 Correct: 94.23076923076923%\n",
            "Epoch: 29 Training loss: 53.13646368222544 Eval loss: 1932.168653011322 Other DB loss: 51.30761643772712 Correct: 86.53846153846153%\n",
            "Epoch: 30 Training loss: 46.051130435662344 Eval loss: 2538.244639635086 Other DB loss: 68.07186531811021 Correct: 86.53846153846153%\n",
            "Epoch: 31 Training loss: 149.11752066906774 Eval loss: 2218.822397708893 Other DB loss: 79.29464676656062 Correct: 86.53846153846153%\n",
            "Epoch: 32 Training loss: 60.07285505509935 Eval loss: 2269.59476685524 Other DB loss: 64.81573029066203 Correct: 92.3076923076923%\n",
            "Epoch: 33 Training loss: 135.32484189595561 Eval loss: 1864.6480221748352 Other DB loss: 50.04324951628223 Correct: 94.23076923076923%\n",
            "Epoch: 34 Training loss: 43.61307559139095 Eval loss: 1875.437604188919 Other DB loss: 44.5900393120246 Correct: 92.3076923076923%\n",
            "Epoch: 35 Training loss: 39.76647663640324 Eval loss: 2394.26766872406 Other DB loss: 53.58975927752908 Correct: 94.23076923076923%\n",
            "Epoch: 36 Training loss: 69.82559443160426 Eval loss: 1914.7744028568268 Other DB loss: 43.58364188083215 Correct: 92.3076923076923%\n",
            "Epoch: 37 Training loss: 45.73370722733671 Eval loss: 2107.4370839595795 Other DB loss: 45.49874372826889 Correct: 92.3076923076923%\n",
            "Epoch: 38 Training loss: 49.648457027971745 Eval loss: 2049.747275829315 Other DB loss: 42.59151877253316 Correct: 90.38461538461539%\n",
            "Epoch: 39 Training loss: 70.87639453972224 Eval loss: 1850.3231468200684 Other DB loss: 40.99648187472485 Correct: 92.3076923076923%\n",
            "Epoch: 40 Training loss: 39.68195581238251 Eval loss: 1836.5335657596588 Other DB loss: 37.472180248907534 Correct: 92.3076923076923%\n",
            "Epoch: 41 Training loss: 77.60607197904028 Eval loss: 1916.2254445552826 Other DB loss: 44.44071632332634 Correct: 92.3076923076923%\n",
            "Epoch: 42 Training loss: 42.35311134788208 Eval loss: 1862.6823761463165 Other DB loss: 37.498365069623105 Correct: 94.23076923076923%\n",
            "Epoch: 43 Training loss: 40.756852051243186 Eval loss: 1799.4631524085999 Other DB loss: 35.442367149255006 Correct: 94.23076923076923%\n",
            "Epoch: 44 Training loss: 34.23977381869918 Eval loss: 1862.6797354221344 Other DB loss: 37.05256304232171 Correct: 92.3076923076923%\n",
            "Epoch: 45 Training loss: 37.3103936042171 Eval loss: 1815.449731349945 Other DB loss: 37.0091805132397 Correct: 92.3076923076923%\n",
            "Epoch: 46 Training loss: 28.466327459842432 Eval loss: 2151.6244382858276 Other DB loss: 43.03370781771082 Correct: 92.3076923076923%\n",
            "Epoch: 47 Training loss: 116.41705734329298 Eval loss: 1696.5429456233978 Other DB loss: 37.71569974592421 Correct: 92.3076923076923%\n",
            "Epoch: 48 Training loss: 40.02712587849237 Eval loss: 1655.8895344734192 Other DB loss: 35.31772178976098 Correct: 94.23076923076923%\n",
            "Epoch: 49 Training loss: 31.42466355243232 Eval loss: 1877.8335583209991 Other DB loss: 37.02436232089531 Correct: 92.3076923076923%\n",
            "Epoch: 50 Training loss: 33.69299250131007 Eval loss: 1836.0878829956055 Other DB loss: 33.5072673320974 Correct: 94.23076923076923%\n",
            "Epoch: 51 Training loss: 33.422899807221256 Eval loss: 1995.3051619529724 Other DB loss: 37.067483398961485 Correct: 92.3076923076923%\n",
            "Epoch: 52 Training loss: 56.733366253378335 Eval loss: 1985.2594220638275 Other DB loss: 56.35900482389843 Correct: 88.46153846153847%\n",
            "Epoch: 53 Training loss: 43.987854070204776 Eval loss: 1655.357277393341 Other DB loss: 33.57547607639572 Correct: 92.3076923076923%\n",
            "Epoch: 54 Training loss: 26.506410620640963 Eval loss: 1756.597143650055 Other DB loss: 33.268822858750354 Correct: 92.3076923076923%\n",
            "Epoch: 55 Training loss: 29.331619373639114 Eval loss: 1603.3186694383621 Other DB loss: 28.55447228392586 Correct: 92.3076923076923%\n",
            "Epoch: 56 Training loss: 45.3047051547328 Eval loss: 1840.8991482257843 Other DB loss: 34.64101877971552 Correct: 92.3076923076923%\n",
            "Epoch: 57 Training loss: 35.737994381110184 Eval loss: 1846.6791779994965 Other DB loss: 35.06487836904125 Correct: 92.3076923076923%\n",
            "Epoch: 58 Training loss: 40.07631130506343 Eval loss: 1709.8879979848862 Other DB loss: 28.227708258433267 Correct: 94.23076923076923%\n",
            "Epoch: 59 Training loss: 33.29392659725272 Eval loss: 1839.324171423912 Other DB loss: 32.36406636110041 Correct: 90.38461538461539%\n",
            "Epoch: 60 Training loss: 36.43485688336659 Eval loss: 1619.4582424163818 Other DB loss: 28.167195548463496 Correct: 92.3076923076923%\n",
            "Epoch: 61 Training loss: 23.389503597514704 Eval loss: 2110.3733756542206 Other DB loss: 35.44154152710689 Correct: 94.23076923076923%\n",
            "Epoch: 62 Training loss: 35.25961381022353 Eval loss: 1643.0754364728928 Other DB loss: 25.710829282084887 Correct: 92.3076923076923%\n",
            "Epoch: 63 Training loss: 34.903266400506254 Eval loss: 1653.0779210329056 Other DB loss: 27.160109153366648 Correct: 96.15384615384616%\n",
            "Epoch: 64 Training loss: 26.58441821447923 Eval loss: 1641.247211933136 Other DB loss: 21.86234306334518 Correct: 94.23076923076923%\n",
            "Epoch: 65 Training loss: 27.375736403177143 Eval loss: 1566.624709367752 Other DB loss: 26.983003476394515 Correct: 94.23076923076923%\n",
            "Epoch: 66 Training loss: 23.526405574171804 Eval loss: 1790.329253435135 Other DB loss: 29.458749848243315 Correct: 94.23076923076923%\n",
            "Epoch: 67 Training loss: 30.18682907067705 Eval loss: 2062.7291291952133 Other DB loss: 39.56756077631144 Correct: 92.3076923076923%\n",
            "Epoch: 68 Training loss: 39.106201336486265 Eval loss: 1769.9195952415466 Other DB loss: 28.493386963615194 Correct: 90.38461538461539%\n",
            "Epoch: 69 Training loss: 26.03992816293612 Eval loss: 1716.9516288042068 Other DB loss: 23.41213187284302 Correct: 94.23076923076923%\n",
            "Epoch: 70 Training loss: 29.34963692515157 Eval loss: 1743.2914754152298 Other DB loss: 27.065173126000445 Correct: 92.3076923076923%\n",
            "Epoch: 71 Training loss: 23.002149418578483 Eval loss: 1735.260293006897 Other DB loss: 24.76804316532798 Correct: 94.23076923076923%\n",
            "Epoch: 72 Training loss: 30.74127157847397 Eval loss: 1873.5001003742218 Other DB loss: 27.700638650741894 Correct: 94.23076923076923%\n",
            "Epoch: 73 Training loss: 41.206087744852994 Eval loss: 2093.7235420942307 Other DB loss: 41.96792032587109 Correct: 92.3076923076923%\n",
            "Epoch: 74 Training loss: 45.27556808158988 Eval loss: 1596.877895116806 Other DB loss: 23.506619651714573 Correct: 92.3076923076923%\n",
            "Epoch: 75 Training loss: 22.033381009707227 Eval loss: 1617.6325097084045 Other DB loss: 22.146449794061482 Correct: 96.15384615384616%\n",
            "Epoch: 76 Training loss: 22.775194961577654 Eval loss: 1631.5443167686462 Other DB loss: 22.588310488092247 Correct: 92.3076923076923%\n",
            "Epoch: 77 Training loss: 20.109070409438573 Eval loss: 1691.9275990724564 Other DB loss: 21.135554895212408 Correct: 92.3076923076923%\n",
            "Epoch: 78 Training loss: 23.331856085453182 Eval loss: 1642.177795290947 Other DB loss: 21.302655923514976 Correct: 92.3076923076923%\n",
            "Epoch: 79 Training loss: 18.875279276631773 Eval loss: 1586.8227190971375 Other DB loss: 19.866160683333874 Correct: 94.23076923076923%\n",
            "Epoch: 80 Training loss: 16.26568514300743 Eval loss: 1627.8950234651566 Other DB loss: 20.44474741059821 Correct: 92.3076923076923%\n",
            "Epoch: 81 Training loss: 21.173090596916154 Eval loss: 1952.6287519931793 Other DB loss: 25.565913214813918 Correct: 90.38461538461539%\n",
            "Epoch: 82 Training loss: 69.69029022392351 Eval loss: 1665.5714906454086 Other DB loss: 22.136224828020204 Correct: 92.3076923076923%\n",
            "Epoch: 83 Training loss: 25.792950560571626 Eval loss: 1650.9523384571075 Other DB loss: 18.08639417192171 Correct: 94.23076923076923%\n",
            "Epoch: 84 Training loss: 20.578238221874926 Eval loss: 1692.2686894536018 Other DB loss: 20.159627354616532 Correct: 94.23076923076923%\n",
            "Epoch: 85 Training loss: 21.112069504742976 Eval loss: 1619.1497336626053 Other DB loss: 18.827099426067434 Correct: 92.3076923076923%\n",
            "Epoch: 86 Training loss: 18.550829544576118 Eval loss: 1573.3300079107285 Other DB loss: 16.369213057565503 Correct: 94.23076923076923%\n",
            "Epoch: 87 Training loss: 16.19270025813603 Eval loss: 1619.487826347351 Other DB loss: 16.982853229157627 Correct: 96.15384615384616%\n",
            "Epoch: 88 Training loss: 15.31647337769391 Eval loss: 1569.754334807396 Other DB loss: 18.230157893005526 Correct: 94.23076923076923%\n",
            "Epoch: 89 Training loss: 15.083130264130887 Eval loss: 1593.4717173576355 Other DB loss: 17.5417349596828 Correct: 92.3076923076923%\n",
            "Epoch: 90 Training loss: 18.547907441097777 Eval loss: 1606.9381983876228 Other DB loss: 17.104799940541852 Correct: 92.3076923076923%\n",
            "Epoch: 91 Training loss: 17.264271483425546 Eval loss: 1606.459145963192 Other DB loss: 17.744368331419537 Correct: 92.3076923076923%\n",
            "Epoch: 92 Training loss: 15.159623014042154 Eval loss: 1575.6394119262695 Other DB loss: 17.692144304310204 Correct: 94.23076923076923%\n",
            "Epoch: 93 Training loss: 14.247876275214367 Eval loss: 1565.0103256702423 Other DB loss: 17.316639278666116 Correct: 94.23076923076923%\n",
            "Epoch: 94 Training loss: 13.312400340619206 Eval loss: 1527.132966697216 Other DB loss: 16.539108804950956 Correct: 94.23076923076923%\n",
            "Epoch: 95 Training loss: 13.726636075763963 Eval loss: 1521.5146489739418 Other DB loss: 14.749193729134277 Correct: 94.23076923076923%\n",
            "Epoch: 96 Training loss: 12.488079259055667 Eval loss: 1557.695929646492 Other DB loss: 14.278263075917494 Correct: 94.23076923076923%\n",
            "Epoch: 97 Training loss: 13.39165345323272 Eval loss: 1485.6049373149872 Other DB loss: 14.804230832407484 Correct: 94.23076923076923%\n",
            "Epoch: 98 Training loss: 11.410247650404926 Eval loss: 1485.766852259636 Other DB loss: 14.36676579498453 Correct: 94.23076923076923%\n",
            "Epoch: 99 Training loss: 10.917064519049745 Eval loss: 1513.01136636734 Other DB loss: 12.638045384199359 Correct: 94.23076923076923%\n"
          ],
          "name": "stdout"
        }
      ]
    },
    {
      "cell_type": "markdown",
      "metadata": {
        "id": "t7n4tDiZsvAs",
        "colab_type": "text"
      },
      "source": [
        "## Detecting empty image"
      ]
    },
    {
      "cell_type": "code",
      "metadata": {
        "id": "nSTdUp1O1bak",
        "colab_type": "code",
        "outputId": "ca9600f2-057b-43a3-8176-57cd8d51d49c",
        "colab": {
          "base_uri": "https://localhost:8080/",
          "height": 85
        }
      },
      "source": [
        "empty_image = io.imread('/content/Lithuanian_OCR/Data/white.jpg')\n",
        "empty_image = rgb2gray(empty_image)\n",
        "output = network(torch.Tensor(empty_image).cuda().flatten().float())\n",
        "print(output)\n",
        "print(get_max_from_tensor(output))\n",
        "print(output[get_max_from_tensor(output) - 1])\n",
        "\n",
        "prob_treshold = output[get_max_from_tensor(output) - 1].item()\n",
        "print(prob_treshold)"
      ],
      "execution_count": 27,
      "outputs": [
        {
          "output_type": "stream",
          "text": [
            "tensor([-13.3847, -13.3939, -13.4682], device='cuda:0', grad_fn=<AddBackward0>)\n",
            "1\n",
            "tensor(-13.3847, device='cuda:0', grad_fn=<SelectBackward>)\n",
            "-13.384712219238281\n"
          ],
          "name": "stdout"
        }
      ]
    },
    {
      "cell_type": "markdown",
      "metadata": {
        "id": "qYul-0J0szAt",
        "colab_type": "text"
      },
      "source": [
        "## Detecting images from other datasets"
      ]
    },
    {
      "cell_type": "code",
      "metadata": {
        "id": "uG-7pkvtsQC_",
        "colab_type": "code",
        "colab": {}
      },
      "source": [
        "prob_sum = 0\n",
        "\n",
        "detected_probs = []\n",
        "\n",
        "for data in other_val_loader:\n",
        "  images = data['image']\n",
        "  labels = torch.from_numpy(np.array(name_to_int(data['class_name'])))\n",
        "\n",
        "  for i in range(len(images)):\n",
        "    output = network(images[i].cuda().flatten().float())\n",
        "    prob = output[get_max_from_tensor(output) - 1].item()\n",
        "    prob_sum += prob\n",
        "    detected_probs.append(prob)\n",
        "\n",
        "prob_average = prob_sum/len(other_val_dataset)\n",
        "\n",
        "if prob_average > prob_treshold:\n",
        "  prob_treshold = prob_average"
      ],
      "execution_count": 0,
      "outputs": []
    },
    {
      "cell_type": "code",
      "metadata": {
        "id": "mLlwCfdpyZcg",
        "colab_type": "code",
        "colab": {
          "base_uri": "https://localhost:8080/",
          "height": 153
        },
        "outputId": "f002b197-31a5-4d68-8f6e-708d3517a7fa"
      },
      "source": [
        "counter = 0\n",
        "\n",
        "for i in detected_probs:\n",
        "  if(i > prob_treshold):\n",
        "    counter += 1\n",
        "    print(\"False {}\".format(i))\n",
        "\n",
        "print()\n",
        "print(\"Treshold: {}\".format(prob_treshold))\n",
        "print(\"Accuracy: {}%\".format(100*(len(detected_probs)-counter)/len(detected_probs)))"
      ],
      "execution_count": 32,
      "outputs": [
        {
          "output_type": "stream",
          "text": [
            "False -7.31141471862793\n",
            "False -2.627504587173462\n",
            "False 2.1341350078582764\n",
            "False -7.6790361404418945\n",
            "False -2.363929271697998\n",
            "\n",
            "Treshold: -7.8626912169986305\n",
            "Accuracy: 86.11111111111111%\n"
          ],
          "name": "stdout"
        }
      ]
    },
    {
      "cell_type": "code",
      "metadata": {
        "id": "rTDMpC0VycZS",
        "colab_type": "code",
        "colab": {}
      },
      "source": [
        "prob_treshold += 1"
      ],
      "execution_count": 0,
      "outputs": []
    },
    {
      "cell_type": "markdown",
      "metadata": {
        "id": "CfDeUsDHs2Ge",
        "colab_type": "text"
      },
      "source": [
        "## Detecting images from current dataset"
      ]
    },
    {
      "cell_type": "code",
      "metadata": {
        "id": "aDc8f2aEZ1-c",
        "colab_type": "code",
        "outputId": "6b76868f-8602-4e9a-dcff-3dd75dfc27f3",
        "colab": {
          "base_uri": "https://localhost:8080/",
          "height": 425
        }
      },
      "source": [
        "lowest_prob = 100\n",
        "\n",
        "for data in test_loader:\n",
        "  images = data['image']\n",
        "  labels = torch.from_numpy(np.array(name_to_int(data['class_name'])))\n",
        "\n",
        "  for i in range(len(images)):\n",
        "    output = network(images[i].cuda().flatten().float())\n",
        "    \n",
        "    prob = output[get_max_from_tensor(output) - 1]\n",
        "    if prob < lowest_prob:\n",
        "      lowest_prob = prob\n",
        "\n",
        "    if(get_max_from_tensor(output) == labels[i] and prob > prob_treshold):\n",
        "      print(\"OK: {} == {} Probability: {}\".format(get_max_from_tensor(output), labels[i], prob))\n",
        "    elif(prob < prob_treshold):\n",
        "      print(\"False: Detected empty image on {} with probability: {}\".format(labels[i], prob))\n",
        "    else:\n",
        "      print(\"False: {} == {} Probability: {}\".format(get_max_from_tensor(output), labels[i], prob))\n",
        "\n",
        "print(\"Lowest Probability: {}\".format(lowest_prob))"
      ],
      "execution_count": 33,
      "outputs": [
        {
          "output_type": "stream",
          "text": [
            "OK: 2 == 2 Probability: 12.367485046386719\n",
            "OK: 3 == 3 Probability: -1.2617096900939941\n",
            "OK: 3 == 3 Probability: -6.649481773376465\n",
            "OK: 2 == 2 Probability: 3.204002618789673\n",
            "OK: 3 == 3 Probability: 1.1665053367614746\n",
            "OK: 1 == 1 Probability: -5.09421443939209\n",
            "OK: 2 == 2 Probability: 10.621923446655273\n",
            "OK: 3 == 3 Probability: -1.6232125759124756\n",
            "OK: 3 == 3 Probability: 10.662201881408691\n",
            "OK: 3 == 3 Probability: 8.646599769592285\n",
            "OK: 2 == 2 Probability: 8.553979873657227\n",
            "OK: 1 == 1 Probability: 4.5402679443359375\n",
            "OK: 2 == 2 Probability: 6.985161781311035\n",
            "OK: 1 == 1 Probability: 6.254090785980225\n",
            "OK: 1 == 1 Probability: 10.039584159851074\n",
            "OK: 1 == 1 Probability: 5.480373382568359\n",
            "OK: 2 == 2 Probability: -3.62186861038208\n",
            "OK: 1 == 1 Probability: 3.683255910873413\n",
            "OK: 2 == 2 Probability: 8.045376777648926\n",
            "OK: 1 == 1 Probability: 3.31231427192688\n",
            "OK: 3 == 3 Probability: -5.8235063552856445\n",
            "OK: 2 == 2 Probability: -2.707728862762451\n",
            "OK: 2 == 2 Probability: 13.998620986938477\n",
            "Lowest Probability: -6.649481773376465\n"
          ],
          "name": "stdout"
        }
      ]
    }
  ]
}